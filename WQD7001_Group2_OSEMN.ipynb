{
  "nbformat": 4,
  "nbformat_minor": 0,
  "metadata": {
    "colab": {
      "provenance": [],
      "collapsed_sections": [
        "fzlCTZqnoG3Z"
      ]
    },
    "kernelspec": {
      "name": "ir",
      "display_name": "R"
    },
    "language_info": {
      "name": "R"
    }
  },
  "cells": [
    {
      "cell_type": "markdown",
      "source": [
        "***Stage 1: Obtain Data*** <br>\n",
        "https://www.kaggle.com/datasets/catherinerasgaitis/mxmh-survey-results"
      ],
      "metadata": {
        "id": "lS9CEIkXz9uF"
      }
    },
    {
      "cell_type": "code",
      "source": [
        "# Import raw data\n",
        "df <- read.csv(\"mxmh_survey_results.csv\")"
      ],
      "metadata": {
        "id": "FbDEFYrxXfC3"
      },
      "execution_count": null,
      "outputs": []
    },
    {
      "cell_type": "markdown",
      "source": [
        "***Stage 2: Scrubbing Data***"
      ],
      "metadata": {
        "id": "EsgAA3DUX1nG"
      }
    },
    {
      "cell_type": "code",
      "source": [
        "# Check for dataset information\n",
        "str(df)"
      ],
      "metadata": {
        "colab": {
          "base_uri": "https://localhost:8080/"
        },
        "id": "1vACIIvJIa_5",
        "outputId": "6280b079-6983-40a1-97e0-a6de955f095f"
      },
      "execution_count": null,
      "outputs": [
        {
          "output_type": "stream",
          "name": "stdout",
          "text": [
            "'data.frame':\t736 obs. of  33 variables:\n",
            " $ Timestamp                   : chr  \"8/27/2022 19:29:02\" \"8/27/2022 19:57:31\" \"8/27/2022 21:28:18\" \"8/27/2022 21:40:40\" ...\n",
            " $ Age                         : int  18 63 18 61 18 18 18 21 19 18 ...\n",
            " $ Primary.streaming.service   : chr  \"Spotify\" \"Pandora\" \"Spotify\" \"YouTube Music\" ...\n",
            " $ Hours.per.day               : num  3 1.5 4 2.5 4 5 3 1 6 1 ...\n",
            " $ While.working               : chr  \"Yes\" \"Yes\" \"No\" \"Yes\" ...\n",
            " $ Instrumentalist             : chr  \"Yes\" \"No\" \"No\" \"No\" ...\n",
            " $ Composer                    : chr  \"Yes\" \"No\" \"No\" \"Yes\" ...\n",
            " $ Fav.genre                   : chr  \"Latin\" \"Rock\" \"Video game music\" \"Jazz\" ...\n",
            " $ Exploratory                 : chr  \"Yes\" \"Yes\" \"No\" \"Yes\" ...\n",
            " $ Foreign.languages           : chr  \"Yes\" \"No\" \"Yes\" \"Yes\" ...\n",
            " $ BPM                         : int  156 119 132 84 107 86 66 95 94 155 ...\n",
            " $ Frequency..Classical.       : chr  \"Rarely\" \"Sometimes\" \"Never\" \"Sometimes\" ...\n",
            " $ Frequency..Country.         : chr  \"Never\" \"Never\" \"Never\" \"Never\" ...\n",
            " $ Frequency..EDM.             : chr  \"Rarely\" \"Never\" \"Very frequently\" \"Never\" ...\n",
            " $ Frequency..Folk.            : chr  \"Never\" \"Rarely\" \"Never\" \"Rarely\" ...\n",
            " $ Frequency..Gospel.          : chr  \"Never\" \"Sometimes\" \"Never\" \"Sometimes\" ...\n",
            " $ Frequency..Hip.hop.         : chr  \"Sometimes\" \"Rarely\" \"Rarely\" \"Never\" ...\n",
            " $ Frequency..Jazz.            : chr  \"Never\" \"Very frequently\" \"Rarely\" \"Very frequently\" ...\n",
            " $ Frequency..K.pop.           : chr  \"Very frequently\" \"Rarely\" \"Very frequently\" \"Sometimes\" ...\n",
            " $ Frequency..Latin.           : chr  \"Very frequently\" \"Sometimes\" \"Never\" \"Very frequently\" ...\n",
            " $ Frequency..Lofi.            : chr  \"Rarely\" \"Rarely\" \"Sometimes\" \"Sometimes\" ...\n",
            " $ Frequency..Metal.           : chr  \"Never\" \"Never\" \"Sometimes\" \"Never\" ...\n",
            " $ Frequency..Pop.             : chr  \"Very frequently\" \"Sometimes\" \"Rarely\" \"Sometimes\" ...\n",
            " $ Frequency..R.B.             : chr  \"Sometimes\" \"Sometimes\" \"Never\" \"Sometimes\" ...\n",
            " $ Frequency..Rap.             : chr  \"Very frequently\" \"Rarely\" \"Rarely\" \"Never\" ...\n",
            " $ Frequency..Rock.            : chr  \"Never\" \"Very frequently\" \"Rarely\" \"Never\" ...\n",
            " $ Frequency..Video.game.music.: chr  \"Sometimes\" \"Rarely\" \"Very frequently\" \"Never\" ...\n",
            " $ Anxiety                     : num  3 7 7 9 7 8 4 5 2 2 ...\n",
            " $ Depression                  : num  0 2 7 7 2 8 8 3 0 2 ...\n",
            " $ Insomnia                    : num  1 2 10 3 5 7 6 5 0 5 ...\n",
            " $ OCD                         : num  0 1 2 3 9 7 0 3 0 1 ...\n",
            " $ Music.effects               : chr  \"\" \"\" \"No effect\" \"Improve\" ...\n",
            " $ Permissions                 : chr  \"I understand.\" \"I understand.\" \"I understand.\" \"I understand.\" ...\n"
          ]
        }
      ]
    },
    {
      "cell_type": "code",
      "source": [
        "# Display the top record of the dataset\n",
        "head(df,5)"
      ],
      "metadata": {
        "colab": {
          "base_uri": "https://localhost:8080/",
          "height": 362
        },
        "id": "QwNH8a_MYY1O",
        "outputId": "45d232fe-627c-40cd-93f5-01cb3263b94e"
      },
      "execution_count": null,
      "outputs": [
        {
          "output_type": "display_data",
          "data": {
            "text/html": [
              "<table class=\"dataframe\">\n",
              "<caption>A data.frame: 5 × 33</caption>\n",
              "<thead>\n",
              "\t<tr><th></th><th scope=col>Timestamp</th><th scope=col>Age</th><th scope=col>Primary.streaming.service</th><th scope=col>Hours.per.day</th><th scope=col>While.working</th><th scope=col>Instrumentalist</th><th scope=col>Composer</th><th scope=col>Fav.genre</th><th scope=col>Exploratory</th><th scope=col>Foreign.languages</th><th scope=col>⋯</th><th scope=col>Frequency..R.B.</th><th scope=col>Frequency..Rap.</th><th scope=col>Frequency..Rock.</th><th scope=col>Frequency..Video.game.music.</th><th scope=col>Anxiety</th><th scope=col>Depression</th><th scope=col>Insomnia</th><th scope=col>OCD</th><th scope=col>Music.effects</th><th scope=col>Permissions</th></tr>\n",
              "\t<tr><th></th><th scope=col>&lt;chr&gt;</th><th scope=col>&lt;int&gt;</th><th scope=col>&lt;chr&gt;</th><th scope=col>&lt;dbl&gt;</th><th scope=col>&lt;chr&gt;</th><th scope=col>&lt;chr&gt;</th><th scope=col>&lt;chr&gt;</th><th scope=col>&lt;chr&gt;</th><th scope=col>&lt;chr&gt;</th><th scope=col>&lt;chr&gt;</th><th scope=col>⋯</th><th scope=col>&lt;chr&gt;</th><th scope=col>&lt;chr&gt;</th><th scope=col>&lt;chr&gt;</th><th scope=col>&lt;chr&gt;</th><th scope=col>&lt;dbl&gt;</th><th scope=col>&lt;dbl&gt;</th><th scope=col>&lt;dbl&gt;</th><th scope=col>&lt;dbl&gt;</th><th scope=col>&lt;chr&gt;</th><th scope=col>&lt;chr&gt;</th></tr>\n",
              "</thead>\n",
              "<tbody>\n",
              "\t<tr><th scope=row>1</th><td>8/27/2022 19:29:02</td><td>18</td><td>Spotify      </td><td>3.0</td><td>Yes</td><td>Yes</td><td>Yes</td><td>Latin           </td><td>Yes</td><td>Yes</td><td>⋯</td><td>Sometimes      </td><td>Very frequently</td><td>Never          </td><td>Sometimes      </td><td>3</td><td>0</td><td> 1</td><td>0</td><td>         </td><td>I understand.</td></tr>\n",
              "\t<tr><th scope=row>2</th><td>8/27/2022 19:57:31</td><td>63</td><td>Pandora      </td><td>1.5</td><td>Yes</td><td>No </td><td>No </td><td>Rock            </td><td>Yes</td><td>No </td><td>⋯</td><td>Sometimes      </td><td>Rarely         </td><td>Very frequently</td><td>Rarely         </td><td>7</td><td>2</td><td> 2</td><td>1</td><td>         </td><td>I understand.</td></tr>\n",
              "\t<tr><th scope=row>3</th><td>8/27/2022 21:28:18</td><td>18</td><td>Spotify      </td><td>4.0</td><td>No </td><td>No </td><td>No </td><td>Video game music</td><td>No </td><td>Yes</td><td>⋯</td><td>Never          </td><td>Rarely         </td><td>Rarely         </td><td>Very frequently</td><td>7</td><td>7</td><td>10</td><td>2</td><td>No effect</td><td>I understand.</td></tr>\n",
              "\t<tr><th scope=row>4</th><td>8/27/2022 21:40:40</td><td>61</td><td>YouTube Music</td><td>2.5</td><td>Yes</td><td>No </td><td>Yes</td><td>Jazz            </td><td>Yes</td><td>Yes</td><td>⋯</td><td>Sometimes      </td><td>Never          </td><td>Never          </td><td>Never          </td><td>9</td><td>7</td><td> 3</td><td>3</td><td>Improve  </td><td>I understand.</td></tr>\n",
              "\t<tr><th scope=row>5</th><td>8/27/2022 21:54:47</td><td>18</td><td><span style=white-space:pre-wrap>Spotify      </span></td><td>4.0</td><td>Yes</td><td>No </td><td>No </td><td><span style=white-space:pre-wrap>R&amp;B             </span></td><td>Yes</td><td>No </td><td>⋯</td><td>Very frequently</td><td>Very frequently</td><td><span style=white-space:pre-wrap>Never          </span></td><td><span style=white-space:pre-wrap>Rarely         </span></td><td>7</td><td>2</td><td> 5</td><td>9</td><td><span style=white-space:pre-wrap>Improve  </span></td><td>I understand.</td></tr>\n",
              "</tbody>\n",
              "</table>\n"
            ],
            "text/markdown": "\nA data.frame: 5 × 33\n\n| <!--/--> | Timestamp &lt;chr&gt; | Age &lt;int&gt; | Primary.streaming.service &lt;chr&gt; | Hours.per.day &lt;dbl&gt; | While.working &lt;chr&gt; | Instrumentalist &lt;chr&gt; | Composer &lt;chr&gt; | Fav.genre &lt;chr&gt; | Exploratory &lt;chr&gt; | Foreign.languages &lt;chr&gt; | ⋯ ⋯ | Frequency..R.B. &lt;chr&gt; | Frequency..Rap. &lt;chr&gt; | Frequency..Rock. &lt;chr&gt; | Frequency..Video.game.music. &lt;chr&gt; | Anxiety &lt;dbl&gt; | Depression &lt;dbl&gt; | Insomnia &lt;dbl&gt; | OCD &lt;dbl&gt; | Music.effects &lt;chr&gt; | Permissions &lt;chr&gt; |\n|---|---|---|---|---|---|---|---|---|---|---|---|---|---|---|---|---|---|---|---|---|---|\n| 1 | 8/27/2022 19:29:02 | 18 | Spotify       | 3.0 | Yes | Yes | Yes | Latin            | Yes | Yes | ⋯ | Sometimes       | Very frequently | Never           | Sometimes       | 3 | 0 |  1 | 0 | <!----> | I understand. |\n| 2 | 8/27/2022 19:57:31 | 63 | Pandora       | 1.5 | Yes | No  | No  | Rock             | Yes | No  | ⋯ | Sometimes       | Rarely          | Very frequently | Rarely          | 7 | 2 |  2 | 1 | <!----> | I understand. |\n| 3 | 8/27/2022 21:28:18 | 18 | Spotify       | 4.0 | No  | No  | No  | Video game music | No  | Yes | ⋯ | Never           | Rarely          | Rarely          | Very frequently | 7 | 7 | 10 | 2 | No effect | I understand. |\n| 4 | 8/27/2022 21:40:40 | 61 | YouTube Music | 2.5 | Yes | No  | Yes | Jazz             | Yes | Yes | ⋯ | Sometimes       | Never           | Never           | Never           | 9 | 7 |  3 | 3 | Improve   | I understand. |\n| 5 | 8/27/2022 21:54:47 | 18 | Spotify       | 4.0 | Yes | No  | No  | R&amp;B              | Yes | No  | ⋯ | Very frequently | Very frequently | Never           | Rarely          | 7 | 2 |  5 | 9 | Improve   | I understand. |\n\n",
            "text/latex": "A data.frame: 5 × 33\n\\begin{tabular}{r|lllllllllllllllllllll}\n  & Timestamp & Age & Primary.streaming.service & Hours.per.day & While.working & Instrumentalist & Composer & Fav.genre & Exploratory & Foreign.languages & ⋯ & Frequency..R.B. & Frequency..Rap. & Frequency..Rock. & Frequency..Video.game.music. & Anxiety & Depression & Insomnia & OCD & Music.effects & Permissions\\\\\n  & <chr> & <int> & <chr> & <dbl> & <chr> & <chr> & <chr> & <chr> & <chr> & <chr> & ⋯ & <chr> & <chr> & <chr> & <chr> & <dbl> & <dbl> & <dbl> & <dbl> & <chr> & <chr>\\\\\n\\hline\n\t1 & 8/27/2022 19:29:02 & 18 & Spotify       & 3.0 & Yes & Yes & Yes & Latin            & Yes & Yes & ⋯ & Sometimes       & Very frequently & Never           & Sometimes       & 3 & 0 &  1 & 0 &           & I understand.\\\\\n\t2 & 8/27/2022 19:57:31 & 63 & Pandora       & 1.5 & Yes & No  & No  & Rock             & Yes & No  & ⋯ & Sometimes       & Rarely          & Very frequently & Rarely          & 7 & 2 &  2 & 1 &           & I understand.\\\\\n\t3 & 8/27/2022 21:28:18 & 18 & Spotify       & 4.0 & No  & No  & No  & Video game music & No  & Yes & ⋯ & Never           & Rarely          & Rarely          & Very frequently & 7 & 7 & 10 & 2 & No effect & I understand.\\\\\n\t4 & 8/27/2022 21:40:40 & 61 & YouTube Music & 2.5 & Yes & No  & Yes & Jazz             & Yes & Yes & ⋯ & Sometimes       & Never           & Never           & Never           & 9 & 7 &  3 & 3 & Improve   & I understand.\\\\\n\t5 & 8/27/2022 21:54:47 & 18 & Spotify       & 4.0 & Yes & No  & No  & R\\&B              & Yes & No  & ⋯ & Very frequently & Very frequently & Never           & Rarely          & 7 & 2 &  5 & 9 & Improve   & I understand.\\\\\n\\end{tabular}\n",
            "text/plain": [
              "  Timestamp          Age Primary.streaming.service Hours.per.day While.working\n",
              "1 8/27/2022 19:29:02 18  Spotify                   3.0           Yes          \n",
              "2 8/27/2022 19:57:31 63  Pandora                   1.5           Yes          \n",
              "3 8/27/2022 21:28:18 18  Spotify                   4.0           No           \n",
              "4 8/27/2022 21:40:40 61  YouTube Music             2.5           Yes          \n",
              "5 8/27/2022 21:54:47 18  Spotify                   4.0           Yes          \n",
              "  Instrumentalist Composer Fav.genre        Exploratory Foreign.languages ⋯\n",
              "1 Yes             Yes      Latin            Yes         Yes               ⋯\n",
              "2 No              No       Rock             Yes         No                ⋯\n",
              "3 No              No       Video game music No          Yes               ⋯\n",
              "4 No              Yes      Jazz             Yes         Yes               ⋯\n",
              "5 No              No       R&B              Yes         No                ⋯\n",
              "  Frequency..R.B. Frequency..Rap. Frequency..Rock. Frequency..Video.game.music.\n",
              "1 Sometimes       Very frequently Never            Sometimes                   \n",
              "2 Sometimes       Rarely          Very frequently  Rarely                      \n",
              "3 Never           Rarely          Rarely           Very frequently             \n",
              "4 Sometimes       Never           Never            Never                       \n",
              "5 Very frequently Very frequently Never            Rarely                      \n",
              "  Anxiety Depression Insomnia OCD Music.effects Permissions  \n",
              "1 3       0           1       0                 I understand.\n",
              "2 7       2           2       1                 I understand.\n",
              "3 7       7          10       2   No effect     I understand.\n",
              "4 9       7           3       3   Improve       I understand.\n",
              "5 7       2           5       9   Improve       I understand."
            ]
          },
          "metadata": {}
        }
      ]
    },
    {
      "cell_type": "markdown",
      "source": [
        "# Data cleaning"
      ],
      "metadata": {
        "id": "fzlCTZqnoG3Z"
      }
    },
    {
      "cell_type": "markdown",
      "source": [
        "**Check for Missing Values, Imputation & Deletion**"
      ],
      "metadata": {
        "id": "3-Pg7uiYZ4hP"
      }
    },
    {
      "cell_type": "code",
      "source": [
        "# Check for missing values\n",
        "missing_values <- colSums(is.na(df) | df == \"\")\n",
        "\n",
        "missing_table <- data.frame(Column = names(missing_values), Missing_Values = missing_values, row.names = NULL)\n",
        "\n",
        "missing_table <- data.frame(Column = names(missing_values), Missing_Values = missing_values, row.names = NULL)\n",
        "\n",
        "print(missing_table)\n",
        "\n",
        "# Filter rows with missing values\n",
        "missing_table_1 <- missing_table[missing_table$Missing_Values > 0, ]\n",
        "\n",
        "print(missing_table_1)"
      ],
      "metadata": {
        "colab": {
          "base_uri": "https://localhost:8080/"
        },
        "id": "0FZzXTSEZ-lD",
        "outputId": "435e7857-be47-4a60-dd70-7bc8d708fded"
      },
      "execution_count": null,
      "outputs": [
        {
          "output_type": "stream",
          "name": "stdout",
          "text": [
            "                         Column Missing_Values\n",
            "1                     Timestamp              0\n",
            "2                           Age              1\n",
            "3     Primary.streaming.service              1\n",
            "4                 Hours.per.day              0\n",
            "5                 While.working              3\n",
            "6               Instrumentalist              4\n",
            "7                      Composer              1\n",
            "8                     Fav.genre              0\n",
            "9                   Exploratory              0\n",
            "10            Foreign.languages              4\n",
            "11                          BPM            107\n",
            "12        Frequency..Classical.              0\n",
            "13          Frequency..Country.              0\n",
            "14              Frequency..EDM.              0\n",
            "15             Frequency..Folk.              0\n",
            "16           Frequency..Gospel.              0\n",
            "17          Frequency..Hip.hop.              0\n",
            "18             Frequency..Jazz.              0\n",
            "19            Frequency..K.pop.              0\n",
            "20            Frequency..Latin.              0\n",
            "21             Frequency..Lofi.              0\n",
            "22            Frequency..Metal.              0\n",
            "23              Frequency..Pop.              0\n",
            "24              Frequency..R.B.              0\n",
            "25              Frequency..Rap.              0\n",
            "26             Frequency..Rock.              0\n",
            "27 Frequency..Video.game.music.              0\n",
            "28                      Anxiety              0\n",
            "29                   Depression              0\n",
            "30                     Insomnia              0\n",
            "31                          OCD              0\n",
            "32                Music.effects              8\n",
            "33                  Permissions              0\n",
            "                      Column Missing_Values\n",
            "2                        Age              1\n",
            "3  Primary.streaming.service              1\n",
            "5              While.working              3\n",
            "6            Instrumentalist              4\n",
            "7                   Composer              1\n",
            "10         Foreign.languages              4\n",
            "11                       BPM            107\n",
            "32             Music.effects              8\n"
          ]
        }
      ]
    },
    {
      "cell_type": "code",
      "source": [
        "# Calculate mean values for BPM and Age\n",
        "mean_value_BPM <- mean(df$BPM, na.rm = TRUE)\n",
        "mean_value_Age <- mean(df$Age, na.rm = TRUE)\n",
        "\n",
        "# Replace missing values in the column \"BPM\" with mean value\n",
        "df$BPM[is.na(df$BPM)] <- mean_value_BPM\n",
        "\n",
        "# Replace missing values in the column \"Age\" with mean value\n",
        "df$Age[is.na(df$Age)] <- mean_value_Age\n",
        "\n",
        "# Print mean values\n",
        "print(mean_value_BPM)\n",
        "print(mean_value_Age)"
      ],
      "metadata": {
        "colab": {
          "base_uri": "https://localhost:8080/"
        },
        "id": "4rbr9A3mcW5l",
        "outputId": "ae022364-ba77-4eaa-e488-447617e873b3"
      },
      "execution_count": null,
      "outputs": [
        {
          "output_type": "stream",
          "name": "stdout",
          "text": [
            "[1] 1589948\n",
            "[1] 25.2068\n"
          ]
        }
      ]
    },
    {
      "cell_type": "code",
      "source": [
        "# To confirm the change\n",
        "\n",
        "missing_values <- colSums(is.na(df) | df == \"\")\n",
        "\n",
        "missing_table <- data.frame(Column = names(missing_values), Missing_Values = missing_values, row.names = NULL)\n",
        "\n",
        "missing_table <- missing_table[missing_table$Missing_Values > 0, ]\n",
        "\n",
        "print(missing_table)"
      ],
      "metadata": {
        "id": "7m-VY8IXeCra",
        "colab": {
          "base_uri": "https://localhost:8080/"
        },
        "outputId": "9cc1368e-2d1a-485b-fa5f-64b8a70d2551"
      },
      "execution_count": null,
      "outputs": [
        {
          "output_type": "stream",
          "name": "stdout",
          "text": [
            "                      Column Missing_Values\n",
            "3  Primary.streaming.service              1\n",
            "5              While.working              3\n",
            "6            Instrumentalist              4\n",
            "7                   Composer              1\n",
            "10         Foreign.languages              4\n",
            "32             Music.effects              8\n"
          ]
        }
      ]
    },
    {
      "cell_type": "code",
      "source": [
        "# Drop rows with missing value & confirm the change\n",
        "\n",
        "df1 <- df[!(rowSums(is.na(df) | df == \"\") > 0), ]\n",
        "\n",
        "missing_values <- colSums(is.na(df1) | df1 == \"\")\n",
        "\n",
        "missing_table <- data.frame(Column = names(missing_values), Missing_Values = missing_values, row.names = NULL)\n",
        "\n",
        "print(missing_table)"
      ],
      "metadata": {
        "id": "S22O2k0PgQe_",
        "colab": {
          "base_uri": "https://localhost:8080/"
        },
        "outputId": "6d41f27e-d969-42d3-a0d9-62813cf4f563"
      },
      "execution_count": null,
      "outputs": [
        {
          "output_type": "stream",
          "name": "stdout",
          "text": [
            "                         Column Missing_Values\n",
            "1                     Timestamp              0\n",
            "2                           Age              0\n",
            "3     Primary.streaming.service              0\n",
            "4                 Hours.per.day              0\n",
            "5                 While.working              0\n",
            "6               Instrumentalist              0\n",
            "7                      Composer              0\n",
            "8                     Fav.genre              0\n",
            "9                   Exploratory              0\n",
            "10            Foreign.languages              0\n",
            "11                          BPM              0\n",
            "12        Frequency..Classical.              0\n",
            "13          Frequency..Country.              0\n",
            "14              Frequency..EDM.              0\n",
            "15             Frequency..Folk.              0\n",
            "16           Frequency..Gospel.              0\n",
            "17          Frequency..Hip.hop.              0\n",
            "18             Frequency..Jazz.              0\n",
            "19            Frequency..K.pop.              0\n",
            "20            Frequency..Latin.              0\n",
            "21             Frequency..Lofi.              0\n",
            "22            Frequency..Metal.              0\n",
            "23              Frequency..Pop.              0\n",
            "24              Frequency..R.B.              0\n",
            "25              Frequency..Rap.              0\n",
            "26             Frequency..Rock.              0\n",
            "27 Frequency..Video.game.music.              0\n",
            "28                      Anxiety              0\n",
            "29                   Depression              0\n",
            "30                     Insomnia              0\n",
            "31                          OCD              0\n",
            "32                Music.effects              0\n",
            "33                  Permissions              0\n"
          ]
        }
      ]
    },
    {
      "cell_type": "markdown",
      "source": [
        "**Standardise data formatting, remove duplicate values and redundant columns**"
      ],
      "metadata": {
        "id": "5j-Q8vSFuUt2"
      }
    },
    {
      "cell_type": "code",
      "source": [
        "# Display information about the dataset\n",
        "str(df1)"
      ],
      "metadata": {
        "id": "tWI3LAMyhBtj",
        "colab": {
          "base_uri": "https://localhost:8080/"
        },
        "outputId": "3f26cce0-78c3-4933-a210-b443c46da6b8"
      },
      "execution_count": null,
      "outputs": [
        {
          "output_type": "stream",
          "name": "stdout",
          "text": [
            "'data.frame':\t719 obs. of  33 variables:\n",
            " $ Timestamp                   : chr  \"8/27/2022 21:28:18\" \"8/27/2022 21:40:40\" \"8/27/2022 21:54:47\" \"8/27/2022 21:56:50\" ...\n",
            " $ Age                         : num  18 61 18 18 18 21 19 18 18 19 ...\n",
            " $ Primary.streaming.service   : chr  \"Spotify\" \"YouTube Music\" \"Spotify\" \"Spotify\" ...\n",
            " $ Hours.per.day               : num  4 2.5 4 5 3 1 6 1 3 8 ...\n",
            " $ While.working               : chr  \"No\" \"Yes\" \"Yes\" \"Yes\" ...\n",
            " $ Instrumentalist             : chr  \"No\" \"No\" \"No\" \"Yes\" ...\n",
            " $ Composer                    : chr  \"No\" \"Yes\" \"No\" \"Yes\" ...\n",
            " $ Fav.genre                   : chr  \"Video game music\" \"Jazz\" \"R&B\" \"Jazz\" ...\n",
            " $ Exploratory                 : chr  \"No\" \"Yes\" \"Yes\" \"Yes\" ...\n",
            " $ Foreign.languages           : chr  \"Yes\" \"Yes\" \"No\" \"Yes\" ...\n",
            " $ BPM                         : num  132 84 107 86 66 ...\n",
            " $ Frequency..Classical.       : chr  \"Never\" \"Sometimes\" \"Never\" \"Rarely\" ...\n",
            " $ Frequency..Country.         : chr  \"Never\" \"Never\" \"Never\" \"Sometimes\" ...\n",
            " $ Frequency..EDM.             : chr  \"Very frequently\" \"Never\" \"Rarely\" \"Never\" ...\n",
            " $ Frequency..Folk.            : chr  \"Never\" \"Rarely\" \"Never\" \"Never\" ...\n",
            " $ Frequency..Gospel.          : chr  \"Never\" \"Sometimes\" \"Rarely\" \"Never\" ...\n",
            " $ Frequency..Hip.hop.         : chr  \"Rarely\" \"Never\" \"Very frequently\" \"Sometimes\" ...\n",
            " $ Frequency..Jazz.            : chr  \"Rarely\" \"Very frequently\" \"Never\" \"Very frequently\" ...\n",
            " $ Frequency..K.pop.           : chr  \"Very frequently\" \"Sometimes\" \"Very frequently\" \"Very frequently\" ...\n",
            " $ Frequency..Latin.           : chr  \"Never\" \"Very frequently\" \"Sometimes\" \"Rarely\" ...\n",
            " $ Frequency..Lofi.            : chr  \"Sometimes\" \"Sometimes\" \"Sometimes\" \"Very frequently\" ...\n",
            " $ Frequency..Metal.           : chr  \"Sometimes\" \"Never\" \"Never\" \"Rarely\" ...\n",
            " $ Frequency..Pop.             : chr  \"Rarely\" \"Sometimes\" \"Sometimes\" \"Very frequently\" ...\n",
            " $ Frequency..R.B.             : chr  \"Never\" \"Sometimes\" \"Very frequently\" \"Very frequently\" ...\n",
            " $ Frequency..Rap.             : chr  \"Rarely\" \"Never\" \"Very frequently\" \"Very frequently\" ...\n",
            " $ Frequency..Rock.            : chr  \"Rarely\" \"Never\" \"Never\" \"Very frequently\" ...\n",
            " $ Frequency..Video.game.music.: chr  \"Very frequently\" \"Never\" \"Rarely\" \"Never\" ...\n",
            " $ Anxiety                     : num  7 9 7 8 4 5 2 2 7 1 ...\n",
            " $ Depression                  : num  7 7 2 8 8 3 0 2 7 0 ...\n",
            " $ Insomnia                    : num  10 3 5 7 6 5 0 5 4 0 ...\n",
            " $ OCD                         : num  2 3 9 7 0 3 0 1 7 1 ...\n",
            " $ Music.effects               : chr  \"No effect\" \"Improve\" \"Improve\" \"Improve\" ...\n",
            " $ Permissions                 : chr  \"I understand.\" \"I understand.\" \"I understand.\" \"I understand.\" ...\n"
          ]
        }
      ]
    },
    {
      "cell_type": "code",
      "source": [
        "# Display summary of the dataframe\n",
        "summary(df1)"
      ],
      "metadata": {
        "id": "AeHTe7FEmIW7",
        "colab": {
          "base_uri": "https://localhost:8080/"
        },
        "outputId": "41171ceb-0b14-44d9-9a3f-6778384f87ca"
      },
      "execution_count": null,
      "outputs": [
        {
          "output_type": "display_data",
          "data": {
            "text/plain": [
              "  Timestamp              Age        Primary.streaming.service Hours.per.day   \n",
              " Length:719         Min.   :10.00   Length:719                Min.   : 0.000  \n",
              " Class :character   1st Qu.:18.00   Class :character          1st Qu.: 2.000  \n",
              " Mode  :character   Median :21.00   Mode  :character          Median : 3.000  \n",
              "                    Mean   :25.18                             Mean   : 3.577  \n",
              "                    3rd Qu.:28.00                             3rd Qu.: 5.000  \n",
              "                    Max.   :89.00                             Max.   :24.000  \n",
              " While.working      Instrumentalist      Composer          Fav.genre        \n",
              " Length:719         Length:719         Length:719         Length:719        \n",
              " Class :character   Class :character   Class :character   Class :character  \n",
              " Mode  :character   Mode  :character   Mode  :character   Mode  :character  \n",
              "                                                                            \n",
              "                                                                            \n",
              "                                                                            \n",
              " Exploratory        Foreign.languages       BPM           \n",
              " Length:719         Length:719         Min.   :        0  \n",
              " Class :character   Class :character   1st Qu.:      105  \n",
              " Mode  :character   Mode  :character   Median :      128  \n",
              "                                       Mean   :  1618694  \n",
              "                                       3rd Qu.:      163  \n",
              "                                       Max.   :999999999  \n",
              " Frequency..Classical. Frequency..Country. Frequency..EDM.   \n",
              " Length:719            Length:719          Length:719        \n",
              " Class :character      Class :character    Class :character  \n",
              " Mode  :character      Mode  :character    Mode  :character  \n",
              "                                                             \n",
              "                                                             \n",
              "                                                             \n",
              " Frequency..Folk.   Frequency..Gospel. Frequency..Hip.hop. Frequency..Jazz.  \n",
              " Length:719         Length:719         Length:719          Length:719        \n",
              " Class :character   Class :character   Class :character    Class :character  \n",
              " Mode  :character   Mode  :character   Mode  :character    Mode  :character  \n",
              "                                                                             \n",
              "                                                                             \n",
              "                                                                             \n",
              " Frequency..K.pop.  Frequency..Latin.  Frequency..Lofi.   Frequency..Metal. \n",
              " Length:719         Length:719         Length:719         Length:719        \n",
              " Class :character   Class :character   Class :character   Class :character  \n",
              " Mode  :character   Mode  :character   Mode  :character   Mode  :character  \n",
              "                                                                            \n",
              "                                                                            \n",
              "                                                                            \n",
              " Frequency..Pop.    Frequency..R.B.    Frequency..Rap.    Frequency..Rock.  \n",
              " Length:719         Length:719         Length:719         Length:719        \n",
              " Class :character   Class :character   Class :character   Class :character  \n",
              " Mode  :character   Mode  :character   Mode  :character   Mode  :character  \n",
              "                                                                            \n",
              "                                                                            \n",
              "                                                                            \n",
              " Frequency..Video.game.music.    Anxiety         Depression    \n",
              " Length:719                   Min.   : 0.000   Min.   : 0.000  \n",
              " Class :character             1st Qu.: 4.000   1st Qu.: 2.000  \n",
              " Mode  :character             Median : 6.000   Median : 5.000  \n",
              "                              Mean   : 5.842   Mean   : 4.804  \n",
              "                              3rd Qu.: 8.000   3rd Qu.: 7.000  \n",
              "                              Max.   :10.000   Max.   :10.000  \n",
              "    Insomnia           OCD         Music.effects      Permissions       \n",
              " Min.   : 0.000   Min.   : 0.000   Length:719         Length:719        \n",
              " 1st Qu.: 1.000   1st Qu.: 0.000   Class :character   Class :character  \n",
              " Median : 3.000   Median : 2.000   Mode  :character   Mode  :character  \n",
              " Mean   : 3.716   Mean   : 2.641                                        \n",
              " 3rd Qu.: 6.000   3rd Qu.: 4.500                                        \n",
              " Max.   :10.000   Max.   :10.000                                        "
            ]
          },
          "metadata": {}
        }
      ]
    },
    {
      "cell_type": "code",
      "source": [
        "# When checking manually, Age contains decimal & should be rounded the \"Age\" column to the nearest integer\n",
        "df1$Age <- round(df1$Age)"
      ],
      "metadata": {
        "id": "A7ORJegImWmV"
      },
      "execution_count": null,
      "outputs": []
    },
    {
      "cell_type": "code",
      "source": [
        "# Check for unique values\n",
        "\n",
        "library(dplyr)\n",
        "\n",
        "# Function to classify columns and sort unique values\n",
        "classify <- function(column) {\n",
        "  if (is.numeric(column)) {\n",
        "    type <- \"Numeric\"\n",
        "    unique_values <- unique(column)\n",
        "  } else {\n",
        "    unique_values <- unique(column)\n",
        "    if (all(unique_values %in% c(\"Yes\", \"No\")) && length(unique_values) == 2) {\n",
        "      type <- \"Binomial\"\n",
        "    } else if (is.factor(column) || is.character(column)) {\n",
        "      type <- \"Categorical\"\n",
        "    } else {\n",
        "      type <- \"Other\"\n",
        "    }\n",
        "  }\n",
        "\n",
        "  # Sort unique values alphabetically and then join\n",
        "  value_count <- length(unique_values)\n",
        "  unique_values_formatted <- if (value_count > 10) {\n",
        "    sorted_values <- sort(unique_values)\n",
        "    paste(\"Many values:\", toString(sample(sorted_values, 10)), \"...\")\n",
        "  } else {\n",
        "    sorted_values <- sort(unique_values)\n",
        "    toString(sorted_values)\n",
        "  }\n",
        "\n",
        "  return(c(Type = type, UniqueValueCount = value_count, UniqueValues = unique_values_formatted))\n",
        "}\n",
        "\n",
        "# Apply the function to each column of your dataset 'mxmh_clean'\n",
        "summary_info <- sapply(df1, classify, simplify = FALSE)\n",
        "\n",
        "# Convert the summary information to a data frame for nicer display\n",
        "summary_table <- tibble(\n",
        "  Variable = names(summary_info),\n",
        "  Type = sapply(summary_info, `[`, \"Type\"),\n",
        "  UniqueValueCount = sapply(summary_info, `[`, \"UniqueValueCount\"),\n",
        "  UniqueValues = sapply(summary_info, `[`, \"UniqueValues\")\n",
        ")\n",
        "\n",
        "# Print the summary table with sorted unique values, displaying all rows\n",
        "print(summary_table, n = Inf)\n"
      ],
      "metadata": {
        "id": "lSd-oFGrVic1",
        "colab": {
          "base_uri": "https://localhost:8080/"
        },
        "outputId": "f07427b4-12b3-409c-bdf7-c517da852ecb"
      },
      "execution_count": null,
      "outputs": [
        {
          "output_type": "stream",
          "name": "stdout",
          "text": [
            "\u001b[90m# A tibble: 33 × 4\u001b[39m\n",
            "   Variable                     Type        UniqueValueCount UniqueValues       \n",
            "   \u001b[3m\u001b[90m<chr>\u001b[39m\u001b[23m                        \u001b[3m\u001b[90m<chr>\u001b[39m\u001b[23m       \u001b[3m\u001b[90m<chr>\u001b[39m\u001b[23m            \u001b[3m\u001b[90m<chr>\u001b[39m\u001b[23m              \n",
            "\u001b[90m 1\u001b[39m Timestamp                    Categorical 718              Many values: 9/19/…\n",
            "\u001b[90m 2\u001b[39m Age                          Numeric     61               Many values: 32, 3…\n",
            "\u001b[90m 3\u001b[39m Primary.streaming.service    Categorical 6                Apple Music, I do …\n",
            "\u001b[90m 4\u001b[39m Hours.per.day                Numeric     26               Many values: 3, 0.…\n",
            "\u001b[90m 5\u001b[39m While.working                Binomial    2                No, Yes            \n",
            "\u001b[90m 6\u001b[39m Instrumentalist              Binomial    2                No, Yes            \n",
            "\u001b[90m 7\u001b[39m Composer                     Binomial    2                No, Yes            \n",
            "\u001b[90m 8\u001b[39m Fav.genre                    Categorical 16               Many values: Latin…\n",
            "\u001b[90m 9\u001b[39m Exploratory                  Binomial    2                No, Yes            \n",
            "\u001b[90m10\u001b[39m Foreign.languages            Binomial    2                No, Yes            \n",
            "\u001b[90m11\u001b[39m BPM                          Numeric     136              Many values: 128, …\n",
            "\u001b[90m12\u001b[39m Frequency..Classical.        Categorical 4                Never, Rarely, Som…\n",
            "\u001b[90m13\u001b[39m Frequency..Country.          Categorical 4                Never, Rarely, Som…\n",
            "\u001b[90m14\u001b[39m Frequency..EDM.              Categorical 4                Never, Rarely, Som…\n",
            "\u001b[90m15\u001b[39m Frequency..Folk.             Categorical 4                Never, Rarely, Som…\n",
            "\u001b[90m16\u001b[39m Frequency..Gospel.           Categorical 4                Never, Rarely, Som…\n",
            "\u001b[90m17\u001b[39m Frequency..Hip.hop.          Categorical 4                Never, Rarely, Som…\n",
            "\u001b[90m18\u001b[39m Frequency..Jazz.             Categorical 4                Never, Rarely, Som…\n",
            "\u001b[90m19\u001b[39m Frequency..K.pop.            Categorical 4                Never, Rarely, Som…\n",
            "\u001b[90m20\u001b[39m Frequency..Latin.            Categorical 4                Never, Rarely, Som…\n",
            "\u001b[90m21\u001b[39m Frequency..Lofi.             Categorical 4                Never, Rarely, Som…\n",
            "\u001b[90m22\u001b[39m Frequency..Metal.            Categorical 4                Never, Rarely, Som…\n",
            "\u001b[90m23\u001b[39m Frequency..Pop.              Categorical 4                Never, Rarely, Som…\n",
            "\u001b[90m24\u001b[39m Frequency..R.B.              Categorical 4                Never, Rarely, Som…\n",
            "\u001b[90m25\u001b[39m Frequency..Rap.              Categorical 4                Never, Rarely, Som…\n",
            "\u001b[90m26\u001b[39m Frequency..Rock.             Categorical 4                Never, Rarely, Som…\n",
            "\u001b[90m27\u001b[39m Frequency..Video.game.music. Categorical 4                Never, Rarely, Som…\n",
            "\u001b[90m28\u001b[39m Anxiety                      Numeric     12               Many values: 4, 8,…\n",
            "\u001b[90m29\u001b[39m Depression                   Numeric     12               Many values: 3, 2,…\n",
            "\u001b[90m30\u001b[39m Insomnia                     Numeric     12               Many values: 5, 3,…\n",
            "\u001b[90m31\u001b[39m OCD                          Numeric     13               Many values: 1, 8,…\n",
            "\u001b[90m32\u001b[39m Music.effects                Categorical 3                Improve, No effect…\n",
            "\u001b[90m33\u001b[39m Permissions                  Categorical 1                I understand.      \n"
          ]
        }
      ]
    },
    {
      "cell_type": "code",
      "source": [
        "# Drop the \"Timestamp\" (not useful) and \"Permissions\" (only 1 value) columns from the dataframe\n",
        "df1 <- df1[, !(names(df1) %in% c(\"Timestamp\", \"Permissions\"))]"
      ],
      "metadata": {
        "id": "dYdvyZlqryJv"
      },
      "execution_count": null,
      "outputs": []
    },
    {
      "cell_type": "markdown",
      "source": [
        "**Remove outliers**"
      ],
      "metadata": {
        "id": "yMFHdINKunsb"
      }
    },
    {
      "cell_type": "code",
      "source": [
        "# Checking for outliers in the dataset\n",
        "\n",
        "boxplot(df1$BPM, main = \"Boxplot of BPM\")"
      ],
      "metadata": {
        "id": "Us2q_vcfuLO6",
        "colab": {
          "base_uri": "https://localhost:8080/"
        },
        "outputId": "c34f8a47-5482-4b0e-c991-b816d71bd77f"
      },
      "execution_count": null,
      "outputs": [
        {
          "output_type": "display_data",
          "data": {
            "text/plain": [
              "Plot with title “Boxplot of BPM”"
            ],
            "image/png": "[encoded data removed]"
          },
          "metadata": {
            "image/png": {
              "width": 420,
              "height": 420
            }
          }
        }
      ]
    },
    {
      "cell_type": "code",
      "source": [
        "# Choose the maximum quartile to fill in the outliers for the \"BPM\" column\n",
        "max_cr <- quantile(df1$BPM, 0.995)\n",
        "\n",
        "# Print the maximum quartile value\n",
        "print(max_cr)"
      ],
      "metadata": {
        "id": "WMgs9pMvuwaW",
        "colab": {
          "base_uri": "https://localhost:8080/"
        },
        "outputId": "0874850f-e93e-4334-cc3a-bc7fa6616a30"
      },
      "execution_count": null,
      "outputs": [
        {
          "output_type": "stream",
          "name": "stdout",
          "text": [
            "  99.5% \n",
            "1589948 \n"
          ]
        }
      ]
    },
    {
      "cell_type": "code",
      "source": [
        "# Filter the dataframe to include only rows where \"BPM\" exceeds the maximum quartile value\n",
        "outliers <- df1[df1$BPM > max_cr, ]\n",
        "\n",
        "# Print the filtered dataframe\n",
        "print(outliers)"
      ],
      "metadata": {
        "id": "dCYK06slu9Ru",
        "colab": {
          "base_uri": "https://localhost:8080/"
        },
        "outputId": "db674ead-9a85-4c79-b42a-f326701f573f"
      },
      "execution_count": null,
      "outputs": [
        {
          "output_type": "stream",
          "name": "stdout",
          "text": [
            "    Age Primary.streaming.service Hours.per.day While.working Instrumentalist\n",
            "569  16                   Spotify             7           Yes              No\n",
            "    Composer        Fav.genre Exploratory Foreign.languages   BPM\n",
            "569       No Video game music         Yes                No 1e+09\n",
            "    Frequency..Classical. Frequency..Country. Frequency..EDM. Frequency..Folk.\n",
            "569                 Never              Rarely       Sometimes           Rarely\n",
            "    Frequency..Gospel. Frequency..Hip.hop. Frequency..Jazz. Frequency..K.pop.\n",
            "569              Never              Rarely           Rarely             Never\n",
            "    Frequency..Latin. Frequency..Lofi. Frequency..Metal. Frequency..Pop.\n",
            "569             Never            Never   Very frequently       Sometimes\n",
            "    Frequency..R.B. Frequency..Rap. Frequency..Rock.\n",
            "569           Never Very frequently           Rarely\n",
            "    Frequency..Video.game.music. Anxiety Depression Insomnia OCD Music.effects\n",
            "569                    Sometimes       4          8        8   4     No effect\n"
          ]
        }
      ]
    },
    {
      "cell_type": "code",
      "source": [
        "#Assigning the new data to a new data frame\n",
        "\n",
        "df2 <- df1[df1$BPM < max_cr, ]\n",
        "\n",
        "# Checking for outliers in the dataset\n",
        "\n",
        "boxplot(df2$BPM, main = \"Boxplot of BPM\")"
      ],
      "metadata": {
        "id": "jiRHL-6vvQe0",
        "colab": {
          "base_uri": "https://localhost:8080/"
        },
        "outputId": "40fb2184-f724-4185-d037-ae2a87172375"
      },
      "execution_count": null,
      "outputs": [
        {
          "output_type": "display_data",
          "data": {
            "text/plain": [
              "Plot with title “Boxplot of BPM”"
            ],
            "image/png": "[encoded data removed]"
          },
          "metadata": {
            "image/png": {
              "width": 420,
              "height": 420
            }
          }
        }
      ]
    },
    {
      "cell_type": "code",
      "source": [
        "# Apply the same steps above, but using 99.95% maximum quartile\n",
        "\n",
        "max_cr <- quantile(df2$BPM, 0.9995)\n",
        "print(max_cr)\n",
        "\n",
        "# Filter the dataframe to include only rows where \"BPM\" exceeds the maximum quartile value\n",
        "outliers <- df2[df2$BPM > max_cr, ]\n",
        "print(outliers)\n"
      ],
      "metadata": {
        "id": "rJdsBAzBvpFi",
        "colab": {
          "base_uri": "https://localhost:8080/"
        },
        "outputId": "d29282e7-9f11-4606-b444-7af5548aec9f"
      },
      "execution_count": null,
      "outputs": [
        {
          "output_type": "stream",
          "name": "stdout",
          "text": [
            " 99.95% \n",
            "499.972 \n",
            "    Age Primary.streaming.service Hours.per.day While.working Instrumentalist\n",
            "645  16   Other streaming service             4           Yes              No\n",
            "    Composer Fav.genre Exploratory Foreign.languages BPM Frequency..Classical.\n",
            "645       No       EDM         Yes               Yes 624             Sometimes\n",
            "    Frequency..Country. Frequency..EDM. Frequency..Folk. Frequency..Gospel.\n",
            "645               Never Very frequently            Never              Never\n",
            "    Frequency..Hip.hop. Frequency..Jazz. Frequency..K.pop. Frequency..Latin.\n",
            "645               Never            Never            Rarely             Never\n",
            "    Frequency..Lofi. Frequency..Metal. Frequency..Pop. Frequency..R.B.\n",
            "645            Never             Never           Never           Never\n",
            "    Frequency..Rap. Frequency..Rock. Frequency..Video.game.music. Anxiety\n",
            "645           Never            Never                    Sometimes       4\n",
            "    Depression Insomnia OCD Music.effects\n",
            "645          7        1   3       Improve\n"
          ]
        }
      ]
    },
    {
      "cell_type": "code",
      "source": [
        "#Assigning the new data to a new data frame\n",
        "\n",
        "df3 <- df2[df2$BPM < max_cr, ]\n",
        "\n",
        "# Checking for outliers in the dataset\n",
        "\n",
        "boxplot(df3$BPM, main = \"Boxplot of BPM\")"
      ],
      "metadata": {
        "id": "wZ2jRBhjwB7r",
        "colab": {
          "base_uri": "https://localhost:8080/"
        },
        "outputId": "e318d2a1-f300-45d5-abad-dcc44e40a502"
      },
      "execution_count": null,
      "outputs": [
        {
          "output_type": "display_data",
          "data": {
            "text/plain": [
              "Plot with title “Boxplot of BPM”"
            ],
            "image/png": "[encoded data removed]"
          },
          "metadata": {
            "image/png": {
              "width": 420,
              "height": 420
            }
          }
        }
      ]
    },
    {
      "cell_type": "code",
      "source": [
        "# Export the dataframe to a CSV file\n",
        "write.csv(df3, file = \"clean_data.csv\", row.names = FALSE)"
      ],
      "metadata": {
        "id": "QvYB5qBYir0b"
      },
      "execution_count": null,
      "outputs": []
    },
    {
      "cell_type": "markdown",
      "source": [
        "# Exploratory Data Analysis"
      ],
      "metadata": {
        "id": "EdnGFrF3fTN-"
      }
    },
    {
      "cell_type": "code",
      "source": [
        "# Import cleaned data\n",
        "\n",
        "mxmh_clean <- read.csv(\"clean_data.csv\")\n",
        "dim(mxmh_clean)"
      ],
      "metadata": {
        "colab": {
          "base_uri": "https://localhost:8080/"
        },
        "id": "jEzbPcbAh6ik",
        "outputId": "ff57a4c3-43ee-4844-a871-7bc3afadf2c9"
      },
      "execution_count": null,
      "outputs": [
        {
          "output_type": "display_data",
          "data": {
            "text/html": [
              "<style>\n",
              ".list-inline {list-style: none; margin:0; padding: 0}\n",
              ".list-inline>li {display: inline-block}\n",
              ".list-inline>li:not(:last-child)::after {content: \"\\00b7\"; padding: 0 .5ex}\n",
              "</style>\n",
              "<ol class=list-inline><li>614</li><li>31</li></ol>\n"
            ],
            "text/markdown": "1. 614\n2. 31\n\n\n",
            "text/latex": "\\begin{enumerate*}\n\\item 614\n\\item 31\n\\end{enumerate*}\n",
            "text/plain": [
              "[1] 614  31"
            ]
          },
          "metadata": {}
        }
      ]
    },
    {
      "cell_type": "markdown",
      "source": [
        "**Plot summary table with Variable, Type, Unique Value Count and Unique Values**"
      ],
      "metadata": {
        "id": "6VQOyXVApx6z"
      }
    },
    {
      "cell_type": "code",
      "source": [
        "# Check for unique values\n",
        "\n",
        "library(dplyr)\n",
        "\n",
        "# Function to classify columns and sort unique values\n",
        "classify <- function(column) {\n",
        "  if (is.numeric(column)) {\n",
        "    type <- \"Numeric\"\n",
        "    unique_values <- unique(column)\n",
        "  } else {\n",
        "    unique_values <- unique(column)\n",
        "    if (all(unique_values %in% c(\"Yes\", \"No\")) && length(unique_values) == 2) {\n",
        "      type <- \"Binomial\"\n",
        "    } else if (is.factor(column) || is.character(column)) {\n",
        "      type <- \"Categorical\"\n",
        "    } else {\n",
        "      type <- \"Other\"\n",
        "    }\n",
        "  }\n",
        "\n",
        "  # Sort unique values alphabetically and then join\n",
        "  value_count <- length(unique_values)\n",
        "  unique_values_formatted <- if (value_count > 10) {\n",
        "    sorted_values <- sort(unique_values)\n",
        "    paste(\"Many values:\", toString(sample(sorted_values, 10)), \"...\")\n",
        "  } else {\n",
        "    sorted_values <- sort(unique_values)\n",
        "    toString(sorted_values)\n",
        "  }\n",
        "\n",
        "  return(c(Type = type, UniqueValueCount = value_count, UniqueValues = unique_values_formatted))\n",
        "}\n",
        "\n",
        "# Apply the function to each column of your dataset 'mxmh_clean'\n",
        "summary_info <- sapply(mxmh_clean, classify, simplify = FALSE)\n",
        "\n",
        "# Convert the summary information to a data frame for nicer display\n",
        "summary_table <- tibble(\n",
        "  Variable = names(summary_info),\n",
        "  Type = sapply(summary_info, `[`, \"Type\"),\n",
        "  UniqueValueCount = sapply(summary_info, `[`, \"UniqueValueCount\"),\n",
        "  UniqueValues = sapply(summary_info, `[`, \"UniqueValues\")\n",
        ")\n",
        "\n",
        "# Print the summary table with sorted unique values, displaying all rows\n",
        "print(summary_table, n = Inf)\n"
      ],
      "metadata": {
        "colab": {
          "base_uri": "https://localhost:8080/"
        },
        "outputId": "b6ffa82b-353b-4ec2-8636-c6e6f13f4758",
        "id": "CJxiKnrdsGl9"
      },
      "execution_count": null,
      "outputs": [
        {
          "output_type": "stream",
          "name": "stdout",
          "text": [
            "\u001b[90m# A tibble: 31 × 4\u001b[39m\n",
            "   Variable                     Type        UniqueValueCount UniqueValues       \n",
            "   \u001b[3m\u001b[90m<chr>\u001b[39m\u001b[23m                        \u001b[3m\u001b[90m<chr>\u001b[39m\u001b[23m       \u001b[3m\u001b[90m<chr>\u001b[39m\u001b[23m            \u001b[3m\u001b[90m<chr>\u001b[39m\u001b[23m              \n",
            "\u001b[90m 1\u001b[39m Age                          Numeric     59               Many values: 51, 5…\n",
            "\u001b[90m 2\u001b[39m Primary.streaming.service    Categorical 6                Apple Music, I do …\n",
            "\u001b[90m 3\u001b[39m Hours.per.day                Numeric     23               Many values: 15, 8…\n",
            "\u001b[90m 4\u001b[39m While.working                Binomial    2                No, Yes            \n",
            "\u001b[90m 5\u001b[39m Instrumentalist              Binomial    2                No, Yes            \n",
            "\u001b[90m 6\u001b[39m Composer                     Binomial    2                No, Yes            \n",
            "\u001b[90m 7\u001b[39m Fav.genre                    Categorical 16               Many values: Lofi,…\n",
            "\u001b[90m 8\u001b[39m Exploratory                  Binomial    2                No, Yes            \n",
            "\u001b[90m 9\u001b[39m Foreign.languages            Binomial    2                No, Yes            \n",
            "\u001b[90m10\u001b[39m BPM                          Numeric     133              Many values: 109, …\n",
            "\u001b[90m11\u001b[39m Frequency..Classical.        Categorical 4                Never, Rarely, Som…\n",
            "\u001b[90m12\u001b[39m Frequency..Country.          Categorical 4                Never, Rarely, Som…\n",
            "\u001b[90m13\u001b[39m Frequency..EDM.              Categorical 4                Never, Rarely, Som…\n",
            "\u001b[90m14\u001b[39m Frequency..Folk.             Categorical 4                Never, Rarely, Som…\n",
            "\u001b[90m15\u001b[39m Frequency..Gospel.           Categorical 4                Never, Rarely, Som…\n",
            "\u001b[90m16\u001b[39m Frequency..Hip.hop.          Categorical 4                Never, Rarely, Som…\n",
            "\u001b[90m17\u001b[39m Frequency..Jazz.             Categorical 4                Never, Rarely, Som…\n",
            "\u001b[90m18\u001b[39m Frequency..K.pop.            Categorical 4                Never, Rarely, Som…\n",
            "\u001b[90m19\u001b[39m Frequency..Latin.            Categorical 4                Never, Rarely, Som…\n",
            "\u001b[90m20\u001b[39m Frequency..Lofi.             Categorical 4                Never, Rarely, Som…\n",
            "\u001b[90m21\u001b[39m Frequency..Metal.            Categorical 4                Never, Rarely, Som…\n",
            "\u001b[90m22\u001b[39m Frequency..Pop.              Categorical 4                Never, Rarely, Som…\n",
            "\u001b[90m23\u001b[39m Frequency..R.B.              Categorical 4                Never, Rarely, Som…\n",
            "\u001b[90m24\u001b[39m Frequency..Rap.              Categorical 4                Never, Rarely, Som…\n",
            "\u001b[90m25\u001b[39m Frequency..Rock.             Categorical 4                Never, Rarely, Som…\n",
            "\u001b[90m26\u001b[39m Frequency..Video.game.music. Categorical 4                Never, Rarely, Som…\n",
            "\u001b[90m27\u001b[39m Anxiety                      Numeric     12               Many values: 5, 3,…\n",
            "\u001b[90m28\u001b[39m Depression                   Numeric     12               Many values: 2, 3.…\n",
            "\u001b[90m29\u001b[39m Insomnia                     Numeric     12               Many values: 0, 10…\n",
            "\u001b[90m30\u001b[39m OCD                          Numeric     13               Many values: 6, 2,…\n",
            "\u001b[90m31\u001b[39m Music.effects                Categorical 3                Improve, No effect…\n"
          ]
        }
      ]
    },
    {
      "cell_type": "markdown",
      "source": [
        "**Numerical Value**"
      ],
      "metadata": {
        "id": "GN7QKAdVs8sd"
      }
    },
    {
      "cell_type": "markdown",
      "source": [
        "1. Numerical Value (Descriptive Statistics)"
      ],
      "metadata": {
        "id": "UdHb5baV3rS1"
      }
    },
    {
      "cell_type": "code",
      "source": [
        "# Respondent's Details\n",
        "cat(\"Age:\\n\")\n",
        "summary (mxmh_clean$Age)\n",
        "cat(\"Hours/Day:\\n\")\n",
        "summary (mxmh_clean$Hours.per.day)\n",
        "cat(\"BPM:\\n\")\n",
        "summary (mxmh_clean$BPM)\n",
        "\n",
        "# Respondent's Mental Health Status\n",
        "cat(\"Anxiety:\\n\")\n",
        "summary (mxmh_clean$Anxiety)\n",
        "cat(\"Depression:\\n\")\n",
        "summary (mxmh_clean$Depression)\n",
        "cat(\"Imsomnia:\\n\")\n",
        "summary (mxmh_clean$Insomnia)\n",
        "cat(\"OCD:\\n\")\n",
        "summary (mxmh_clean$OCD)"
      ],
      "metadata": {
        "colab": {
          "base_uri": "https://localhost:8080/"
        },
        "id": "NvUnXZi73z7v",
        "outputId": "f744c416-829d-468b-da68-0ca521bfa656"
      },
      "execution_count": null,
      "outputs": [
        {
          "output_type": "stream",
          "name": "stdout",
          "text": [
            "Age:\n"
          ]
        },
        {
          "output_type": "display_data",
          "data": {
            "text/plain": [
              "   Min. 1st Qu.  Median    Mean 3rd Qu.    Max. \n",
              "  10.00   18.00   21.00   24.82   27.00   89.00 "
            ]
          },
          "metadata": {}
        },
        {
          "output_type": "stream",
          "name": "stdout",
          "text": [
            "Hours/Day:\n"
          ]
        },
        {
          "output_type": "display_data",
          "data": {
            "text/plain": [
              "   Min. 1st Qu.  Median    Mean 3rd Qu.    Max. \n",
              "  0.000   2.000   3.000   3.697   5.000  24.000 "
            ]
          },
          "metadata": {}
        },
        {
          "output_type": "stream",
          "name": "stdout",
          "text": [
            "BPM:\n"
          ]
        },
        {
          "output_type": "display_data",
          "data": {
            "text/plain": [
              "   Min. 1st Qu.  Median    Mean 3rd Qu.    Max. \n",
              "    0.0   100.0   120.0   122.8   144.0   220.0 "
            ]
          },
          "metadata": {}
        },
        {
          "output_type": "stream",
          "name": "stdout",
          "text": [
            "Anxiety:\n"
          ]
        },
        {
          "output_type": "display_data",
          "data": {
            "text/plain": [
              "   Min. 1st Qu.  Median    Mean 3rd Qu.    Max. \n",
              "   0.00    4.00    6.00    5.89    8.00   10.00 "
            ]
          },
          "metadata": {}
        },
        {
          "output_type": "stream",
          "name": "stdout",
          "text": [
            "Depression:\n"
          ]
        },
        {
          "output_type": "display_data",
          "data": {
            "text/plain": [
              "   Min. 1st Qu.  Median    Mean 3rd Qu.    Max. \n",
              "  0.000   2.000   5.000   4.886   7.000  10.000 "
            ]
          },
          "metadata": {}
        },
        {
          "output_type": "stream",
          "name": "stdout",
          "text": [
            "Imsomnia:\n"
          ]
        },
        {
          "output_type": "display_data",
          "data": {
            "text/plain": [
              "   Min. 1st Qu.  Median    Mean 3rd Qu.    Max. \n",
              "  0.000   1.000   3.000   3.799   6.000  10.000 "
            ]
          },
          "metadata": {}
        },
        {
          "output_type": "stream",
          "name": "stdout",
          "text": [
            "OCD:\n"
          ]
        },
        {
          "output_type": "display_data",
          "data": {
            "text/plain": [
              "   Min. 1st Qu.  Median    Mean 3rd Qu.    Max. \n",
              "  0.000   0.000   2.000   2.656   5.000  10.000 "
            ]
          },
          "metadata": {}
        }
      ]
    },
    {
      "cell_type": "markdown",
      "source": [
        "2. Numerical Value (Boxplot)"
      ],
      "metadata": {
        "id": "3d9fvzW-6bqW"
      }
    },
    {
      "cell_type": "code",
      "source": [
        "par(mfrow=c(7, 1))  # Setting up a 7x1 grid for plots\n",
        "par(mar = c(2, 5, 2, 2))  # Adjusting margins\n",
        "\n",
        "# Horizontal Boxplot for Age\n",
        "boxplot(mxmh_clean$Age, horizontal = TRUE, main=\"Age\", xlab=\"Age\", col=\"mediumaquamarine\")\n",
        "\n",
        "# Horizontal Boxplot for Hours per Day\n",
        "boxplot(mxmh_clean$Hours.per.day, horizontal = TRUE, main=\"Hours/Day\", xlab=\"Hours\", col=\"mediumaquamarine\")\n",
        "\n",
        "# Horizontal Boxplot for BPM\n",
        "boxplot(mxmh_clean$BPM, horizontal = TRUE, main=\"BPM\", xlab=\"BPM\", col=\"mediumaquamarine\")\n",
        "\n",
        "# Horizontal Boxplot for Anxiety\n",
        "boxplot(mxmh_clean$Anxiety, horizontal = TRUE, main=\"Anxiety\", xlab=\"Level\", col=\"mediumaquamarine\")\n",
        "\n",
        "# Horizontal Boxplot for Depression\n",
        "boxplot(mxmh_clean$Depression, horizontal = TRUE, main=\"Depression\", xlab=\"Level\", col=\"mediumaquamarine\")\n",
        "\n",
        "# Horizontal Boxplot for Insomnia\n",
        "boxplot(mxmh_clean$Insomnia, horizontal = TRUE, main=\"Insomnia\", xlab=\"Level\", col=\"mediumaquamarine\")\n",
        "\n",
        "# Horizontal Boxplot for OCD\n",
        "boxplot(mxmh_clean$OCD, horizontal = TRUE, main=\"OCD\", xlab=\"Level\", col=\"mediumaquamarine\")\n"
      ],
      "metadata": {
        "colab": {
          "base_uri": "https://localhost:8080/"
        },
        "id": "04zPuOtS5mTl",
        "outputId": "05cb5a2d-c99d-4676-d459-e760cae9a350"
      },
      "execution_count": null,
      "outputs": [
        {
          "output_type": "display_data",
          "data": {
            "text/plain": [
              "Plot with title “OCD”"
            ],
            "image/png": "[encoded data removed]"
          },
          "metadata": {
            "image/png": {
              "width": 420,
              "height": 420
            }
          }
        }
      ]
    },
    {
      "cell_type": "markdown",
      "source": [
        "3. Numerical Value (Histogram)"
      ],
      "metadata": {
        "id": "BHop0u4T3o2_"
      }
    },
    {
      "cell_type": "code",
      "source": [
        "library(ggplot2)\n",
        "\n",
        "# Calculate statistics\n",
        "min_age <- min(mxmh_clean$Age, na.rm = TRUE)\n",
        "max_age <- max(mxmh_clean$Age, na.rm = TRUE)\n",
        "mode_age <- names(which.max(table(mxmh_clean$Age)))\n",
        "\n",
        "# Create histogram\n",
        "p <- ggplot(mxmh_clean, aes(x = Age)) +\n",
        "  geom_histogram(binwidth = 2, fill = \"slateblue\", color = \"white\") +\n",
        "  labs(title = \"Histogram of Age\", x = \"Age\") +\n",
        "  theme_minimal() +\n",
        "  scale_x_continuous(breaks = seq(min_age, max_age, by = 10)) +\n",
        "  theme(plot.margin = unit(c(1,3,1,1), \"lines\"))  # Increase right margin to make space for annotations\n",
        "\n",
        "# Add annotations in the margin\n",
        "p + annotate(\"text\", x = Inf, y = Inf, label = paste(\"Min Age:\", min_age), hjust = 1.1, vjust = 5) +\n",
        "    annotate(\"text\", x = Inf, y = Inf, label = paste(\"Max Age:\", max_age), hjust = 1.1, vjust = 3) +\n",
        "    annotate(\"text\", x = Inf, y = Inf, label = paste(\"Mode Age:\", mode_age), hjust = 1.1, vjust = 1)\n"
      ],
      "metadata": {
        "colab": {
          "base_uri": "https://localhost:8080/"
        },
        "id": "CHVxFvu2hLTs",
        "outputId": "6b550e25-0020-4a3a-9a49-6b5c2af0d974"
      },
      "execution_count": null,
      "outputs": [
        {
          "output_type": "display_data",
          "data": {
            "text/plain": [
              "plot without title"
            ],
            "image/png": "[encoded data removed]"
          },
          "metadata": {
            "image/png": {
              "width": 420,
              "height": 420
            }
          }
        }
      ]
    },
    {
      "cell_type": "code",
      "source": [
        "# Hours per Day (Histogram)\n",
        "\n",
        "library(ggplot2)\n",
        "\n",
        "# Calculate statistics for Hours per Day\n",
        "min_hours <- min(mxmh_clean$Hours.per.day, na.rm = TRUE)\n",
        "max_hours <- max(mxmh_clean$Hours.per.day, na.rm = TRUE)\n",
        "mode_hours <- names(which.max(table(mxmh_clean$Hours.per.day)))\n",
        "\n",
        "# Create histogram for Hours per Day\n",
        "p <- ggplot(mxmh_clean, aes(x = Hours.per.day)) +\n",
        "  geom_histogram(binwidth = 1, fill = \"slateblue\", color = \"white\") +\n",
        "  labs(title = \"Histogram of Hours per Day\", x = \"Hours per Day\", y = \"Count\") +\n",
        "  scale_x_continuous(breaks = seq(min_hours, max_hours, by = 1)) +\n",
        "  theme_minimal() +\n",
        "  theme(plot.margin = unit(c(1,3,1,1), \"lines\"))  # Increase right margin to make space for annotations\n",
        "\n",
        "# Add annotations in the margin for Hours per Day\n",
        "p + annotate(\"text\", x = Inf, y = Inf, label = paste(\"Min Hours:\", min_hours), hjust = 1.1, vjust = 5) +\n",
        "    annotate(\"text\", x = Inf, y = Inf, label = paste(\"Max Hours:\", max_hours), hjust = 1.1, vjust = 3) +\n",
        "    annotate(\"text\", x = Inf, y = Inf, label = paste(\"Mode Hours:\", mode_hours), hjust = 1.1, vjust = 1)\n",
        "\n"
      ],
      "metadata": {
        "colab": {
          "base_uri": "https://localhost:8080/"
        },
        "id": "LP75FVfItlV3",
        "outputId": "a1f7f268-cd21-4a3d-fe69-13ef30a28fab"
      },
      "execution_count": null,
      "outputs": [
        {
          "output_type": "display_data",
          "data": {
            "text/plain": [
              "plot without title"
            ],
            "image/png": "[encoded data removed]"
          },
          "metadata": {
            "image/png": {
              "width": 420,
              "height": 420
            }
          }
        }
      ]
    },
    {
      "cell_type": "code",
      "source": [
        "# BPM (Histogram)\n",
        "\n",
        "library(ggplot2)\n",
        "\n",
        "ggplot(mxmh_clean, aes(x = BPM)) +\n",
        "  geom_histogram(binwidth = 5, fill = \"slateblue\", color = \"white\") +\n",
        "  labs(title = \"Histogram of BPM\", x = \"BPM\", y = \"Count\") +\n",
        "  theme_minimal()"
      ],
      "metadata": {
        "colab": {
          "base_uri": "https://localhost:8080/"
        },
        "id": "xx6TRmQDAuOr",
        "outputId": "57cf688d-fa84-4a94-de1b-4e1f4e5d7b5a"
      },
      "execution_count": null,
      "outputs": [
        {
          "output_type": "display_data",
          "data": {
            "text/plain": [
              "plot without title"
            ],
            "image/png": "[encoded data removed]"
          },
          "metadata": {
            "image/png": {
              "width": 420,
              "height": 420
            }
          }
        }
      ]
    },
    {
      "cell_type": "code",
      "source": [
        "# Mental Health Ranking (Distrubution with Density Line)\n",
        "\n",
        "# Set up the layout for side-by-side plots\n",
        "par(mfrow=c(2, 2))  # Setting the plot area to a 2 by 2 grid\n",
        "\n",
        "# Function to add density line to histogram with counts\n",
        "add_density_line <- function(data) {\n",
        "  dens <- density(data, na.rm = TRUE)  # Calculate the density\n",
        "  # Scale density to match the histogram's count scale\n",
        "  dens$y <- dens$y * diff(h$mids[1:2]) * length(data)  # Adjusting the density scale\n",
        "  lines(dens, col=\"red\")  # Add the density line\n",
        "}\n",
        "\n",
        "# Histogram for Anxiety with counts and density line\n",
        "h <- hist(mxmh_clean$Anxiety, main=\"Anxiety Histogram\", xlab=\"Level\", col=\"light blue\", freq=TRUE)\n",
        "add_density_line(mxmh_clean$Anxiety)\n",
        "\n",
        "# Histogram for Depression with counts and density line\n",
        "h <- hist(mxmh_clean$Depression, main=\"Depression Histogram\", xlab=\"Level\", col=\"light blue\", freq=TRUE)\n",
        "add_density_line(mxmh_clean$Depression)\n",
        "\n",
        "# Histogram for Insomnia with counts and density line\n",
        "h <- hist(mxmh_clean$Insomnia, main=\"Insomnia Histogram\", xlab=\"Level\", col=\"light blue\", freq=TRUE)\n",
        "add_density_line(mxmh_clean$Insomnia)\n",
        "\n",
        "# Histogram for OCD with counts and density line\n",
        "h <- hist(mxmh_clean$OCD, main=\"OCD Histogram\", xlab=\"Level\", col=\"light blue\", freq=TRUE)\n",
        "add_density_line(mxmh_clean$OCD)\n"
      ],
      "metadata": {
        "colab": {
          "base_uri": "https://localhost:8080/"
        },
        "id": "K_eI1y4xBHTe",
        "outputId": "73193e9c-aa37-498d-f0a7-35a834908a20"
      },
      "execution_count": null,
      "outputs": [
        {
          "output_type": "display_data",
          "data": {
            "text/plain": [
              "Plot with title “OCD Histogram”"
            ],
            "image/png": "[encoded data removed]"
          },
          "metadata": {
            "image/png": {
              "width": 420,
              "height": 420
            }
          }
        }
      ]
    },
    {
      "cell_type": "markdown",
      "source": [
        "**Categorical Value**"
      ],
      "metadata": {
        "id": "F8kgEDFNtDS1"
      }
    },
    {
      "cell_type": "markdown",
      "source": [
        "1. Categorical Value (Bar Chart)"
      ],
      "metadata": {
        "id": "WqbV071pECuw"
      }
    },
    {
      "cell_type": "code",
      "source": [
        "# Primary Streaming Device (Bar chart)\n",
        "\n",
        "library(ggplot2)\n",
        "\n",
        "# Create a frequency table of 'Primary streaming service'\n",
        "service_counts <- table(mxmh_clean$Primary.streaming.service)\n",
        "\n",
        "# Convert the table to a data frame and name the columns\n",
        "service_df <- as.data.frame(service_counts)\n",
        "names(service_df) <- c(\"Service\", \"Frequency\")\n",
        "\n",
        "# Sort the data frame by frequency in descending order\n",
        "service_df <- service_df[order(-service_df$Frequency), ]\n",
        "\n",
        "# Define the colors for the bars\n",
        "bar_colors <- c(\"lightgreen\", \"lightcoral\", \"steelblue\", \"palevioletred\", \"gold\", \"darkturquoise\")\n",
        "\n",
        "# Create a bar chart\n",
        "bar_chart <- ggplot(service_df, aes(x = reorder(Service, -Frequency), y = Frequency, fill = Service)) +\n",
        "  geom_bar(stat = \"identity\", width = 0.7) +\n",
        "  scale_fill_manual(values = bar_colors) +  # Set the colors manually\n",
        "  labs(title = \"Streaming Services by Popularity\", x = \"Service\", y = \"Frequency\") +  # Set the title and axis labels\n",
        "  theme_minimal() +\n",
        "  theme(axis.text.x = element_text(angle = 45, hjust = 1))  # Rotate x-axis labels for better readability\n",
        "\n",
        "# Print the bar chart\n",
        "print(bar_chart)\n",
        "\n",
        "# Create a frequency table for the 'Fav.genre' column\n",
        "device_frequency <- table(mxmh_clean$Primary.streaming.service)\n",
        "\n",
        "# Print the frequency table\n",
        "print(device_frequency)\n"
      ],
      "metadata": {
        "colab": {
          "base_uri": "https://localhost:8080/"
        },
        "id": "LLbV4x9_ZnQ2",
        "outputId": "595878fd-cb90-458d-cd0c-c71c7c0d6e7d"
      },
      "execution_count": null,
      "outputs": [
        {
          "output_type": "stream",
          "name": "stdout",
          "text": [
            "\n",
            "                      Apple Music I do not use a streaming service. \n",
            "                               42                                56 \n",
            "          Other streaming service                           Pandora \n",
            "                               39                                 9 \n",
            "                          Spotify                     YouTube Music \n",
            "                              395                                73 \n"
          ]
        },
        {
          "output_type": "display_data",
          "data": {
            "text/plain": [
              "plot without title"
            ],
            "image/png": "[encoded data removed]"
          },
          "metadata": {
            "image/png": {
              "width": 420,
              "height": 420
            }
          }
        }
      ]
    },
    {
      "cell_type": "code",
      "source": [
        "# Primary Streaming Device (Frequency Table)\n",
        "service_frequency <- table(mxmh_clean$Primary.streaming.service)\n",
        "\n",
        "# Sort the frequency table in descending order\n",
        "service_frequency <- sort(service_frequency, decreasing = TRUE)\n",
        "\n",
        "# Print the sorted frequency table\n",
        "print(service_frequency)\n"
      ],
      "metadata": {
        "colab": {
          "base_uri": "https://localhost:8080/"
        },
        "id": "cI9mFaqv5x9e",
        "outputId": "b702f08b-12a5-44a2-d30e-76e57dcf8f50"
      },
      "execution_count": null,
      "outputs": [
        {
          "output_type": "stream",
          "name": "stdout",
          "text": [
            "\n",
            "                          Spotify                     YouTube Music \n",
            "                              395                                73 \n",
            "I do not use a streaming service.                       Apple Music \n",
            "                               56                                42 \n",
            "          Other streaming service                           Pandora \n",
            "                               39                                 9 \n"
          ]
        }
      ]
    },
    {
      "cell_type": "markdown",
      "source": [
        "2. Categorical Value (Music Genre)"
      ],
      "metadata": {
        "id": "3qP5ahulMl2p"
      }
    },
    {
      "cell_type": "code",
      "source": [
        "# Music Genre (Bar Chart)\n",
        "\n",
        "install.packages(\"viridis\")\n",
        "library(ggplot2)\n",
        "library(viridis)  # Load the viridis package for the color palette\n",
        "\n",
        "# Create a frequency table of 'Fav.genre'\n",
        "genre_counts <- table(mxmh_clean$Fav.genre)\n",
        "\n",
        "# Convert the table to a data frame and name the columns\n",
        "genre_df <- as.data.frame(genre_counts)\n",
        "names(genre_df) <- c(\"Genre\", \"Frequency\")\n",
        "\n",
        "# Sort the data frame by frequency in descending order\n",
        "genre_df <- genre_df[order(-genre_df$Frequency), ]\n",
        "\n",
        "# Number of unique genres\n",
        "num_genres <- length(unique(genre_df$Genre))\n",
        "\n",
        "# Generate viridis colors, sorted to match the descending order of frequencies\n",
        "colors <- rev(viridis(num_genres, option = \"D\"))\n",
        "\n",
        "# Manually create a color assignment for each genre based on its sorted order\n",
        "genre_colors <- setNames(colors, genre_df$Genre)\n",
        "\n",
        "# Create a bar chart\n",
        "bar_chart_genre <- ggplot(genre_df, aes(x = reorder(Genre, -Frequency), y = Frequency, fill = Genre)) +\n",
        "  geom_bar(stat = \"identity\", width = 0.7) +\n",
        "  labs(title = \"Favorite Genres by Popularity\", x = \"Genre\", y = \"Frequency\") +  # Set the title and axis labels\n",
        "  theme_minimal() +\n",
        "  theme(axis.text.x = element_text(angle = 45, hjust = 1),  # Rotate x-axis labels for better readability\n",
        "        legend.position = \"none\") +  # Remove the legend\n",
        "  scale_fill_manual(values = genre_colors)  # Apply the viridis color palette manually with colors matched to sorted genres\n",
        "\n",
        "# Print the bar chart\n",
        "print(bar_chart_genre)\n"
      ],
      "metadata": {
        "colab": {
          "base_uri": "https://localhost:8080/"
        },
        "id": "40K4w_9z3r0V",
        "outputId": "4e824a9c-879a-4641-8eb0-d7bffef8ac21"
      },
      "execution_count": null,
      "outputs": [
        {
          "output_type": "stream",
          "name": "stderr",
          "text": [
            "Installing package into ‘/usr/local/lib/R/site-library’\n",
            "(as ‘lib’ is unspecified)\n",
            "\n"
          ]
        },
        {
          "output_type": "display_data",
          "data": {
            "text/plain": [
              "plot without title"
            ],
            "image/png": "[encoded data removed]"
          },
          "metadata": {
            "image/png": {
              "width": 420,
              "height": 420
            }
          }
        }
      ]
    },
    {
      "cell_type": "code",
      "source": [
        "# Music Genre (Frequency Table)\n",
        "\n",
        "genre_frequency <- table(mxmh_clean$Fav.genre)\n",
        "\n",
        "# Sort the frequency table in descending order\n",
        "genre_frequency <- sort(genre_frequency, decreasing = TRUE)\n",
        "\n",
        "# Print the sorted frequency table\n",
        "print(genre_frequency)"
      ],
      "metadata": {
        "id": "DuIqWktW4-1p",
        "colab": {
          "base_uri": "https://localhost:8080/"
        },
        "outputId": "1ac1fe18-2eb1-49af-bfd3-d67f708efd0a"
      },
      "execution_count": null,
      "outputs": [
        {
          "output_type": "stream",
          "name": "stdout",
          "text": [
            "\n",
            "            Rock              Pop            Metal        Classical \n",
            "             149               97               77               38 \n",
            "             EDM Video game music          Hip hop              R&B \n",
            "              35               35               32               30 \n",
            "            Folk            K pop          Country              Rap \n",
            "              25               21               20               20 \n",
            "            Jazz             Lofi           Gospel            Latin \n",
            "              19               10                4                2 \n"
          ]
        }
      ]
    },
    {
      "cell_type": "markdown",
      "source": [
        "3. Categorical Value (Frequency)"
      ],
      "metadata": {
        "id": "LZ1xeFTVXlao"
      }
    },
    {
      "cell_type": "code",
      "source": [
        "# Music Genre Frequency (Frequency Table)\n",
        "\n",
        "classical_freq <- table(mxmh_clean$Frequency..Classical.)\n",
        "country_freq <- table(mxmh_clean$Frequency..Country.)\n",
        "edm_freq <- table(mxmh_clean$Frequency..EDM.)\n",
        "folk_freq <- table(mxmh_clean$Frequency..Folk.)\n",
        "gospel_freq <- table(mxmh_clean$Frequency..Gospel.)\n",
        "hip_hop_freq <- table(mxmh_clean$Frequency..Hip.hop.)\n",
        "jazz_freq <- table(mxmh_clean$Frequency..Jazz.)\n",
        "kpop_freq <- table(mxmh_clean$Frequency..K.pop.)\n",
        "latin_freq <- table(mxmh_clean$Frequency..Latin.)\n",
        "lofi_freq <- table(mxmh_clean$Frequency..Lofi.)\n",
        "metal_freq <- table(mxmh_clean$Frequency..Metal.)\n",
        "pop_freq <- table(mxmh_clean$Frequency..Pop.)\n",
        "rb_freq <- table(mxmh_clean$Frequency..R.B.)\n",
        "rap_freq <- table(mxmh_clean$Frequency..Rap.)\n",
        "rock_freq <- table(mxmh_clean$Frequency..Rock.)\n",
        "video_game_music_freq <- table(mxmh_clean$Video.game.music.)\n",
        "\n",
        "# Combine all frequency tables into a list\n",
        "freq_tables <- list(\n",
        "  Classical = classical_freq,\n",
        "  Country = country_freq,\n",
        "  EDM = edm_freq,\n",
        "  Folk = folk_freq,\n",
        "  Gospel = gospel_freq,\n",
        "  HipHop = hip_hop_freq,\n",
        "  Jazz = jazz_freq,\n",
        "  KPop = kpop_freq,\n",
        "  Latin = latin_freq,\n",
        "  Lofi = lofi_freq,\n",
        "  Metal = metal_freq,\n",
        "  Pop = pop_freq,\n",
        "  RnB = rb_freq,\n",
        "  Rap = rap_freq,\n",
        "  Rock = rock_freq,\n",
        "  VideoGameMusic = video_game_music_freq\n",
        ")\n",
        "\n",
        "# Create a summary table\n",
        "summary_table <- addmargins(do.call(cbind, freq_tables), margin = 2)\n",
        "\n",
        "# Display the summary table\n",
        "print(summary_table)"
      ],
      "metadata": {
        "id": "pJ1IeWY8IFCQ",
        "colab": {
          "base_uri": "https://localhost:8080/"
        },
        "outputId": "c1f7303b-e56c-477a-99a2-16afc0f66d5a"
      },
      "execution_count": null,
      "outputs": [
        {
          "output_type": "stream",
          "name": "stdout",
          "text": [
            "                Classical Country EDM Folk Gospel HipHop Jazz KPop Latin Lofi\n",
            "Never                 138     289 249  242    446    145  208  347   362  229\n",
            "Rarely                223     188 160  182    112    175  212  144   145  176\n",
            "Sometimes             167      95 121  128     44    180  146   56    77  135\n",
            "Very frequently        86      42  84   62     12    114   48   67    30   74\n",
            "                Metal Pop RnB Rap Rock  Sum\n",
            "Never             219  45 182 156   78 3335\n",
            "Rarely            160 117 173 178   76 2421\n",
            "Sometimes         112 215 151 164  183 1974\n",
            "Very frequently   123 237 108 116  277 1480\n"
          ]
        }
      ]
    },
    {
      "cell_type": "code",
      "source": [
        "# Data in matrix form\n",
        "data <- matrix(c(138, 223, 167, 86, 289, 188, 95, 42, 249, 160, 121, 84, 242, 182, 128, 62,\n",
        "                 446, 112, 44, 12, 145, 175, 180, 114, 208, 212, 146, 48, 347, 144, 56, 67,\n",
        "                 362, 145, 77, 30, 229, 176, 135, 74, 219, 160, 112, 123, 45, 117, 215, 237,\n",
        "                 182, 173, 151, 108, 156, 178, 164, 116, 78, 76, 183, 277),\n",
        "               nrow = 4, ncol = 15, byrow = TRUE,\n",
        "               dimnames = list(c(\"Never\", \"Rarely\", \"Sometimes\", \"Very frequently\"),\n",
        "                               c(\"Classical\", \"Country\", \"EDM\", \"Folk\", \"Gospel\", \"HipHop\", \"Jazz\",\n",
        "                                 \"KPop\", \"Latin\", \"Lofi\", \"Metal\", \"Pop\", \"RnB\", \"Rap\", \"Rock\")))\n",
        "\n",
        "# Convert matrix to data frame for easier manipulation\n",
        "data_df <- as.data.frame(t(data))\n",
        "\n",
        "# Finding the top 5 and bottom 5 genres for each frequency category with counts\n",
        "top_bottom_5_with_counts <- apply(data_df, 2, function(x) {\n",
        "  sorted_genres <- sort(x, decreasing = TRUE)\n",
        "  top_5 <- names(sorted_genres)[1:5]\n",
        "  bottom_5 <- names(sorted_genres)[(length(sorted_genres)-4):length(sorted_genres)]\n",
        "  top_5_counts <- sorted_genres[1:5]\n",
        "  bottom_5_counts <- sorted_genres[(length(sorted_genres)-4):length(sorted_genres)]\n",
        "  list(Top5 = paste(top_5, top_5_counts, sep = \": \"),\n",
        "       Bottom5 = paste(bottom_5, bottom_5_counts, sep = \": \"))\n",
        "})\n",
        "\n",
        "# Print results\n",
        "top_bottom_5_with_counts\n"
      ],
      "metadata": {
        "id": "C18NlKNQgNwf",
        "colab": {
          "base_uri": "https://localhost:8080/"
        },
        "outputId": "7bc83329-3fe1-4230-9f8f-55f9c0d50bb1"
      },
      "execution_count": null,
      "outputs": [
        {
          "output_type": "display_data",
          "data": {
            "text/html": [
              "<dl>\n",
              "\t<dt>$Never</dt>\n",
              "\t\t<dd><dl>\n",
              "\t<dt>$Top5</dt>\n",
              "\t\t<dd><style>\n",
              ".list-inline {list-style: none; margin:0; padding: 0}\n",
              ".list-inline>li {display: inline-block}\n",
              ".list-inline>li:not(:last-child)::after {content: \"\\00b7\"; padding: 0 .5ex}\n",
              "</style>\n",
              "<ol class=list-inline><li>'Gospel: 289'</li><li>'Latin: 249'</li><li>'RnB: 242'</li><li>'Country: 223'</li><li>'HipHop: 188'</li></ol>\n",
              "</dd>\n",
              "\t<dt>$Bottom5</dt>\n",
              "\t\t<dd><style>\n",
              ".list-inline {list-style: none; margin:0; padding: 0}\n",
              ".list-inline>li {display: inline-block}\n",
              ".list-inline>li:not(:last-child)::after {content: \"\\00b7\"; padding: 0 .5ex}\n",
              "</style>\n",
              "<ol class=list-inline><li>'Metal: 121'</li><li>'Jazz: 95'</li><li>'Folk: 86'</li><li>'Pop: 84'</li><li>'KPop: 42'</li></ol>\n",
              "</dd>\n",
              "</dl>\n",
              "</dd>\n",
              "\t<dt>$Rarely</dt>\n",
              "\t\t<dd><dl>\n",
              "\t<dt>$Top5</dt>\n",
              "\t\t<dd><style>\n",
              ".list-inline {list-style: none; margin:0; padding: 0}\n",
              ".list-inline>li {display: inline-block}\n",
              ".list-inline>li:not(:last-child)::after {content: \"\\00b7\"; padding: 0 .5ex}\n",
              "</style>\n",
              "<ol class=list-inline><li>'Country: 446'</li><li>'Rap: 347'</li><li>'Metal: 212'</li><li>'Lofi: 208'</li><li>'KPop: 180'</li></ol>\n",
              "</dd>\n",
              "\t<dt>$Bottom5</dt>\n",
              "\t\t<dd><style>\n",
              ".list-inline {list-style: none; margin:0; padding: 0}\n",
              ".list-inline>li {display: inline-block}\n",
              ".list-inline>li:not(:last-child)::after {content: \"\\00b7\"; padding: 0 .5ex}\n",
              "</style>\n",
              "<ol class=list-inline><li>'EDM: 112'</li><li>'Classical: 62'</li><li>'RnB: 48'</li><li>'Folk: 44'</li><li>'Gospel: 12'</li></ol>\n",
              "</dd>\n",
              "</dl>\n",
              "</dd>\n",
              "\t<dt>$Sometimes</dt>\n",
              "\t\t<dd><dl>\n",
              "\t<dt>$Top5</dt>\n",
              "\t\t<dd><style>\n",
              ".list-inline {list-style: none; margin:0; padding: 0}\n",
              ".list-inline>li {display: inline-block}\n",
              ".list-inline>li:not(:last-child)::after {content: \"\\00b7\"; padding: 0 .5ex}\n",
              "</style>\n",
              "<ol class=list-inline><li>'EDM: 362'</li><li>'Jazz: 229'</li><li>'Metal: 219'</li><li>'KPop: 176'</li><li>'Pop: 160'</li></ol>\n",
              "</dd>\n",
              "\t<dt>$Bottom5</dt>\n",
              "\t\t<dd><style>\n",
              ".list-inline {list-style: none; margin:0; padding: 0}\n",
              ".list-inline>li {display: inline-block}\n",
              ".list-inline>li:not(:last-child)::after {content: \"\\00b7\"; padding: 0 .5ex}\n",
              "</style>\n",
              "<ol class=list-inline><li>'Lofi: 74'</li><li>'Country: 67'</li><li>'Classical: 56'</li><li>'Rock: 45'</li><li>'HipHop: 30'</li></ol>\n",
              "</dd>\n",
              "</dl>\n",
              "</dd>\n",
              "\t<dt>$`Very frequently`</dt>\n",
              "\t\t<dd><dl>\n",
              "\t<dt>$Top5</dt>\n",
              "\t\t<dd><style>\n",
              ".list-inline {list-style: none; margin:0; padding: 0}\n",
              ".list-inline>li {display: inline-block}\n",
              ".list-inline>li:not(:last-child)::after {content: \"\\00b7\"; padding: 0 .5ex}\n",
              "</style>\n",
              "<ol class=list-inline><li>'Rock: 277'</li><li>'EDM: 237'</li><li>'Country: 215'</li><li>'Rap: 183'</li><li>'Folk: 182'</li></ol>\n",
              "</dd>\n",
              "\t<dt>$Bottom5</dt>\n",
              "\t\t<dd><style>\n",
              ".list-inline {list-style: none; margin:0; padding: 0}\n",
              ".list-inline>li {display: inline-block}\n",
              ".list-inline>li:not(:last-child)::after {content: \"\\00b7\"; padding: 0 .5ex}\n",
              "</style>\n",
              "<ol class=list-inline><li>'Classical: 117'</li><li>'Metal: 116'</li><li>'Jazz: 108'</li><li>'Pop: 78'</li><li>'RnB: 76'</li></ol>\n",
              "</dd>\n",
              "</dl>\n",
              "</dd>\n",
              "</dl>\n"
            ],
            "text/markdown": "$Never\n:   $Top5\n:   1. 'Gospel: 289'\n2. 'Latin: 249'\n3. 'RnB: 242'\n4. 'Country: 223'\n5. 'HipHop: 188'\n\n\n\n$Bottom5\n:   1. 'Metal: 121'\n2. 'Jazz: 95'\n3. 'Folk: 86'\n4. 'Pop: 84'\n5. 'KPop: 42'\n\n\n\n\n\n\n$Rarely\n:   $Top5\n:   1. 'Country: 446'\n2. 'Rap: 347'\n3. 'Metal: 212'\n4. 'Lofi: 208'\n5. 'KPop: 180'\n\n\n\n$Bottom5\n:   1. 'EDM: 112'\n2. 'Classical: 62'\n3. 'RnB: 48'\n4. 'Folk: 44'\n5. 'Gospel: 12'\n\n\n\n\n\n\n$Sometimes\n:   $Top5\n:   1. 'EDM: 362'\n2. 'Jazz: 229'\n3. 'Metal: 219'\n4. 'KPop: 176'\n5. 'Pop: 160'\n\n\n\n$Bottom5\n:   1. 'Lofi: 74'\n2. 'Country: 67'\n3. 'Classical: 56'\n4. 'Rock: 45'\n5. 'HipHop: 30'\n\n\n\n\n\n\n$`Very frequently`\n:   $Top5\n:   1. 'Rock: 277'\n2. 'EDM: 237'\n3. 'Country: 215'\n4. 'Rap: 183'\n5. 'Folk: 182'\n\n\n\n$Bottom5\n:   1. 'Classical: 117'\n2. 'Metal: 116'\n3. 'Jazz: 108'\n4. 'Pop: 78'\n5. 'RnB: 76'\n\n\n\n\n\n\n\n\n",
            "text/latex": "\\begin{description}\n\\item[\\$Never] \\begin{description}\n\\item[\\$Top5] \\begin{enumerate*}\n\\item 'Gospel: 289'\n\\item 'Latin: 249'\n\\item 'RnB: 242'\n\\item 'Country: 223'\n\\item 'HipHop: 188'\n\\end{enumerate*}\n\n\\item[\\$Bottom5] \\begin{enumerate*}\n\\item 'Metal: 121'\n\\item 'Jazz: 95'\n\\item 'Folk: 86'\n\\item 'Pop: 84'\n\\item 'KPop: 42'\n\\end{enumerate*}\n\n\\end{description}\n\n\\item[\\$Rarely] \\begin{description}\n\\item[\\$Top5] \\begin{enumerate*}\n\\item 'Country: 446'\n\\item 'Rap: 347'\n\\item 'Metal: 212'\n\\item 'Lofi: 208'\n\\item 'KPop: 180'\n\\end{enumerate*}\n\n\\item[\\$Bottom5] \\begin{enumerate*}\n\\item 'EDM: 112'\n\\item 'Classical: 62'\n\\item 'RnB: 48'\n\\item 'Folk: 44'\n\\item 'Gospel: 12'\n\\end{enumerate*}\n\n\\end{description}\n\n\\item[\\$Sometimes] \\begin{description}\n\\item[\\$Top5] \\begin{enumerate*}\n\\item 'EDM: 362'\n\\item 'Jazz: 229'\n\\item 'Metal: 219'\n\\item 'KPop: 176'\n\\item 'Pop: 160'\n\\end{enumerate*}\n\n\\item[\\$Bottom5] \\begin{enumerate*}\n\\item 'Lofi: 74'\n\\item 'Country: 67'\n\\item 'Classical: 56'\n\\item 'Rock: 45'\n\\item 'HipHop: 30'\n\\end{enumerate*}\n\n\\end{description}\n\n\\item[\\$`Very frequently`] \\begin{description}\n\\item[\\$Top5] \\begin{enumerate*}\n\\item 'Rock: 277'\n\\item 'EDM: 237'\n\\item 'Country: 215'\n\\item 'Rap: 183'\n\\item 'Folk: 182'\n\\end{enumerate*}\n\n\\item[\\$Bottom5] \\begin{enumerate*}\n\\item 'Classical: 117'\n\\item 'Metal: 116'\n\\item 'Jazz: 108'\n\\item 'Pop: 78'\n\\item 'RnB: 76'\n\\end{enumerate*}\n\n\\end{description}\n\n\\end{description}\n",
            "text/plain": [
              "$Never\n",
              "$Never$Top5\n",
              "[1] \"Gospel: 289\"  \"Latin: 249\"   \"RnB: 242\"     \"Country: 223\" \"HipHop: 188\" \n",
              "\n",
              "$Never$Bottom5\n",
              "[1] \"Metal: 121\" \"Jazz: 95\"   \"Folk: 86\"   \"Pop: 84\"    \"KPop: 42\"  \n",
              "\n",
              "\n",
              "$Rarely\n",
              "$Rarely$Top5\n",
              "[1] \"Country: 446\" \"Rap: 347\"     \"Metal: 212\"   \"Lofi: 208\"    \"KPop: 180\"   \n",
              "\n",
              "$Rarely$Bottom5\n",
              "[1] \"EDM: 112\"      \"Classical: 62\" \"RnB: 48\"       \"Folk: 44\"     \n",
              "[5] \"Gospel: 12\"   \n",
              "\n",
              "\n",
              "$Sometimes\n",
              "$Sometimes$Top5\n",
              "[1] \"EDM: 362\"   \"Jazz: 229\"  \"Metal: 219\" \"KPop: 176\"  \"Pop: 160\"  \n",
              "\n",
              "$Sometimes$Bottom5\n",
              "[1] \"Lofi: 74\"      \"Country: 67\"   \"Classical: 56\" \"Rock: 45\"     \n",
              "[5] \"HipHop: 30\"   \n",
              "\n",
              "\n",
              "$`Very frequently`\n",
              "$`Very frequently`$Top5\n",
              "[1] \"Rock: 277\"    \"EDM: 237\"     \"Country: 215\" \"Rap: 183\"     \"Folk: 182\"   \n",
              "\n",
              "$`Very frequently`$Bottom5\n",
              "[1] \"Classical: 117\" \"Metal: 116\"     \"Jazz: 108\"      \"Pop: 78\"       \n",
              "[5] \"RnB: 76\"       \n",
              "\n"
            ]
          },
          "metadata": {}
        }
      ]
    },
    {
      "cell_type": "code",
      "source": [
        "# Music Effect (Pie Chart)\n",
        "\n",
        "library(ggplot2)\n",
        "\n",
        "# Assuming mxmh_clean is your data frame\n",
        "ggplot(mxmh_clean, aes(x = \"\", fill = Music.effects)) +\n",
        "  geom_bar(width = 1) +\n",
        "  coord_polar(theta = \"y\") +\n",
        "  scale_fill_manual(values = c(\"Improve\" = \"light green\", \"No effect\" = \"light blue\", \"Worsen\" = \"orange\")) +\n",
        "  labs(x = NULL, y = NULL, fill = \"Music Effects\", title = \"Pie Chart of Music Effects\") +\n",
        "  theme_void()"
      ],
      "metadata": {
        "id": "SGjv4mIoqEBj",
        "colab": {
          "base_uri": "https://localhost:8080/"
        },
        "outputId": "2f698396-abf0-4250-a99c-7518473bf425"
      },
      "execution_count": null,
      "outputs": [
        {
          "output_type": "display_data",
          "data": {
            "text/plain": [
              "plot without title"
            ],
            "image/png": "[encoded data removed]"
          },
          "metadata": {
            "image/png": {
              "width": 420,
              "height": 420
            }
          }
        }
      ]
    },
    {
      "cell_type": "code",
      "source": [
        "# Stacked Bar Chart (Binomial Data)\n",
        "\n",
        "library(ggplot2)\n",
        "library(dplyr)\n",
        "library(tidyr)\n",
        "\n",
        "# Reshape the data to long format\n",
        "long_data <- mxmh_clean %>%\n",
        "  select(While.working, Instrumentalist, Composer, Exploratory, Foreign.languages) %>%\n",
        "  pivot_longer(cols = everything(), names_to = \"Category\", values_to = \"Value\")\n",
        "\n",
        "# Calculate percentages\n",
        "long_data <- long_data %>%\n",
        "  group_by(Category, Value) %>%\n",
        "  summarise(Count = n(), .groups = 'drop') %>%\n",
        "  group_by(Category) %>%\n",
        "  mutate(Percent = Count / sum(Count) * 100,\n",
        "         CumPercent = cumsum(Percent))  # Calculate cumulative percentages for label positioning\n",
        "\n",
        "# Plot horizontal stacked bar chart\n",
        "ggplot(long_data, aes(y = Category, x = Percent, fill = Value)) +\n",
        "  geom_bar(stat = \"identity\", position = \"fill\", orientation = \"y\") +\n",
        "  geom_text(aes(label = sprintf(\"%.1f%%\", Percent), x = CumPercent - Percent/2), position = position_fill(vjust = 0.5)) +\n",
        "  labs(title = \"Horizontal Stacked Bar Chart with Percentages\", y = \"Category\", x = \"Percentage\") +\n",
        "  theme_minimal() +\n",
        "  theme(axis.text.y = element_text(angle = 0, hjust = 1))  # Ensure labels on y-axis are properly aligned\n"
      ],
      "metadata": {
        "id": "iRBr3vy89zT1",
        "colab": {
          "base_uri": "https://localhost:8080/"
        },
        "outputId": "578ec774-1554-4df3-a39f-c69822f812ea"
      },
      "execution_count": null,
      "outputs": [
        {
          "output_type": "display_data",
          "data": {
            "text/plain": [
              "plot without title"
            ],
            "image/png": "[encoded data removed]"
          },
          "metadata": {
            "image/png": {
              "width": 420,
              "height": 420
            }
          }
        }
      ]
    },
    {
      "cell_type": "markdown",
      "source": [
        "3. Binomial Data (Stacked Bar Chart + Table + Bar Chart)"
      ],
      "metadata": {
        "id": "LAT2scdEKL7j"
      }
    },
    {
      "cell_type": "code",
      "source": [
        "table(mxmh_clean$While.working)\n",
        "table(mxmh_clean$Instrumentalist)\n",
        "table(mxmh_clean$Composer)\n",
        "table(mxmh_clean$Exploratory)\n",
        "table(mxmh_clean$Foreign.languages)\n",
        "\n",
        "# Set up the plotting layout to have multiple plots in one figure\n",
        "par(mfrow = c(2, 3))  # Arrange plots in 2 rows and 3 columns\n",
        "\n",
        "plot_bar_chart <- function(data, column_name) {\n",
        "  counts <- table(data[[column_name]])\n",
        "  barplot(counts, main=paste(\"Bar Chart of\", column_name), col=rainbow(length(counts)), ylim=c(0, max(counts) + 10))\n",
        "}\n",
        "\n",
        "# List of columns to plot\n",
        "columns_to_plot <- c(\"While.working\", \"Instrumentalist\", \"Composer\", \"Exploratory\", \"Foreign.languages\")\n",
        "\n",
        "# Apply the function to each column\n",
        "for (column in columns_to_plot) {\n",
        "  plot_bar_chart(mxmh_clean, column)\n",
        "}\n",
        "\n",
        "par(mfrow = c(1, 1))  # Reset to default (single plot)"
      ],
      "metadata": {
        "id": "_FuBPKDBJRa5",
        "colab": {
          "base_uri": "https://localhost:8080/"
        },
        "outputId": "3690ece3-89c1-44aa-99f1-6f4e933f43b6"
      },
      "execution_count": null,
      "outputs": [
        {
          "output_type": "display_data",
          "data": {
            "text/plain": [
              "\n",
              " No Yes \n",
              "126 488 "
            ]
          },
          "metadata": {}
        },
        {
          "output_type": "display_data",
          "data": {
            "text/plain": [
              "\n",
              " No Yes \n",
              "414 200 "
            ]
          },
          "metadata": {}
        },
        {
          "output_type": "display_data",
          "data": {
            "text/plain": [
              "\n",
              " No Yes \n",
              "506 108 "
            ]
          },
          "metadata": {}
        },
        {
          "output_type": "display_data",
          "data": {
            "text/plain": [
              "\n",
              " No Yes \n",
              "165 449 "
            ]
          },
          "metadata": {}
        },
        {
          "output_type": "display_data",
          "data": {
            "text/plain": [
              "\n",
              " No Yes \n",
              "268 346 "
            ]
          },
          "metadata": {}
        },
        {
          "output_type": "display_data",
          "data": {
            "text/plain": [
              "Plot with title “Bar Chart of Foreign.languages”"
            ],
            "image/png": "[encoded data removed]"
          },
          "metadata": {
            "image/png": {
              "width": 420,
              "height": 420
            }
          }
        }
      ]
    },
    {
      "cell_type": "markdown",
      "source": [
        "3. Binomial Data (Pie Chart)"
      ],
      "metadata": {
        "id": "mnYYDF3YI1YU"
      }
    },
    {
      "cell_type": "code",
      "source": [
        "par(mfrow = c(2, 3))  # Arrange plots in 2 rows and 3 columns\n",
        "\n",
        "plot_pie_chart <- function(data, column_name, title, colors) {\n",
        "  response_counts <- table(data[[column_name]])\n",
        "  percentages <- round(100 * response_counts / sum(response_counts), 1)\n",
        "  labels <- paste(names(percentages), \"-\", percentages, \"%\", sep=\"\")\n",
        "  pie(response_counts, labels = labels, main = title, col = colors)\n",
        "}\n",
        "\n",
        "plot_pie_chart(mxmh_clean, \"Instrumentalist\", \"Instrumentalist\", c(\"red\", \"green\"))\n",
        "plot_pie_chart(mxmh_clean, \"While.working\", \"Working\", c(\"red\", \"green\"))\n",
        "plot_pie_chart(mxmh_clean, \"Composer\", \"Composer\", c(\"red\", \"green\"))\n",
        "plot_pie_chart(mxmh_clean, \"Exploratory\", \"Exploratory\", c(\"red\", \"green\"))\n",
        "plot_pie_chart(mxmh_clean, \"Foreign.languages\", \"Foreign Languages\", c(\"red\", \"green\"))\n",
        "\n",
        "par(mfrow = c(1, 1))  # Reset to default (single plot)"
      ],
      "metadata": {
        "id": "Ug_1E_ImKkyH",
        "colab": {
          "base_uri": "https://localhost:8080/"
        },
        "outputId": "93e5dffd-7060-4323-a929-11b9298b6374"
      },
      "execution_count": null,
      "outputs": [
        {
          "output_type": "display_data",
          "data": {
            "text/plain": [
              "Plot with title “Foreign Languages”"
            ],
            "image/png": "[encoded data removed]"
          },
          "metadata": {
            "image/png": {
              "width": 420,
              "height": 420
            }
          }
        }
      ]
    },
    {
      "cell_type": "markdown",
      "source": [
        "**Multivariate Analysis**\n",
        "\n",
        "1. Correlation Matrix (Heatmap)"
      ],
      "metadata": {
        "id": "Aq4PzIJCm9EJ"
      }
    },
    {
      "cell_type": "code",
      "source": [
        "# Change to 0 and 1 for \"no\" and \"yes\"\n",
        "\n",
        "# Load the dplyr library\n",
        "library(dplyr)\n",
        "\n",
        "# Subset the dataframe with the specified columns\n",
        "sub_df <- mxmh_clean[, c(\"Age\", \"Hours.per.day\", \"While.working\", \"Instrumentalist\", \"Composer\", \"Exploratory\", \"Foreign.languages\")]\n",
        "\n",
        "# Replace 'No' with 0 and 'Yes' with 1 across the dataframe\n",
        "sub_df <- sub_df %>%\n",
        "  mutate(across(everything(), ~case_when(\n",
        "    . == \"No\" ~ 0,\n",
        "    . == \"Yes\" ~ 1,\n",
        "    TRUE ~ as.numeric(.)\n",
        "  )))\n",
        "\n",
        "# Check changes, replace 'Column_name' with the name of any relevant column to inspect\n",
        "table(sub_df$While.working)\n"
      ],
      "metadata": {
        "id": "sMuDQ6oyrG88",
        "colab": {
          "base_uri": "https://localhost:8080/"
        },
        "outputId": "ef83d637-6e95-4733-8b34-a78e2a4d6ed6"
      },
      "execution_count": null,
      "outputs": [
        {
          "output_type": "stream",
          "name": "stderr",
          "text": [
            "Warning message:\n",
            "“\u001b[1m\u001b[22mThere were 5 warnings in `mutate()`.\n",
            "The first warning was:\n",
            "\u001b[1m\u001b[22m\u001b[36mℹ\u001b[39m In argument: `across(...)`.\n",
            "Caused by warning:\n",
            "\u001b[33m!\u001b[39m NAs introduced by coercion\n",
            "\u001b[1m\u001b[22m\u001b[36mℹ\u001b[39m Run `dplyr::last_dplyr_warnings()` to see the 4 remaining warnings.”\n"
          ]
        },
        {
          "output_type": "display_data",
          "data": {
            "text/plain": [
              "\n",
              "  0   1 \n",
              "126 488 "
            ]
          },
          "metadata": {}
        }
      ]
    },
    {
      "cell_type": "code",
      "source": [
        "# Correlation heatmap for Respondent's Detail\n",
        "\n",
        "# Load necessary libraries\n",
        "install.packages(\"reshape2\")\n",
        "library(ggplot2)\n",
        "library(reshape2)\n",
        "\n",
        "# Explicitly specify the order of columns\n",
        "sub_df <- sub_df[, c(\"Age\", \"Hours.per.day\", \"While.working\", \"Instrumentalist\", \"Composer\", \"Exploratory\", \"Foreign.languages\")]\n",
        "\n",
        "# Calculate the correlation matrix\n",
        "corr_matrix <- cor(sub_df, use = \"complete.obs\")  # Handles missing values by using available data\n",
        "\n",
        "# Melt the correlation matrix for ggplot2\n",
        "melted_corr_matrix <- melt(corr_matrix)\n",
        "\n",
        "# Create a mask for the upper triangle, including the diagonal\n",
        "mask <- upper.tri(corr_matrix, diag = TRUE)\n",
        "\n",
        "# Add the mask as a column in the melted data\n",
        "melted_corr_matrix$mask <- mask[cbind(as.integer(melted_corr_matrix$Var2), as.integer(melted_corr_matrix$Var1))]\n",
        "\n",
        "# Filter the data frame to remove masked entries\n",
        "filtered_corr_matrix <- melted_corr_matrix[melted_corr_matrix$mask == FALSE, ]\n",
        "\n",
        "# Plot the heatmap without displaying 1 and symmetrical values\n",
        "ggplot(data = filtered_corr_matrix, aes(x = Var1, y = Var2, fill = value)) +\n",
        "  geom_tile() +  # This adds the fill tiles\n",
        "  scale_fill_gradient2(low = \"blue\", high = \"red\", mid = \"white\", midpoint = 0) +  # Color gradient\n",
        "  theme_minimal() +\n",
        "  labs(x = NULL, y = NULL, fill = \"Correlation\") +  # Remove axis labels and add legend title\n",
        "  geom_text(aes(label = sprintf(\"%.2f\", value)), color = \"black\", size = 3) +  # Add correlation coefficients without diagonal and symmetrical values\n",
        "  theme(axis.text.x = element_text(angle = 45, vjust = 1, hjust=1))  # Improve x-axis labels readability\n"
      ],
      "metadata": {
        "id": "dIdyIqnFnVxH",
        "colab": {
          "base_uri": "https://localhost:8080/"
        },
        "outputId": "bbf53ba2-c682-4244-bb83-d2a896f31258"
      },
      "execution_count": null,
      "outputs": [
        {
          "output_type": "stream",
          "name": "stderr",
          "text": [
            "Installing package into ‘/usr/local/lib/R/site-library’\n",
            "(as ‘lib’ is unspecified)\n",
            "\n"
          ]
        }
      ]
    },
    {
      "cell_type": "code",
      "source": [
        "# Correlation heatmap for Respondent's Mental Health Status\n",
        "\n",
        "# Load necessary libraries\n",
        "install.packages(\"reshape2\")\n",
        "library(ggplot2)\n",
        "library(reshape2)\n",
        "\n",
        "# Ensure the dataframe 'sub_df' includes only the variables of interest\n",
        "sub_df2 <- mxmh_clean[, c(\"Anxiety\", \"Depression\", \"Insomnia\", \"OCD\")]\n",
        "\n",
        "# Calculate the correlation matrix\n",
        "corr_matrix <- cor(sub_df2, use = \"complete.obs\")  # Handles missing values by using available data\n",
        "\n",
        "# Melt the correlation matrix for ggplot2\n",
        "melted_corr_matrix <- melt(corr_matrix)\n",
        "\n",
        "# Create a mask for the upper triangle, including the diagonal\n",
        "mask <- upper.tri(corr_matrix, diag = TRUE)\n",
        "\n",
        "# Add the mask as a column in the melted data\n",
        "melted_corr_matrix$mask <- mask[cbind(as.integer(melted_corr_matrix$Var2), as.integer(melted_corr_matrix$Var1))]\n",
        "\n",
        "# Filter the data frame to remove masked entries\n",
        "filtered_corr_matrix <- melted_corr_matrix[melted_corr_matrix$mask == FALSE, ]\n",
        "\n",
        "# Plot the heatmap without displaying 1 and symmetrical values\n",
        "ggplot(data = filtered_corr_matrix, aes(x = Var1, y = Var2, fill = value)) +\n",
        "  geom_tile() +  # This adds the fill tiles\n",
        "  scale_fill_gradient2(low = \"blue\", high = \"red\", mid = \"white\", midpoint = 0) +  # Color gradient\n",
        "  theme_minimal() +\n",
        "  labs(x = NULL, y = NULL, fill = \"Correlation\") +  # Remove axis labels and add legend title\n",
        "  geom_text(aes(label = sprintf(\"%.2f\", value)), color = \"black\", size = 3) +  # Add correlation coefficients without diagonal and symmetrical values\n",
        "  theme(axis.text.x = element_text(angle = 45, vjust = 1, hjust=1))  # Improve x-axis labels readability\n"
      ],
      "metadata": {
        "id": "4xSE5hwpvCAW"
      },
      "execution_count": null,
      "outputs": []
    },
    {
      "cell_type": "code",
      "source": [
        "# Primary Streaming Device by Age\n",
        "\n",
        "# Load necessary libraries\n",
        "library(ggplot2)\n",
        "library(dplyr)\n",
        "\n",
        "# Replace values in the 'Primary_streaming_service' column\n",
        "plot_1 <- mxmh_clean %>%\n",
        "  mutate(Primary.streaming.service = recode(Primary.streaming.service,\n",
        "                                            `Other streaming service` = \"Other\",\n",
        "                                            `I do not use a streaming service.` = \"None\",\n",
        "                                            `YouTube Music` = \"YouTube\"))\n",
        "\n",
        "# Define colors\n",
        "s_colors2 <- c(\"lightgreen\", \"darkturquoise\", \"lightcoral\", \"steelblue\", \"palevioletred\", \"gold\")\n",
        "\n",
        "# Create a boxplot with custom colors and scaled age\n",
        "bplot <- ggplot(plot_1, aes(x = Primary.streaming.service, y = Age, fill = Primary.streaming.service)) +\n",
        "  geom_boxplot(outlier.shape = NA) +  # Draw boxplot and hide outliers\n",
        "  scale_fill_manual(values = s_colors2) +  # Apply the custom color palette\n",
        "  scale_y_continuous(breaks = seq(10, 80, by = 10), limits = c(1, 80)) +  # Scale age from 1 to 80, with breaks every 10\n",
        "  labs(title = 'Streaming Services by Age', x = 'Primary Streaming Service', y = 'Age') +\n",
        "  theme_minimal()  # Use a minimalistic theme for the plot\n",
        "\n",
        "# Print the plot\n",
        "print(bplot)\n"
      ],
      "metadata": {
        "id": "yRItpMXk2nnI"
      },
      "execution_count": null,
      "outputs": []
    },
    {
      "cell_type": "code",
      "source": [
        "# Favourite Genre by Age\n",
        "\n",
        "# Load the ggplot2 library\n",
        "library(ggplot2)\n",
        "\n",
        "# Create a boxplot for 'Fav.genre' by 'Age' with unique colors for each genre and a legend\n",
        "bplot <- ggplot(mxmh_clean, aes(x = Fav.genre, y = Age, fill = Fav.genre)) +\n",
        "  geom_boxplot(outlier.shape = NA) +  # Draw boxplot and hide outliers\n",
        "  scale_y_continuous(breaks = seq(10, 80, by = 10), limits = c(1, 80)) +  # Set y-axis breaks and limits\n",
        "  labs(title = 'Favorite Genre by Age', x = 'Favorite Genre', y = 'Age') +\n",
        "  theme_minimal() +  # Use a minimalistic theme for the plot\n",
        "  theme(axis.text.x = element_text(angle = 45, hjust = 1, vjust = 1, size = 12),  # Adjust x-axis labels for better readability\n",
        "  legend.title = element_text(size = 12),  # Customize legend title\n",
        "  legend.text = element_text(size = 10))  # Customize legend text\n",
        "\n",
        "# Print the plot\n",
        "print(bplot)\n"
      ],
      "metadata": {
        "id": "T6Bhl5lc5tMz"
      },
      "execution_count": null,
      "outputs": []
    },
    {
      "cell_type": "code",
      "source": [
        "# Favourite Genre by BPM\n",
        "\n",
        "library(ggplot2)\n",
        "library(dplyr)\n",
        "\n",
        "# Assuming mxmh_clean is your dataframe\n",
        "mxmh_clean <- mxmh_clean %>%\n",
        "  filter(BPM > 50 & BPM < 210) %>% # Ensuring BPM is within the limits for plotting\n",
        "  arrange(`Fav.genre`) # Sorting by favorite genre\n",
        "\n",
        "# Create a box plot with colors\n",
        "p <- ggplot(mxmh_clean, aes(x=`Fav.genre`, y=BPM, fill=`Fav.genre`)) +\n",
        "  geom_boxplot(outlier.shape = NA, width = 0.5) + # Hide outliers\n",
        "  coord_cartesian(ylim = c(50, 210)) + # Set y-axis limits\n",
        "  labs(title=\"Genre vs BPM\") +\n",
        "  theme(axis.text.x = element_text(angle = 45, hjust = 1)) # Rotate x labels\n",
        "\n",
        "print(p)"
      ],
      "metadata": {
        "id": "ws1ad_lwHyMa"
      },
      "execution_count": null,
      "outputs": []
    },
    {
      "cell_type": "code",
      "source": [
        "# BPM vs Mental Health (Density Plot, count)\n",
        "\n",
        "# Load necessary libraries\n",
        "library(ggplot2)\n",
        "library(dplyr)\n",
        "library(viridis)  # for distinct color palettes\n",
        "\n",
        "# Assuming your data frame is named mxmh_clean\n",
        "# First, reshape the data for easier plotting\n",
        "mxmh_long <- mxmh_clean %>%\n",
        "  select(BPM, Anxiety, Depression, Insomnia, OCD) %>%\n",
        "  pivot_longer(cols = -BPM, names_to = \"Condition\", values_to = \"MentalHealthRanking\")\n",
        "\n",
        "# Plotting with count instead of density\n",
        "p <- ggplot(mxmh_long, aes(x = BPM, y = MentalHealthRanking)) +\n",
        "  geom_bin2d(aes(fill = stat(count)), binwidth = c(10, 1)) + # Adjust binwidth as necessary\n",
        "  scale_fill_viridis(name = \"Count\", option = \"C\", direction = -1) + # Viridis color palette\n",
        "  facet_wrap(~Condition, scales = \"free_y\", ncol = 2) +\n",
        "  labs(title = \"BPM vs Mental Health\", x = \"BPM\", y = \"Mental health ranking\") +\n",
        "  theme_minimal() +\n",
        "  theme(strip.text.x = element_text(size = 12, face = \"bold\"),\n",
        "        axis.text.x = element_text(),  # Re-enabling x-axis labels\n",
        "        axis.title.x = element_text(face = \"bold\"),\n",
        "        plot.title = element_text(hjust = 0.5))\n",
        "\n",
        "# Print the plot\n",
        "print(p)\n"
      ],
      "metadata": {
        "id": "iySS_upvQSPf"
      },
      "execution_count": null,
      "outputs": []
    },
    {
      "cell_type": "code",
      "source": [
        "# plot just for next step\n",
        "\n",
        "library(dplyr)\n",
        "library(ggplot2)\n",
        "\n",
        "# Assuming mxmh_clean is already loaded\n",
        "m_all <- c(\"Anxiety\", \"Depression\", \"Insomnia\", \"OCD\")\n",
        "\n",
        "# Calculate the counts for each ranking from 0 to 10 for each disorder\n",
        "disorder_counts <- mxmh_clean %>%\n",
        "  select(all_of(m_all)) %>%\n",
        "  pivot_longer(cols = everything(), names_to = \"disorder\", values_to = \"ranking\") %>%\n",
        "  group_by(disorder, ranking) %>%\n",
        "  summarise(count = n(), .groups = 'drop') %>%\n",
        "  filter(ranking %in% 0:10) %>%\n",
        "  mutate(ranking = factor(ranking, levels = as.character(0:10)))\n",
        "\n",
        "# Plotting\n",
        "ggplot(disorder_counts, aes(x = ranking, y = count, fill = disorder)) +\n",
        "  geom_bar(stat = \"identity\", position = position_dodge(width = 0.15)) +\n",
        "  scale_fill_manual(values = c(\"Anxiety\" = \"lightpink\", \"Depression\" = \"cornflowerblue\",\n",
        "                               \"Insomnia\" = \"darkmagenta\", \"OCD\" = \"orange\")) +\n",
        "  labs(title = \"Mental health ranking distribution\",\n",
        "       x = \"Ranking\",\n",
        "       y = \"Number of Rankings\") +\n",
        "  theme_minimal() +\n",
        "  theme(plot.title = element_text(hjust = 0.5))\n"
      ],
      "metadata": {
        "id": "GD7U4rQvbqg5"
      },
      "execution_count": null,
      "outputs": []
    },
    {
      "cell_type": "code",
      "source": [
        "library(dplyr)\n",
        "library(ggplot2)\n",
        "\n",
        "# Assuming mxmh_clean is already loaded\n",
        "m_all <- c(\"Anxiety\", \"Depression\", \"Insomnia\", \"OCD\")\n",
        "\n",
        "# Calculate the counts for each ranking of >8 for each disorder, excluding NAs\n",
        "disorder_counts <- mxmh_clean %>%\n",
        "  select(all_of(m_all)) %>%\n",
        "  pivot_longer(cols = everything(), names_to = \"disorder\", values_to = \"ranking\") %>%\n",
        "  filter(!is.na(ranking)) %>% # Exclude NA values effectively\n",
        "  group_by(disorder, ranking) %>%\n",
        "  summarise(count = n(), .groups = 'drop') %>%\n",
        "  filter(ranking > 8) %>%\n",
        "  mutate(ranking = factor(ranking, levels = as.character(9:10)))\n",
        "\n",
        "# Plotting\n",
        "ggplot(disorder_counts, aes(x = ranking, y = count, fill = disorder)) +\n",
        "  geom_bar(stat = \"identity\", position = position_dodge(width = 0.15)) +\n",
        "  scale_fill_manual(values = c(\"Anxiety\" = \"lightpink\", \"Depression\" = \"cornflowerblue\",\n",
        "                               \"Insomnia\" = \"darkmagenta\", \"OCD\" = \"orange\")) +\n",
        "  labs(title = \"Mental health extreme ranking distribution\",\n",
        "       x = \"Extreme Ranking (>=8)\",\n",
        "       y = \"Number of Rankings\") +\n",
        "  theme_minimal() +\n",
        "  theme(plot.title = element_text(hjust = 0.5))\n"
      ],
      "metadata": {
        "id": "91Ae4u2CdcWc"
      },
      "execution_count": null,
      "outputs": []
    },
    {
      "cell_type": "code",
      "source": [
        "# Genre Popularity\n",
        "\n",
        "library(dplyr)\n",
        "library(ggplot2)\n",
        "library(tidyr)  # For pivot_longer\n",
        "\n",
        "# Assuming 'mxmh_clean' is your DataFrame\n",
        "# Extract the frequency distributions from columns 11 to 26\n",
        "frequency_data <- mxmh_clean[, 11:26]\n",
        "\n",
        "# Compute the value counts for each category in each column\n",
        "freq_list <- lapply(frequency_data, function(col) {\n",
        "  table(factor(col, levels = c(\"Very frequently\", \"Sometimes\", \"Rare\", \"Never\")))\n",
        "})\n",
        "\n",
        "# Convert list to a data frame and add a column for genres\n",
        "freq_df <- as.data.frame(do.call(cbind, freq_list))\n",
        "names(freq_df) <- colnames(frequency_data)\n",
        "\n",
        "# Add row names as a new column for the categories\n",
        "freq_df$Category <- row.names(freq_df)\n",
        "\n",
        "# Use pivot_longer from tidyr to convert from wide to long format\n",
        "long_freq_df <- pivot_longer(freq_df, cols = -Category, names_to = \"Genre\", values_to = \"Count\")\n",
        "\n",
        "# Create the plot\n",
        "p <- ggplot(long_freq_df, aes(x = Genre, y = Count, fill = Category)) +\n",
        "  geom_bar(stat = \"identity\", position = \"stack\") +\n",
        "  scale_fill_manual(values = c(\"Never\" = \"lightpink\", \"Rare\" = \"plum\", \"Sometimes\" = \"mediumpurple\", \"Very frequently\" = \"navy\")) +\n",
        "  labs(title = \"(In Depth) Genres by Popularity\", x = NULL, y = \"Frequency\") +\n",
        "  theme(axis.text.x = element_text(angle = 45, hjust = 1)) +\n",
        "  guides(fill = guide_legend(title = NULL))\n",
        "\n",
        "# Print the plot\n",
        "print(p)\n"
      ],
      "metadata": {
        "id": "0S7803k0T_uZ"
      },
      "execution_count": null,
      "outputs": []
    },
    {
      "cell_type": "code",
      "source": [
        "# data <- df3\n",
        "# # 对 BPM 变量进行分组\n",
        "# data$BPM_category <- cut(data$BPM, breaks = 3, labels = c(\"Low\", \"Medium\", \"High\"), include.lowest = TRUE)\n",
        "\n",
        "# # 对 Anxiety 变量进行分组\n",
        "# data$Anxiety_new <- cut(data$Anxiety, breaks = c(0, 3, 7, 11), labels = c(\"Low\", \"Medium\", \"High\"), right = FALSE)\n",
        "\n",
        "# # 对 Depression 变量进行分组\n",
        "# data$Depression_new <- cut(data$Depression, breaks = c(0, 3, 7, 11), labels = c(\"Low\", \"Medium\", \"High\"), right = FALSE)\n",
        "\n",
        "# # 对 Insomnia 变量进行分组\n",
        "# data$Insomnia_new <- cut(data$Insomnia, breaks = c(0, 3, 7, 11), labels = c(\"Low\", \"Medium\", \"High\"), right = FALSE)\n",
        "\n",
        "# # 对 OCD 变量进行分组\n",
        "# data$OCD_new <- cut(data$OCD, breaks = c(0, 3, 7, 11), labels = c(\"Low\", \"Medium\", \"High\"), right = FALSE)"
      ],
      "metadata": {
        "id": "cSezTGO7Ku0r"
      },
      "execution_count": null,
      "outputs": []
    },
    {
      "cell_type": "markdown",
      "source": [
        "# Modeling"
      ],
      "metadata": {
        "id": "uQQMT20HogDK"
      }
    },
    {
      "cell_type": "code",
      "source": [
        "# Install the 'caret' package if not already installed\n",
        "if (!requireNamespace(\"caret\", quietly = TRUE)) {\n",
        "  install.packages(\"caret\")\n",
        "}\n",
        "\n",
        "# Install the 'ROSE' package if not already installed\n",
        "if (!requireNamespace(\"ROSE\", quietly = TRUE)) {\n",
        "  install.packages(\"ROSE\")\n",
        "}\n",
        "\n",
        "# Load the packages\n",
        "library(caret)\n",
        "library(ROSE)\n",
        "library(dplyr)"
      ],
      "metadata": {
        "id": "lb0FTNKwq5pT"
      },
      "execution_count": 333,
      "outputs": []
    },
    {
      "cell_type": "markdown",
      "source": [
        "## Use ROSE for oversampling"
      ],
      "metadata": {
        "id": "0hmUdZ8uZHRu"
      }
    },
    {
      "cell_type": "code",
      "source": [
        "# Import data, converting Music.effects from 'Worsen' > 'No Effect'\n",
        "df <- read.csv(\"clean_data.csv\")\n",
        "table(df$Music.effects)\n",
        "\n",
        "data <- df %>%\n",
        "  mutate(`Music.effects` = recode(`Music.effects`, 'Worsen' = 'No effect'))\n",
        "table(data$Music.effects)"
      ],
      "metadata": {
        "id": "SWWl_dho6JCp",
        "colab": {
          "base_uri": "https://localhost:8080/",
          "height": 121
        },
        "outputId": "9269a3a2-f54e-463b-8548-528b4faadc76"
      },
      "execution_count": 335,
      "outputs": [
        {
          "output_type": "display_data",
          "data": {
            "text/plain": [
              "\n",
              "  Improve No effect    Worsen \n",
              "      464       135        15 "
            ]
          },
          "metadata": {}
        },
        {
          "output_type": "display_data",
          "data": {
            "text/plain": [
              "\n",
              "  Improve No effect \n",
              "      464       150 "
            ]
          },
          "metadata": {}
        }
      ]
    },
    {
      "cell_type": "code",
      "source": [
        "# Check data imbalance\n",
        "\n",
        "# Calculate class distribution for the \"Music.effects\" column\n",
        "class_distribution <- table(data2$Music.effects)\n",
        "cat(\"Class Distribution:\\n\", table(data2$Music.effects))\n",
        "\n",
        "# Calculate the imbalance ratio for each class\n",
        "total_instances <- nrow(data2)\n",
        "imbalance_ratios <- class_distribution / total_instances\n",
        "cat(\"\\nImbalance Ratios:\\n\")\n",
        "print(imbalance_ratios)"
      ],
      "metadata": {
        "colab": {
          "base_uri": "https://localhost:8080/"
        },
        "id": "G-8mStxWptZC",
        "outputId": "8f250651-e8a9-48bf-f27e-5106c7c25167"
      },
      "execution_count": 336,
      "outputs": [
        {
          "output_type": "stream",
          "name": "stdout",
          "text": [
            "Class Distribution:\n",
            " 464 150\n",
            "Imbalance Ratios:\n",
            "\n",
            "  Improve No effect \n",
            "0.7557003 0.2442997 \n"
          ]
        }
      ]
    },
    {
      "cell_type": "code",
      "source": [
        "# Grouping BPM variables\n",
        "data2$BPM <- cut(data$BPM, breaks = 3, labels = c(\"Low\", \"Medium\", \"High\"), include.lowest = TRUE)\n",
        "\n",
        "# Grouping Anxiety variables\n",
        "data2$Anxiety <- cut(data$Anxiety, breaks = c(0, 3, 7, 11), labels = c(\"Low\", \"Medium\", \"High\"), right = FALSE)\n",
        "\n",
        "# Grouping Depression variables\n",
        "data2$Depression <- cut(data$Depression, breaks = c(0, 3, 7, 11), labels = c(\"Low\", \"Medium\", \"High\"), right = FALSE)\n",
        "\n",
        "# Grouping Insomnia variables\n",
        "data2$Insomnia <- cut(data$Insomnia, breaks = c(0, 3, 7, 11), labels = c(\"Low\", \"Medium\", \"High\"), right = FALSE)\n",
        "\n",
        "# Grouping OCD variables\n",
        "data2$OCD <- cut(data$OCD, breaks = c(0, 3, 7, 11), labels = c(\"Low\", \"Medium\", \"High\"), right = FALSE)"
      ],
      "metadata": {
        "id": "BdhcCmc0Vcjc"
      },
      "execution_count": 337,
      "outputs": []
    },
    {
      "cell_type": "code",
      "source": [
        "# Convert the 'Music effects' column into a binary variable\n",
        "data2$Music_effect_binary <- ifelse(data2$Music.effects == 'Improve', 1, 0)\n",
        "\n",
        "# Remove the 'Music effects' and 'Music_effect_binary' columns\n",
        "data2x <- data2 %>% select(-c(`Music.effects`, Music_effect_binary))\n",
        "\n",
        "# Convert categorical variables to factors\n",
        "categorical_columns <- c('Primary.streaming.service', 'While.working', 'Instrumentalist',\n",
        "                         'Composer', 'Fav.genre', 'Exploratory', 'Foreign.languages',\n",
        "                         'Anxiety', 'Depression', 'OCD',\n",
        "                         'Insomnia')\n",
        "\n",
        "data2x[categorical_columns] <- lapply(data2x[categorical_columns], factor)\n",
        "\n",
        "# Convert numeric variables to factors\n",
        "data2x <- data2x %>% mutate(across(everything(), as.factor))"
      ],
      "metadata": {
        "id": "zQf_8TOM6fwF"
      },
      "execution_count": 339,
      "outputs": []
    },
    {
      "cell_type": "code",
      "source": [
        "# Oversampling using ROSE\n",
        "set.seed(123)\n",
        "oversampled_data <- ROSE(Music_effect_binary ~ ., data = cbind(data2x, Music_effect_binary = data2$Music_effect_binary), seed = 123)$data\n",
        "\n",
        "# Convert all variables back to their original type\n",
        "frequency_cols <- grep(\"Frequency \\\\[\", names(oversampled_data), value = TRUE)\n",
        "oversampled_data[frequency_cols] <- lapply(oversampled_data[frequency_cols], as.numeric)\n",
        "\n",
        "# Convert to dataframe\n",
        "data3 <- as.data.frame(oversampled_data)\n",
        "\n",
        "data3 <- data3 %>%\n",
        "  mutate(across(everything(), as.numeric))"
      ],
      "metadata": {
        "id": "FBOd8O4UJ4e4",
        "collapsed": true
      },
      "execution_count": 340,
      "outputs": []
    },
    {
      "cell_type": "code",
      "source": [
        "# Oversampling using ROSE\n",
        "set.seed(123)\n",
        "oversampled_data <- ROSE(Music_effect_binary ~ ., data = cbind(data2x, Music_effect_binary = data2$Music_effect_binary), seed = 123)$data\n",
        "\n",
        "# Convert all variables back to their original type\n",
        "frequency_cols <- grep(\"Frequency \\\\[\", names(oversampled_data), value = TRUE)\n",
        "oversampled_data[frequency_cols] <- lapply(oversampled_data[frequency_cols], as.numeric)\n",
        "\n",
        "# Convert to dataframe\n",
        "data3 <- as.data.frame(oversampled_data)\n",
        "\n",
        "data3 <- data3 %>%\n",
        "  mutate(across(everything(), as.numeric))\n",
        "data3"
      ],
      "metadata": {
        "colab": {
          "base_uri": "https://localhost:8080/",
          "height": 1000
        },
        "id": "l9H_mpR_pv5V",
        "outputId": "75ef709d-75a9-4177-8791-8f981c91473d"
      },
      "execution_count": 341,
      "outputs": [
        {
          "output_type": "display_data",
          "data": {
            "text/html": [
              "<table class=\"dataframe\">\n",
              "<caption>A data.frame: 614 × 15</caption>\n",
              "<thead>\n",
              "\t<tr><th></th><th scope=col>Age</th><th scope=col>Primary.streaming.service</th><th scope=col>Hours.per.day</th><th scope=col>While.working</th><th scope=col>Instrumentalist</th><th scope=col>Composer</th><th scope=col>Fav.genre</th><th scope=col>Exploratory</th><th scope=col>Foreign.languages</th><th scope=col>BPM</th><th scope=col>Anxiety</th><th scope=col>Depression</th><th scope=col>Insomnia</th><th scope=col>OCD</th><th scope=col>Music_effect_binary</th></tr>\n",
              "\t<tr><th></th><th scope=col>&lt;dbl&gt;</th><th scope=col>&lt;dbl&gt;</th><th scope=col>&lt;dbl&gt;</th><th scope=col>&lt;dbl&gt;</th><th scope=col>&lt;dbl&gt;</th><th scope=col>&lt;dbl&gt;</th><th scope=col>&lt;dbl&gt;</th><th scope=col>&lt;dbl&gt;</th><th scope=col>&lt;dbl&gt;</th><th scope=col>&lt;dbl&gt;</th><th scope=col>&lt;dbl&gt;</th><th scope=col>&lt;dbl&gt;</th><th scope=col>&lt;dbl&gt;</th><th scope=col>&lt;dbl&gt;</th><th scope=col>&lt;dbl&gt;</th></tr>\n",
              "</thead>\n",
              "<tbody>\n",
              "\t<tr><th scope=row>1</th><td>10</td><td>5</td><td> 5</td><td>2</td><td>1</td><td>1</td><td>12</td><td>2</td><td>1</td><td>2</td><td>2</td><td>1</td><td>2</td><td>1</td><td>1</td></tr>\n",
              "\t<tr><th scope=row>2</th><td>13</td><td>2</td><td> 5</td><td>2</td><td>2</td><td>1</td><td>16</td><td>1</td><td>1</td><td>2</td><td>3</td><td>1</td><td>1</td><td>1</td><td>1</td></tr>\n",
              "\t<tr><th scope=row>3</th><td> 8</td><td>5</td><td>10</td><td>2</td><td>2</td><td>2</td><td>12</td><td>2</td><td>2</td><td>2</td><td>2</td><td>2</td><td>2</td><td>2</td><td>1</td></tr>\n",
              "\t<tr><th scope=row>4</th><td> 8</td><td>1</td><td> 7</td><td>2</td><td>1</td><td>1</td><td>12</td><td>2</td><td>2</td><td>2</td><td>2</td><td>2</td><td>3</td><td>1</td><td>1</td></tr>\n",
              "\t<tr><th scope=row>5</th><td> 7</td><td>5</td><td>13</td><td>2</td><td>1</td><td>1</td><td> 6</td><td>1</td><td>2</td><td>2</td><td>3</td><td>3</td><td>2</td><td>2</td><td>1</td></tr>\n",
              "\t<tr><th scope=row>6</th><td>32</td><td>5</td><td> 7</td><td>2</td><td>1</td><td>1</td><td>15</td><td>1</td><td>2</td><td>2</td><td>1</td><td>2</td><td>2</td><td>1</td><td>1</td></tr>\n",
              "\t<tr><th scope=row>7</th><td>14</td><td>6</td><td> 5</td><td>2</td><td>1</td><td>1</td><td> 4</td><td>1</td><td>2</td><td>2</td><td>3</td><td>3</td><td>3</td><td>3</td><td>1</td></tr>\n",
              "\t<tr><th scope=row>8</th><td>20</td><td>2</td><td> 1</td><td>1</td><td>1</td><td>1</td><td>11</td><td>1</td><td>1</td><td>1</td><td>3</td><td>3</td><td>3</td><td>3</td><td>1</td></tr>\n",
              "\t<tr><th scope=row>9</th><td>34</td><td>3</td><td> 9</td><td>2</td><td>1</td><td>1</td><td> 4</td><td>2</td><td>2</td><td>2</td><td>3</td><td>3</td><td>3</td><td>1</td><td>1</td></tr>\n",
              "\t<tr><th scope=row>10</th><td>21</td><td>5</td><td>10</td><td>2</td><td>2</td><td>1</td><td> 1</td><td>1</td><td>2</td><td>2</td><td>2</td><td>3</td><td>3</td><td>2</td><td>1</td></tr>\n",
              "\t<tr><th scope=row>11</th><td>15</td><td>5</td><td> 9</td><td>2</td><td>1</td><td>1</td><td>11</td><td>1</td><td>1</td><td>3</td><td>3</td><td>3</td><td>2</td><td>1</td><td>1</td></tr>\n",
              "\t<tr><th scope=row>12</th><td>10</td><td>5</td><td>14</td><td>2</td><td>1</td><td>1</td><td> 7</td><td>2</td><td>2</td><td>2</td><td>3</td><td>2</td><td>3</td><td>2</td><td>1</td></tr>\n",
              "\t<tr><th scope=row>13</th><td> 8</td><td>6</td><td>12</td><td>2</td><td>2</td><td>2</td><td>12</td><td>1</td><td>2</td><td>2</td><td>2</td><td>1</td><td>1</td><td>1</td><td>1</td></tr>\n",
              "\t<tr><th scope=row>14</th><td>34</td><td>6</td><td> 6</td><td>1</td><td>1</td><td>1</td><td> 4</td><td>1</td><td>1</td><td>2</td><td>3</td><td>2</td><td>3</td><td>2</td><td>1</td></tr>\n",
              "\t<tr><th scope=row>15</th><td>11</td><td>5</td><td>10</td><td>2</td><td>2</td><td>1</td><td>15</td><td>2</td><td>1</td><td>1</td><td>3</td><td>2</td><td>2</td><td>1</td><td>1</td></tr>\n",
              "\t<tr><th scope=row>16</th><td>18</td><td>5</td><td>12</td><td>2</td><td>1</td><td>1</td><td>15</td><td>1</td><td>1</td><td>2</td><td>3</td><td>3</td><td>3</td><td>1</td><td>1</td></tr>\n",
              "\t<tr><th scope=row>17</th><td> 9</td><td>6</td><td>10</td><td>2</td><td>1</td><td>1</td><td>12</td><td>2</td><td>1</td><td>3</td><td>3</td><td>3</td><td>2</td><td>1</td><td>1</td></tr>\n",
              "\t<tr><th scope=row>18</th><td>10</td><td>5</td><td> 9</td><td>1</td><td>2</td><td>2</td><td> 6</td><td>2</td><td>2</td><td>2</td><td>3</td><td>3</td><td>2</td><td>2</td><td>1</td></tr>\n",
              "\t<tr><th scope=row>19</th><td> 3</td><td>5</td><td>16</td><td>2</td><td>1</td><td>1</td><td>14</td><td>2</td><td>1</td><td>2</td><td>3</td><td>1</td><td>1</td><td>3</td><td>1</td></tr>\n",
              "\t<tr><th scope=row>20</th><td>11</td><td>5</td><td> 9</td><td>2</td><td>1</td><td>1</td><td> 2</td><td>2</td><td>1</td><td>2</td><td>1</td><td>3</td><td>1</td><td>2</td><td>1</td></tr>\n",
              "\t<tr><th scope=row>21</th><td> 7</td><td>5</td><td> 7</td><td>2</td><td>2</td><td>2</td><td> 6</td><td>2</td><td>2</td><td>2</td><td>3</td><td>3</td><td>2</td><td>1</td><td>1</td></tr>\n",
              "\t<tr><th scope=row>22</th><td> 6</td><td>5</td><td> 8</td><td>2</td><td>2</td><td>2</td><td>15</td><td>2</td><td>2</td><td>2</td><td>1</td><td>1</td><td>1</td><td>1</td><td>1</td></tr>\n",
              "\t<tr><th scope=row>23</th><td>20</td><td>5</td><td> 5</td><td>1</td><td>2</td><td>1</td><td>15</td><td>2</td><td>1</td><td>2</td><td>2</td><td>1</td><td>1</td><td>2</td><td>1</td></tr>\n",
              "\t<tr><th scope=row>24</th><td>11</td><td>5</td><td> 9</td><td>1</td><td>1</td><td>1</td><td>14</td><td>2</td><td>2</td><td>2</td><td>3</td><td>3</td><td>3</td><td>2</td><td>1</td></tr>\n",
              "\t<tr><th scope=row>25</th><td>17</td><td>6</td><td> 9</td><td>2</td><td>1</td><td>1</td><td>11</td><td>2</td><td>2</td><td>2</td><td>1</td><td>1</td><td>1</td><td>1</td><td>1</td></tr>\n",
              "\t<tr><th scope=row>26</th><td> 9</td><td>5</td><td>12</td><td>2</td><td>1</td><td>1</td><td>15</td><td>1</td><td>1</td><td>2</td><td>1</td><td>1</td><td>1</td><td>1</td><td>1</td></tr>\n",
              "\t<tr><th scope=row>27</th><td>12</td><td>6</td><td> 7</td><td>2</td><td>1</td><td>1</td><td>12</td><td>1</td><td>1</td><td>2</td><td>3</td><td>3</td><td>3</td><td>2</td><td>1</td></tr>\n",
              "\t<tr><th scope=row>28</th><td>20</td><td>5</td><td>14</td><td>2</td><td>2</td><td>2</td><td>15</td><td>2</td><td>1</td><td>2</td><td>3</td><td>2</td><td>2</td><td>3</td><td>1</td></tr>\n",
              "\t<tr><th scope=row>29</th><td>15</td><td>1</td><td> 7</td><td>1</td><td>1</td><td>1</td><td> 3</td><td>1</td><td>2</td><td>3</td><td>3</td><td>2</td><td>1</td><td>2</td><td>1</td></tr>\n",
              "\t<tr><th scope=row>30</th><td>14</td><td>5</td><td>12</td><td>2</td><td>1</td><td>1</td><td>16</td><td>1</td><td>2</td><td>3</td><td>3</td><td>2</td><td>1</td><td>3</td><td>1</td></tr>\n",
              "\t<tr><th scope=row>⋮</th><td>⋮</td><td>⋮</td><td>⋮</td><td>⋮</td><td>⋮</td><td>⋮</td><td>⋮</td><td>⋮</td><td>⋮</td><td>⋮</td><td>⋮</td><td>⋮</td><td>⋮</td><td>⋮</td><td>⋮</td></tr>\n",
              "\t<tr><th scope=row>585</th><td>16</td><td>5</td><td>14</td><td>1</td><td>1</td><td>1</td><td>15</td><td>1</td><td>2</td><td>3</td><td>3</td><td>3</td><td>3</td><td>2</td><td>0</td></tr>\n",
              "\t<tr><th scope=row>586</th><td> 9</td><td>5</td><td> 9</td><td>2</td><td>1</td><td>1</td><td>15</td><td>2</td><td>2</td><td>2</td><td>2</td><td>1</td><td>3</td><td>1</td><td>0</td></tr>\n",
              "\t<tr><th scope=row>587</th><td> 9</td><td>5</td><td>11</td><td>2</td><td>1</td><td>1</td><td>15</td><td>2</td><td>2</td><td>2</td><td>3</td><td>3</td><td>3</td><td>2</td><td>0</td></tr>\n",
              "\t<tr><th scope=row>588</th><td> 7</td><td>5</td><td>18</td><td>2</td><td>2</td><td>1</td><td> 9</td><td>2</td><td>1</td><td>3</td><td>1</td><td>2</td><td>3</td><td>2</td><td>0</td></tr>\n",
              "\t<tr><th scope=row>589</th><td>13</td><td>5</td><td> 7</td><td>2</td><td>1</td><td>1</td><td>16</td><td>2</td><td>2</td><td>3</td><td>3</td><td>3</td><td>3</td><td>2</td><td>0</td></tr>\n",
              "\t<tr><th scope=row>590</th><td>22</td><td>5</td><td>11</td><td>2</td><td>1</td><td>1</td><td>15</td><td>1</td><td>2</td><td>2</td><td>3</td><td>3</td><td>2</td><td>1</td><td>0</td></tr>\n",
              "\t<tr><th scope=row>591</th><td>22</td><td>2</td><td> 5</td><td>1</td><td>1</td><td>1</td><td>15</td><td>1</td><td>1</td><td>2</td><td>3</td><td>2</td><td>2</td><td>1</td><td>0</td></tr>\n",
              "\t<tr><th scope=row>592</th><td>31</td><td>5</td><td> 9</td><td>2</td><td>1</td><td>1</td><td>12</td><td>1</td><td>2</td><td>2</td><td>3</td><td>3</td><td>2</td><td>1</td><td>0</td></tr>\n",
              "\t<tr><th scope=row>593</th><td>20</td><td>5</td><td>12</td><td>2</td><td>1</td><td>1</td><td> 4</td><td>2</td><td>2</td><td>2</td><td>3</td><td>1</td><td>2</td><td>1</td><td>0</td></tr>\n",
              "\t<tr><th scope=row>594</th><td> 7</td><td>1</td><td>11</td><td>2</td><td>1</td><td>1</td><td>11</td><td>2</td><td>1</td><td>2</td><td>3</td><td>3</td><td>2</td><td>3</td><td>0</td></tr>\n",
              "\t<tr><th scope=row>595</th><td> 3</td><td>5</td><td> 5</td><td>2</td><td>1</td><td>1</td><td>16</td><td>2</td><td>1</td><td>2</td><td>3</td><td>3</td><td>3</td><td>2</td><td>0</td></tr>\n",
              "\t<tr><th scope=row>596</th><td>13</td><td>5</td><td> 7</td><td>2</td><td>2</td><td>1</td><td>15</td><td>2</td><td>2</td><td>2</td><td>1</td><td>2</td><td>3</td><td>1</td><td>0</td></tr>\n",
              "\t<tr><th scope=row>597</th><td> 8</td><td>5</td><td> 7</td><td>2</td><td>1</td><td>1</td><td>13</td><td>1</td><td>2</td><td>3</td><td>2</td><td>2</td><td>1</td><td>1</td><td>0</td></tr>\n",
              "\t<tr><th scope=row>598</th><td>11</td><td>5</td><td>16</td><td>2</td><td>1</td><td>1</td><td>15</td><td>2</td><td>2</td><td>2</td><td>3</td><td>3</td><td>2</td><td>3</td><td>0</td></tr>\n",
              "\t<tr><th scope=row>599</th><td>23</td><td>3</td><td> 5</td><td>1</td><td>1</td><td>1</td><td>15</td><td>1</td><td>1</td><td>2</td><td>2</td><td>3</td><td>2</td><td>1</td><td>0</td></tr>\n",
              "\t<tr><th scope=row>600</th><td>40</td><td>2</td><td> 6</td><td>1</td><td>1</td><td>1</td><td>12</td><td>2</td><td>2</td><td>2</td><td>1</td><td>1</td><td>1</td><td>1</td><td>0</td></tr>\n",
              "\t<tr><th scope=row>601</th><td>22</td><td>2</td><td> 9</td><td>2</td><td>2</td><td>1</td><td>15</td><td>1</td><td>2</td><td>2</td><td>1</td><td>1</td><td>3</td><td>1</td><td>0</td></tr>\n",
              "\t<tr><th scope=row>602</th><td>24</td><td>2</td><td> 7</td><td>1</td><td>1</td><td>1</td><td>16</td><td>1</td><td>2</td><td>2</td><td>3</td><td>3</td><td>3</td><td>1</td><td>0</td></tr>\n",
              "\t<tr><th scope=row>603</th><td> 8</td><td>5</td><td> 5</td><td>1</td><td>1</td><td>1</td><td>12</td><td>2</td><td>1</td><td>2</td><td>2</td><td>1</td><td>1</td><td>1</td><td>0</td></tr>\n",
              "\t<tr><th scope=row>604</th><td>43</td><td>6</td><td> 7</td><td>2</td><td>2</td><td>2</td><td>15</td><td>2</td><td>1</td><td>2</td><td>1</td><td>1</td><td>3</td><td>1</td><td>0</td></tr>\n",
              "\t<tr><th scope=row>605</th><td> 3</td><td>5</td><td>12</td><td>2</td><td>1</td><td>1</td><td>14</td><td>2</td><td>1</td><td>2</td><td>2</td><td>1</td><td>1</td><td>1</td><td>0</td></tr>\n",
              "\t<tr><th scope=row>606</th><td> 8</td><td>5</td><td> 9</td><td>2</td><td>1</td><td>1</td><td>16</td><td>2</td><td>2</td><td>2</td><td>2</td><td>2</td><td>2</td><td>1</td><td>0</td></tr>\n",
              "\t<tr><th scope=row>607</th><td>13</td><td>6</td><td> 9</td><td>2</td><td>1</td><td>1</td><td>13</td><td>2</td><td>2</td><td>2</td><td>2</td><td>3</td><td>1</td><td>1</td><td>0</td></tr>\n",
              "\t<tr><th scope=row>608</th><td>24</td><td>5</td><td> 9</td><td>2</td><td>1</td><td>1</td><td> 1</td><td>1</td><td>2</td><td>2</td><td>1</td><td>1</td><td>1</td><td>1</td><td>0</td></tr>\n",
              "\t<tr><th scope=row>609</th><td> 7</td><td>5</td><td> 9</td><td>2</td><td>2</td><td>1</td><td>15</td><td>2</td><td>1</td><td>2</td><td>1</td><td>2</td><td>2</td><td>2</td><td>0</td></tr>\n",
              "\t<tr><th scope=row>610</th><td> 8</td><td>6</td><td> 9</td><td>2</td><td>1</td><td>1</td><td>12</td><td>1</td><td>1</td><td>3</td><td>2</td><td>2</td><td>1</td><td>1</td><td>0</td></tr>\n",
              "\t<tr><th scope=row>611</th><td>11</td><td>5</td><td> 9</td><td>2</td><td>1</td><td>1</td><td>12</td><td>2</td><td>2</td><td>2</td><td>2</td><td>3</td><td>2</td><td>1</td><td>0</td></tr>\n",
              "\t<tr><th scope=row>612</th><td>10</td><td>5</td><td> 7</td><td>2</td><td>2</td><td>1</td><td>12</td><td>1</td><td>2</td><td>2</td><td>2</td><td>1</td><td>1</td><td>1</td><td>0</td></tr>\n",
              "\t<tr><th scope=row>613</th><td> 8</td><td>5</td><td> 5</td><td>1</td><td>1</td><td>1</td><td>12</td><td>2</td><td>1</td><td>2</td><td>2</td><td>1</td><td>1</td><td>1</td><td>0</td></tr>\n",
              "\t<tr><th scope=row>614</th><td>13</td><td>5</td><td> 7</td><td>2</td><td>1</td><td>1</td><td>16</td><td>2</td><td>2</td><td>3</td><td>3</td><td>3</td><td>3</td><td>2</td><td>0</td></tr>\n",
              "</tbody>\n",
              "</table>\n"
            ],
            "text/markdown": "\nA data.frame: 614 × 15\n\n| <!--/--> | Age &lt;dbl&gt; | Primary.streaming.service &lt;dbl&gt; | Hours.per.day &lt;dbl&gt; | While.working &lt;dbl&gt; | Instrumentalist &lt;dbl&gt; | Composer &lt;dbl&gt; | Fav.genre &lt;dbl&gt; | Exploratory &lt;dbl&gt; | Foreign.languages &lt;dbl&gt; | BPM &lt;dbl&gt; | Anxiety &lt;dbl&gt; | Depression &lt;dbl&gt; | Insomnia &lt;dbl&gt; | OCD &lt;dbl&gt; | Music_effect_binary &lt;dbl&gt; |\n|---|---|---|---|---|---|---|---|---|---|---|---|---|---|---|---|\n| 1 | 10 | 5 |  5 | 2 | 1 | 1 | 12 | 2 | 1 | 2 | 2 | 1 | 2 | 1 | 1 |\n| 2 | 13 | 2 |  5 | 2 | 2 | 1 | 16 | 1 | 1 | 2 | 3 | 1 | 1 | 1 | 1 |\n| 3 |  8 | 5 | 10 | 2 | 2 | 2 | 12 | 2 | 2 | 2 | 2 | 2 | 2 | 2 | 1 |\n| 4 |  8 | 1 |  7 | 2 | 1 | 1 | 12 | 2 | 2 | 2 | 2 | 2 | 3 | 1 | 1 |\n| 5 |  7 | 5 | 13 | 2 | 1 | 1 |  6 | 1 | 2 | 2 | 3 | 3 | 2 | 2 | 1 |\n| 6 | 32 | 5 |  7 | 2 | 1 | 1 | 15 | 1 | 2 | 2 | 1 | 2 | 2 | 1 | 1 |\n| 7 | 14 | 6 |  5 | 2 | 1 | 1 |  4 | 1 | 2 | 2 | 3 | 3 | 3 | 3 | 1 |\n| 8 | 20 | 2 |  1 | 1 | 1 | 1 | 11 | 1 | 1 | 1 | 3 | 3 | 3 | 3 | 1 |\n| 9 | 34 | 3 |  9 | 2 | 1 | 1 |  4 | 2 | 2 | 2 | 3 | 3 | 3 | 1 | 1 |\n| 10 | 21 | 5 | 10 | 2 | 2 | 1 |  1 | 1 | 2 | 2 | 2 | 3 | 3 | 2 | 1 |\n| 11 | 15 | 5 |  9 | 2 | 1 | 1 | 11 | 1 | 1 | 3 | 3 | 3 | 2 | 1 | 1 |\n| 12 | 10 | 5 | 14 | 2 | 1 | 1 |  7 | 2 | 2 | 2 | 3 | 2 | 3 | 2 | 1 |\n| 13 |  8 | 6 | 12 | 2 | 2 | 2 | 12 | 1 | 2 | 2 | 2 | 1 | 1 | 1 | 1 |\n| 14 | 34 | 6 |  6 | 1 | 1 | 1 |  4 | 1 | 1 | 2 | 3 | 2 | 3 | 2 | 1 |\n| 15 | 11 | 5 | 10 | 2 | 2 | 1 | 15 | 2 | 1 | 1 | 3 | 2 | 2 | 1 | 1 |\n| 16 | 18 | 5 | 12 | 2 | 1 | 1 | 15 | 1 | 1 | 2 | 3 | 3 | 3 | 1 | 1 |\n| 17 |  9 | 6 | 10 | 2 | 1 | 1 | 12 | 2 | 1 | 3 | 3 | 3 | 2 | 1 | 1 |\n| 18 | 10 | 5 |  9 | 1 | 2 | 2 |  6 | 2 | 2 | 2 | 3 | 3 | 2 | 2 | 1 |\n| 19 |  3 | 5 | 16 | 2 | 1 | 1 | 14 | 2 | 1 | 2 | 3 | 1 | 1 | 3 | 1 |\n| 20 | 11 | 5 |  9 | 2 | 1 | 1 |  2 | 2 | 1 | 2 | 1 | 3 | 1 | 2 | 1 |\n| 21 |  7 | 5 |  7 | 2 | 2 | 2 |  6 | 2 | 2 | 2 | 3 | 3 | 2 | 1 | 1 |\n| 22 |  6 | 5 |  8 | 2 | 2 | 2 | 15 | 2 | 2 | 2 | 1 | 1 | 1 | 1 | 1 |\n| 23 | 20 | 5 |  5 | 1 | 2 | 1 | 15 | 2 | 1 | 2 | 2 | 1 | 1 | 2 | 1 |\n| 24 | 11 | 5 |  9 | 1 | 1 | 1 | 14 | 2 | 2 | 2 | 3 | 3 | 3 | 2 | 1 |\n| 25 | 17 | 6 |  9 | 2 | 1 | 1 | 11 | 2 | 2 | 2 | 1 | 1 | 1 | 1 | 1 |\n| 26 |  9 | 5 | 12 | 2 | 1 | 1 | 15 | 1 | 1 | 2 | 1 | 1 | 1 | 1 | 1 |\n| 27 | 12 | 6 |  7 | 2 | 1 | 1 | 12 | 1 | 1 | 2 | 3 | 3 | 3 | 2 | 1 |\n| 28 | 20 | 5 | 14 | 2 | 2 | 2 | 15 | 2 | 1 | 2 | 3 | 2 | 2 | 3 | 1 |\n| 29 | 15 | 1 |  7 | 1 | 1 | 1 |  3 | 1 | 2 | 3 | 3 | 2 | 1 | 2 | 1 |\n| 30 | 14 | 5 | 12 | 2 | 1 | 1 | 16 | 1 | 2 | 3 | 3 | 2 | 1 | 3 | 1 |\n| ⋮ | ⋮ | ⋮ | ⋮ | ⋮ | ⋮ | ⋮ | ⋮ | ⋮ | ⋮ | ⋮ | ⋮ | ⋮ | ⋮ | ⋮ | ⋮ |\n| 585 | 16 | 5 | 14 | 1 | 1 | 1 | 15 | 1 | 2 | 3 | 3 | 3 | 3 | 2 | 0 |\n| 586 |  9 | 5 |  9 | 2 | 1 | 1 | 15 | 2 | 2 | 2 | 2 | 1 | 3 | 1 | 0 |\n| 587 |  9 | 5 | 11 | 2 | 1 | 1 | 15 | 2 | 2 | 2 | 3 | 3 | 3 | 2 | 0 |\n| 588 |  7 | 5 | 18 | 2 | 2 | 1 |  9 | 2 | 1 | 3 | 1 | 2 | 3 | 2 | 0 |\n| 589 | 13 | 5 |  7 | 2 | 1 | 1 | 16 | 2 | 2 | 3 | 3 | 3 | 3 | 2 | 0 |\n| 590 | 22 | 5 | 11 | 2 | 1 | 1 | 15 | 1 | 2 | 2 | 3 | 3 | 2 | 1 | 0 |\n| 591 | 22 | 2 |  5 | 1 | 1 | 1 | 15 | 1 | 1 | 2 | 3 | 2 | 2 | 1 | 0 |\n| 592 | 31 | 5 |  9 | 2 | 1 | 1 | 12 | 1 | 2 | 2 | 3 | 3 | 2 | 1 | 0 |\n| 593 | 20 | 5 | 12 | 2 | 1 | 1 |  4 | 2 | 2 | 2 | 3 | 1 | 2 | 1 | 0 |\n| 594 |  7 | 1 | 11 | 2 | 1 | 1 | 11 | 2 | 1 | 2 | 3 | 3 | 2 | 3 | 0 |\n| 595 |  3 | 5 |  5 | 2 | 1 | 1 | 16 | 2 | 1 | 2 | 3 | 3 | 3 | 2 | 0 |\n| 596 | 13 | 5 |  7 | 2 | 2 | 1 | 15 | 2 | 2 | 2 | 1 | 2 | 3 | 1 | 0 |\n| 597 |  8 | 5 |  7 | 2 | 1 | 1 | 13 | 1 | 2 | 3 | 2 | 2 | 1 | 1 | 0 |\n| 598 | 11 | 5 | 16 | 2 | 1 | 1 | 15 | 2 | 2 | 2 | 3 | 3 | 2 | 3 | 0 |\n| 599 | 23 | 3 |  5 | 1 | 1 | 1 | 15 | 1 | 1 | 2 | 2 | 3 | 2 | 1 | 0 |\n| 600 | 40 | 2 |  6 | 1 | 1 | 1 | 12 | 2 | 2 | 2 | 1 | 1 | 1 | 1 | 0 |\n| 601 | 22 | 2 |  9 | 2 | 2 | 1 | 15 | 1 | 2 | 2 | 1 | 1 | 3 | 1 | 0 |\n| 602 | 24 | 2 |  7 | 1 | 1 | 1 | 16 | 1 | 2 | 2 | 3 | 3 | 3 | 1 | 0 |\n| 603 |  8 | 5 |  5 | 1 | 1 | 1 | 12 | 2 | 1 | 2 | 2 | 1 | 1 | 1 | 0 |\n| 604 | 43 | 6 |  7 | 2 | 2 | 2 | 15 | 2 | 1 | 2 | 1 | 1 | 3 | 1 | 0 |\n| 605 |  3 | 5 | 12 | 2 | 1 | 1 | 14 | 2 | 1 | 2 | 2 | 1 | 1 | 1 | 0 |\n| 606 |  8 | 5 |  9 | 2 | 1 | 1 | 16 | 2 | 2 | 2 | 2 | 2 | 2 | 1 | 0 |\n| 607 | 13 | 6 |  9 | 2 | 1 | 1 | 13 | 2 | 2 | 2 | 2 | 3 | 1 | 1 | 0 |\n| 608 | 24 | 5 |  9 | 2 | 1 | 1 |  1 | 1 | 2 | 2 | 1 | 1 | 1 | 1 | 0 |\n| 609 |  7 | 5 |  9 | 2 | 2 | 1 | 15 | 2 | 1 | 2 | 1 | 2 | 2 | 2 | 0 |\n| 610 |  8 | 6 |  9 | 2 | 1 | 1 | 12 | 1 | 1 | 3 | 2 | 2 | 1 | 1 | 0 |\n| 611 | 11 | 5 |  9 | 2 | 1 | 1 | 12 | 2 | 2 | 2 | 2 | 3 | 2 | 1 | 0 |\n| 612 | 10 | 5 |  7 | 2 | 2 | 1 | 12 | 1 | 2 | 2 | 2 | 1 | 1 | 1 | 0 |\n| 613 |  8 | 5 |  5 | 1 | 1 | 1 | 12 | 2 | 1 | 2 | 2 | 1 | 1 | 1 | 0 |\n| 614 | 13 | 5 |  7 | 2 | 1 | 1 | 16 | 2 | 2 | 3 | 3 | 3 | 3 | 2 | 0 |\n\n",
            "text/latex": "A data.frame: 614 × 15\n\\begin{tabular}{r|lllllllllllllll}\n  & Age & Primary.streaming.service & Hours.per.day & While.working & Instrumentalist & Composer & Fav.genre & Exploratory & Foreign.languages & BPM & Anxiety & Depression & Insomnia & OCD & Music\\_effect\\_binary\\\\\n  & <dbl> & <dbl> & <dbl> & <dbl> & <dbl> & <dbl> & <dbl> & <dbl> & <dbl> & <dbl> & <dbl> & <dbl> & <dbl> & <dbl> & <dbl>\\\\\n\\hline\n\t1 & 10 & 5 &  5 & 2 & 1 & 1 & 12 & 2 & 1 & 2 & 2 & 1 & 2 & 1 & 1\\\\\n\t2 & 13 & 2 &  5 & 2 & 2 & 1 & 16 & 1 & 1 & 2 & 3 & 1 & 1 & 1 & 1\\\\\n\t3 &  8 & 5 & 10 & 2 & 2 & 2 & 12 & 2 & 2 & 2 & 2 & 2 & 2 & 2 & 1\\\\\n\t4 &  8 & 1 &  7 & 2 & 1 & 1 & 12 & 2 & 2 & 2 & 2 & 2 & 3 & 1 & 1\\\\\n\t5 &  7 & 5 & 13 & 2 & 1 & 1 &  6 & 1 & 2 & 2 & 3 & 3 & 2 & 2 & 1\\\\\n\t6 & 32 & 5 &  7 & 2 & 1 & 1 & 15 & 1 & 2 & 2 & 1 & 2 & 2 & 1 & 1\\\\\n\t7 & 14 & 6 &  5 & 2 & 1 & 1 &  4 & 1 & 2 & 2 & 3 & 3 & 3 & 3 & 1\\\\\n\t8 & 20 & 2 &  1 & 1 & 1 & 1 & 11 & 1 & 1 & 1 & 3 & 3 & 3 & 3 & 1\\\\\n\t9 & 34 & 3 &  9 & 2 & 1 & 1 &  4 & 2 & 2 & 2 & 3 & 3 & 3 & 1 & 1\\\\\n\t10 & 21 & 5 & 10 & 2 & 2 & 1 &  1 & 1 & 2 & 2 & 2 & 3 & 3 & 2 & 1\\\\\n\t11 & 15 & 5 &  9 & 2 & 1 & 1 & 11 & 1 & 1 & 3 & 3 & 3 & 2 & 1 & 1\\\\\n\t12 & 10 & 5 & 14 & 2 & 1 & 1 &  7 & 2 & 2 & 2 & 3 & 2 & 3 & 2 & 1\\\\\n\t13 &  8 & 6 & 12 & 2 & 2 & 2 & 12 & 1 & 2 & 2 & 2 & 1 & 1 & 1 & 1\\\\\n\t14 & 34 & 6 &  6 & 1 & 1 & 1 &  4 & 1 & 1 & 2 & 3 & 2 & 3 & 2 & 1\\\\\n\t15 & 11 & 5 & 10 & 2 & 2 & 1 & 15 & 2 & 1 & 1 & 3 & 2 & 2 & 1 & 1\\\\\n\t16 & 18 & 5 & 12 & 2 & 1 & 1 & 15 & 1 & 1 & 2 & 3 & 3 & 3 & 1 & 1\\\\\n\t17 &  9 & 6 & 10 & 2 & 1 & 1 & 12 & 2 & 1 & 3 & 3 & 3 & 2 & 1 & 1\\\\\n\t18 & 10 & 5 &  9 & 1 & 2 & 2 &  6 & 2 & 2 & 2 & 3 & 3 & 2 & 2 & 1\\\\\n\t19 &  3 & 5 & 16 & 2 & 1 & 1 & 14 & 2 & 1 & 2 & 3 & 1 & 1 & 3 & 1\\\\\n\t20 & 11 & 5 &  9 & 2 & 1 & 1 &  2 & 2 & 1 & 2 & 1 & 3 & 1 & 2 & 1\\\\\n\t21 &  7 & 5 &  7 & 2 & 2 & 2 &  6 & 2 & 2 & 2 & 3 & 3 & 2 & 1 & 1\\\\\n\t22 &  6 & 5 &  8 & 2 & 2 & 2 & 15 & 2 & 2 & 2 & 1 & 1 & 1 & 1 & 1\\\\\n\t23 & 20 & 5 &  5 & 1 & 2 & 1 & 15 & 2 & 1 & 2 & 2 & 1 & 1 & 2 & 1\\\\\n\t24 & 11 & 5 &  9 & 1 & 1 & 1 & 14 & 2 & 2 & 2 & 3 & 3 & 3 & 2 & 1\\\\\n\t25 & 17 & 6 &  9 & 2 & 1 & 1 & 11 & 2 & 2 & 2 & 1 & 1 & 1 & 1 & 1\\\\\n\t26 &  9 & 5 & 12 & 2 & 1 & 1 & 15 & 1 & 1 & 2 & 1 & 1 & 1 & 1 & 1\\\\\n\t27 & 12 & 6 &  7 & 2 & 1 & 1 & 12 & 1 & 1 & 2 & 3 & 3 & 3 & 2 & 1\\\\\n\t28 & 20 & 5 & 14 & 2 & 2 & 2 & 15 & 2 & 1 & 2 & 3 & 2 & 2 & 3 & 1\\\\\n\t29 & 15 & 1 &  7 & 1 & 1 & 1 &  3 & 1 & 2 & 3 & 3 & 2 & 1 & 2 & 1\\\\\n\t30 & 14 & 5 & 12 & 2 & 1 & 1 & 16 & 1 & 2 & 3 & 3 & 2 & 1 & 3 & 1\\\\\n\t⋮ & ⋮ & ⋮ & ⋮ & ⋮ & ⋮ & ⋮ & ⋮ & ⋮ & ⋮ & ⋮ & ⋮ & ⋮ & ⋮ & ⋮ & ⋮\\\\\n\t585 & 16 & 5 & 14 & 1 & 1 & 1 & 15 & 1 & 2 & 3 & 3 & 3 & 3 & 2 & 0\\\\\n\t586 &  9 & 5 &  9 & 2 & 1 & 1 & 15 & 2 & 2 & 2 & 2 & 1 & 3 & 1 & 0\\\\\n\t587 &  9 & 5 & 11 & 2 & 1 & 1 & 15 & 2 & 2 & 2 & 3 & 3 & 3 & 2 & 0\\\\\n\t588 &  7 & 5 & 18 & 2 & 2 & 1 &  9 & 2 & 1 & 3 & 1 & 2 & 3 & 2 & 0\\\\\n\t589 & 13 & 5 &  7 & 2 & 1 & 1 & 16 & 2 & 2 & 3 & 3 & 3 & 3 & 2 & 0\\\\\n\t590 & 22 & 5 & 11 & 2 & 1 & 1 & 15 & 1 & 2 & 2 & 3 & 3 & 2 & 1 & 0\\\\\n\t591 & 22 & 2 &  5 & 1 & 1 & 1 & 15 & 1 & 1 & 2 & 3 & 2 & 2 & 1 & 0\\\\\n\t592 & 31 & 5 &  9 & 2 & 1 & 1 & 12 & 1 & 2 & 2 & 3 & 3 & 2 & 1 & 0\\\\\n\t593 & 20 & 5 & 12 & 2 & 1 & 1 &  4 & 2 & 2 & 2 & 3 & 1 & 2 & 1 & 0\\\\\n\t594 &  7 & 1 & 11 & 2 & 1 & 1 & 11 & 2 & 1 & 2 & 3 & 3 & 2 & 3 & 0\\\\\n\t595 &  3 & 5 &  5 & 2 & 1 & 1 & 16 & 2 & 1 & 2 & 3 & 3 & 3 & 2 & 0\\\\\n\t596 & 13 & 5 &  7 & 2 & 2 & 1 & 15 & 2 & 2 & 2 & 1 & 2 & 3 & 1 & 0\\\\\n\t597 &  8 & 5 &  7 & 2 & 1 & 1 & 13 & 1 & 2 & 3 & 2 & 2 & 1 & 1 & 0\\\\\n\t598 & 11 & 5 & 16 & 2 & 1 & 1 & 15 & 2 & 2 & 2 & 3 & 3 & 2 & 3 & 0\\\\\n\t599 & 23 & 3 &  5 & 1 & 1 & 1 & 15 & 1 & 1 & 2 & 2 & 3 & 2 & 1 & 0\\\\\n\t600 & 40 & 2 &  6 & 1 & 1 & 1 & 12 & 2 & 2 & 2 & 1 & 1 & 1 & 1 & 0\\\\\n\t601 & 22 & 2 &  9 & 2 & 2 & 1 & 15 & 1 & 2 & 2 & 1 & 1 & 3 & 1 & 0\\\\\n\t602 & 24 & 2 &  7 & 1 & 1 & 1 & 16 & 1 & 2 & 2 & 3 & 3 & 3 & 1 & 0\\\\\n\t603 &  8 & 5 &  5 & 1 & 1 & 1 & 12 & 2 & 1 & 2 & 2 & 1 & 1 & 1 & 0\\\\\n\t604 & 43 & 6 &  7 & 2 & 2 & 2 & 15 & 2 & 1 & 2 & 1 & 1 & 3 & 1 & 0\\\\\n\t605 &  3 & 5 & 12 & 2 & 1 & 1 & 14 & 2 & 1 & 2 & 2 & 1 & 1 & 1 & 0\\\\\n\t606 &  8 & 5 &  9 & 2 & 1 & 1 & 16 & 2 & 2 & 2 & 2 & 2 & 2 & 1 & 0\\\\\n\t607 & 13 & 6 &  9 & 2 & 1 & 1 & 13 & 2 & 2 & 2 & 2 & 3 & 1 & 1 & 0\\\\\n\t608 & 24 & 5 &  9 & 2 & 1 & 1 &  1 & 1 & 2 & 2 & 1 & 1 & 1 & 1 & 0\\\\\n\t609 &  7 & 5 &  9 & 2 & 2 & 1 & 15 & 2 & 1 & 2 & 1 & 2 & 2 & 2 & 0\\\\\n\t610 &  8 & 6 &  9 & 2 & 1 & 1 & 12 & 1 & 1 & 3 & 2 & 2 & 1 & 1 & 0\\\\\n\t611 & 11 & 5 &  9 & 2 & 1 & 1 & 12 & 2 & 2 & 2 & 2 & 3 & 2 & 1 & 0\\\\\n\t612 & 10 & 5 &  7 & 2 & 2 & 1 & 12 & 1 & 2 & 2 & 2 & 1 & 1 & 1 & 0\\\\\n\t613 &  8 & 5 &  5 & 1 & 1 & 1 & 12 & 2 & 1 & 2 & 2 & 1 & 1 & 1 & 0\\\\\n\t614 & 13 & 5 &  7 & 2 & 1 & 1 & 16 & 2 & 2 & 3 & 3 & 3 & 3 & 2 & 0\\\\\n\\end{tabular}\n",
            "text/plain": [
              "    Age Primary.streaming.service Hours.per.day While.working Instrumentalist\n",
              "1   10  5                          5            2             1              \n",
              "2   13  2                          5            2             2              \n",
              "3    8  5                         10            2             2              \n",
              "4    8  1                          7            2             1              \n",
              "5    7  5                         13            2             1              \n",
              "6   32  5                          7            2             1              \n",
              "7   14  6                          5            2             1              \n",
              "8   20  2                          1            1             1              \n",
              "9   34  3                          9            2             1              \n",
              "10  21  5                         10            2             2              \n",
              "11  15  5                          9            2             1              \n",
              "12  10  5                         14            2             1              \n",
              "13   8  6                         12            2             2              \n",
              "14  34  6                          6            1             1              \n",
              "15  11  5                         10            2             2              \n",
              "16  18  5                         12            2             1              \n",
              "17   9  6                         10            2             1              \n",
              "18  10  5                          9            1             2              \n",
              "19   3  5                         16            2             1              \n",
              "20  11  5                          9            2             1              \n",
              "21   7  5                          7            2             2              \n",
              "22   6  5                          8            2             2              \n",
              "23  20  5                          5            1             2              \n",
              "24  11  5                          9            1             1              \n",
              "25  17  6                          9            2             1              \n",
              "26   9  5                         12            2             1              \n",
              "27  12  6                          7            2             1              \n",
              "28  20  5                         14            2             2              \n",
              "29  15  1                          7            1             1              \n",
              "30  14  5                         12            2             1              \n",
              "⋮   ⋮   ⋮                         ⋮             ⋮             ⋮              \n",
              "585 16  5                         14            1             1              \n",
              "586  9  5                          9            2             1              \n",
              "587  9  5                         11            2             1              \n",
              "588  7  5                         18            2             2              \n",
              "589 13  5                          7            2             1              \n",
              "590 22  5                         11            2             1              \n",
              "591 22  2                          5            1             1              \n",
              "592 31  5                          9            2             1              \n",
              "593 20  5                         12            2             1              \n",
              "594  7  1                         11            2             1              \n",
              "595  3  5                          5            2             1              \n",
              "596 13  5                          7            2             2              \n",
              "597  8  5                          7            2             1              \n",
              "598 11  5                         16            2             1              \n",
              "599 23  3                          5            1             1              \n",
              "600 40  2                          6            1             1              \n",
              "601 22  2                          9            2             2              \n",
              "602 24  2                          7            1             1              \n",
              "603  8  5                          5            1             1              \n",
              "604 43  6                          7            2             2              \n",
              "605  3  5                         12            2             1              \n",
              "606  8  5                          9            2             1              \n",
              "607 13  6                          9            2             1              \n",
              "608 24  5                          9            2             1              \n",
              "609  7  5                          9            2             2              \n",
              "610  8  6                          9            2             1              \n",
              "611 11  5                          9            2             1              \n",
              "612 10  5                          7            2             2              \n",
              "613  8  5                          5            1             1              \n",
              "614 13  5                          7            2             1              \n",
              "    Composer Fav.genre Exploratory Foreign.languages BPM Anxiety Depression\n",
              "1   1        12        2           1                 2   2       1         \n",
              "2   1        16        1           1                 2   3       1         \n",
              "3   2        12        2           2                 2   2       2         \n",
              "4   1        12        2           2                 2   2       2         \n",
              "5   1         6        1           2                 2   3       3         \n",
              "6   1        15        1           2                 2   1       2         \n",
              "7   1         4        1           2                 2   3       3         \n",
              "8   1        11        1           1                 1   3       3         \n",
              "9   1         4        2           2                 2   3       3         \n",
              "10  1         1        1           2                 2   2       3         \n",
              "11  1        11        1           1                 3   3       3         \n",
              "12  1         7        2           2                 2   3       2         \n",
              "13  2        12        1           2                 2   2       1         \n",
              "14  1         4        1           1                 2   3       2         \n",
              "15  1        15        2           1                 1   3       2         \n",
              "16  1        15        1           1                 2   3       3         \n",
              "17  1        12        2           1                 3   3       3         \n",
              "18  2         6        2           2                 2   3       3         \n",
              "19  1        14        2           1                 2   3       1         \n",
              "20  1         2        2           1                 2   1       3         \n",
              "21  2         6        2           2                 2   3       3         \n",
              "22  2        15        2           2                 2   1       1         \n",
              "23  1        15        2           1                 2   2       1         \n",
              "24  1        14        2           2                 2   3       3         \n",
              "25  1        11        2           2                 2   1       1         \n",
              "26  1        15        1           1                 2   1       1         \n",
              "27  1        12        1           1                 2   3       3         \n",
              "28  2        15        2           1                 2   3       2         \n",
              "29  1         3        1           2                 3   3       2         \n",
              "30  1        16        1           2                 3   3       2         \n",
              "⋮   ⋮        ⋮         ⋮           ⋮                 ⋮   ⋮       ⋮         \n",
              "585 1        15        1           2                 3   3       3         \n",
              "586 1        15        2           2                 2   2       1         \n",
              "587 1        15        2           2                 2   3       3         \n",
              "588 1         9        2           1                 3   1       2         \n",
              "589 1        16        2           2                 3   3       3         \n",
              "590 1        15        1           2                 2   3       3         \n",
              "591 1        15        1           1                 2   3       2         \n",
              "592 1        12        1           2                 2   3       3         \n",
              "593 1         4        2           2                 2   3       1         \n",
              "594 1        11        2           1                 2   3       3         \n",
              "595 1        16        2           1                 2   3       3         \n",
              "596 1        15        2           2                 2   1       2         \n",
              "597 1        13        1           2                 3   2       2         \n",
              "598 1        15        2           2                 2   3       3         \n",
              "599 1        15        1           1                 2   2       3         \n",
              "600 1        12        2           2                 2   1       1         \n",
              "601 1        15        1           2                 2   1       1         \n",
              "602 1        16        1           2                 2   3       3         \n",
              "603 1        12        2           1                 2   2       1         \n",
              "604 2        15        2           1                 2   1       1         \n",
              "605 1        14        2           1                 2   2       1         \n",
              "606 1        16        2           2                 2   2       2         \n",
              "607 1        13        2           2                 2   2       3         \n",
              "608 1         1        1           2                 2   1       1         \n",
              "609 1        15        2           1                 2   1       2         \n",
              "610 1        12        1           1                 3   2       2         \n",
              "611 1        12        2           2                 2   2       3         \n",
              "612 1        12        1           2                 2   2       1         \n",
              "613 1        12        2           1                 2   2       1         \n",
              "614 1        16        2           2                 3   3       3         \n",
              "    Insomnia OCD Music_effect_binary\n",
              "1   2        1   1                  \n",
              "2   1        1   1                  \n",
              "3   2        2   1                  \n",
              "4   3        1   1                  \n",
              "5   2        2   1                  \n",
              "6   2        1   1                  \n",
              "7   3        3   1                  \n",
              "8   3        3   1                  \n",
              "9   3        1   1                  \n",
              "10  3        2   1                  \n",
              "11  2        1   1                  \n",
              "12  3        2   1                  \n",
              "13  1        1   1                  \n",
              "14  3        2   1                  \n",
              "15  2        1   1                  \n",
              "16  3        1   1                  \n",
              "17  2        1   1                  \n",
              "18  2        2   1                  \n",
              "19  1        3   1                  \n",
              "20  1        2   1                  \n",
              "21  2        1   1                  \n",
              "22  1        1   1                  \n",
              "23  1        2   1                  \n",
              "24  3        2   1                  \n",
              "25  1        1   1                  \n",
              "26  1        1   1                  \n",
              "27  3        2   1                  \n",
              "28  2        3   1                  \n",
              "29  1        2   1                  \n",
              "30  1        3   1                  \n",
              "⋮   ⋮        ⋮   ⋮                  \n",
              "585 3        2   0                  \n",
              "586 3        1   0                  \n",
              "587 3        2   0                  \n",
              "588 3        2   0                  \n",
              "589 3        2   0                  \n",
              "590 2        1   0                  \n",
              "591 2        1   0                  \n",
              "592 2        1   0                  \n",
              "593 2        1   0                  \n",
              "594 2        3   0                  \n",
              "595 3        2   0                  \n",
              "596 3        1   0                  \n",
              "597 1        1   0                  \n",
              "598 2        3   0                  \n",
              "599 2        1   0                  \n",
              "600 1        1   0                  \n",
              "601 3        1   0                  \n",
              "602 3        1   0                  \n",
              "603 1        1   0                  \n",
              "604 3        1   0                  \n",
              "605 1        1   0                  \n",
              "606 2        1   0                  \n",
              "607 1        1   0                  \n",
              "608 1        1   0                  \n",
              "609 2        2   0                  \n",
              "610 1        1   0                  \n",
              "611 2        1   0                  \n",
              "612 1        1   0                  \n",
              "613 1        1   0                  \n",
              "614 3        2   0                  "
            ]
          },
          "metadata": {}
        }
      ]
    },
    {
      "cell_type": "code",
      "source": [
        "# Define features and target variables\n",
        "features <- c('Age', 'Hours.per.day', 'BPM', 'Fav.genre','While.working', 'Instrumentalist', 'Composer', 'Exploratory', 'Anxiety', 'Insomnia', 'OCD', 'Depression')\n",
        "X <- data3[, features]\n",
        "y <- data3$Music_effect_binary\n",
        "\n",
        "# Split the data into training and testing sets\n",
        "set.seed(42)\n",
        "trainIndex <- createDataPartition(y, p = 0.7, list = FALSE)\n",
        "X_train <- X[trainIndex, ]\n",
        "X_test <- X[-trainIndex, ]\n",
        "y_train <- y[trainIndex]\n",
        "y_test <- y[-trainIndex]\n",
        "\n",
        "# Display the size of the training and testing sets\n",
        "cat(\"Training set size: \", nrow(X_train), \"\\n\")\n",
        "cat(\"Testing set size: \", nrow(X_test), \"\\n\")\n"
      ],
      "metadata": {
        "colab": {
          "base_uri": "https://localhost:8080/"
        },
        "id": "5Sgq7bsKrtyi",
        "outputId": "8b4c81b6-5c51-400c-ee31-2f2d247f7696"
      },
      "execution_count": 342,
      "outputs": [
        {
          "output_type": "stream",
          "name": "stdout",
          "text": [
            "Training set size:  430 \n",
            "Testing set size:  184 \n"
          ]
        }
      ]
    },
    {
      "cell_type": "code",
      "source": [
        "# Standardized feature data\n",
        "scaler <- preProcess(X_train, method = c(\"center\", \"scale\"))\n",
        "X_train_scaled <- predict(scaler, X_train)\n",
        "X_test_scaled <- predict(scaler, X_test)\n",
        "\n",
        "# Check the shape of the normalized data\n",
        "cat(\"X_train_scaled size: \", dim(X_train_scaled), \"\\n\")\n",
        "cat(\"X_test_scaled size: \", dim(X_test_scaled), \"\\n\")\n",
        "cat(\"y_train size: \", length(y_train), \"\\n\")\n",
        "cat(\"y_test size: \", length(y_test), \"\\n\")"
      ],
      "metadata": {
        "colab": {
          "base_uri": "https://localhost:8080/"
        },
        "id": "3IKz8mKXt2q6",
        "outputId": "c04d90d2-3d69-4772-b17c-85822549593d"
      },
      "execution_count": 343,
      "outputs": [
        {
          "output_type": "stream",
          "name": "stdout",
          "text": [
            "X_train_scaled size:  430 12 \n",
            "X_test_scaled size:  184 12 \n",
            "y_train size:  430 \n",
            "y_test size:  184 \n"
          ]
        }
      ]
    },
    {
      "cell_type": "markdown",
      "source": [
        "## Random forest"
      ],
      "metadata": {
        "id": "39IBAFDMt7H4"
      }
    },
    {
      "cell_type": "code",
      "source": [
        "# Install packages\n",
        "if (!requireNamespace(\"randomForest\", quietly = TRUE)) {\n",
        "  install.packages(\"randomForest\")\n",
        "}\n",
        "\n",
        "# load packages\n",
        "library(randomForest)\n",
        "library(ggplot2)"
      ],
      "metadata": {
        "id": "XZAEEJxLt9jS"
      },
      "execution_count": 344,
      "outputs": []
    },
    {
      "cell_type": "code",
      "source": [
        "# Train random forest\n",
        "set.seed(42)\n",
        "rf_classifier <- randomForest(x = X_train, y = as.factor(y_train), ntree = 100)\n",
        "\n",
        "# Make predictions on the test set\n",
        "rf_predictions <- predict(rf_classifier, X_test)\n",
        "\n",
        "# Evaluating the Model\n",
        "rf_accuracy <- confusionMatrix(rf_predictions, as.factor(y_test))$overall['Accuracy']\n",
        "cat(sprintf(\"Accuracy: %.4f\\n\", rf_accuracy))"
      ],
      "metadata": {
        "colab": {
          "base_uri": "https://localhost:8080/"
        },
        "id": "yhfAzlSsuGvd",
        "outputId": "a7906033-439a-4511-96c4-3d080bc9c41e"
      },
      "execution_count": 345,
      "outputs": [
        {
          "output_type": "stream",
          "name": "stdout",
          "text": [
            "Accuracy: 0.8043\n"
          ]
        }
      ]
    },
    {
      "cell_type": "code",
      "source": [
        "# Feature Importance\n",
        "feature_importances <- importance(rf_classifier)\n",
        "feature_importances <- data.frame(Feature = rownames(feature_importances), Importance = feature_importances[,1])\n",
        "\n",
        "top_features <- feature_importances[order(-feature_importances$Importance), ][1:10, ]\n",
        "ggplot(top_features, aes(x = reorder(Feature, Importance), y = Importance)) +\n",
        "  geom_bar(stat = \"identity\") +\n",
        "  coord_flip() +\n",
        "  labs(title = \"Random Forest Feature Importances\", x = \"Feature\", y = \"Importance\") +\n",
        "  theme_minimal()"
      ],
      "metadata": {
        "colab": {
          "base_uri": "https://localhost:8080/",
          "height": 437
        },
        "id": "EmhLRLjlxS0B",
        "outputId": "df3214e4-30ad-4f34-ae8f-1e4db1db0099"
      },
      "execution_count": 346,
      "outputs": [
        {
          "output_type": "display_data",
          "data": {
            "text/plain": [
              "plot without title"
            ],
            "image/png": "[encoded data removed]"
          },
          "metadata": {
            "image/png": {
              "width": 420,
              "height": 420
            }
          }
        }
      ]
    },
    {
      "cell_type": "markdown",
      "source": [
        "## Decision Tree"
      ],
      "metadata": {
        "id": "bcWDeaaJzZqF"
      }
    },
    {
      "cell_type": "code",
      "source": [
        "library(rpart)\n",
        "\n",
        "# Train decision tree model\n",
        "tree_classifier <- rpart(as.factor(y_train) ~ ., data = data.frame(X_train_scaled, y_train), method = \"class\")\n",
        "\n",
        "# Make predictions on the test set\n",
        "tree_predictions <- predict(tree_classifier, X_test_scaled, type = \"class\")\n",
        "\n",
        "# Evaluating the Model\n",
        "tree_accuracy <- confusionMatrix(tree_predictions, as.factor(y_test))$overall['Accuracy']\n",
        "cat(sprintf(\"Decision Tree Accuracy: %.4f\\n\", tree_accuracy))\n"
      ],
      "metadata": {
        "colab": {
          "base_uri": "https://localhost:8080/"
        },
        "id": "Ia76b0Q_zPz2",
        "outputId": "57e2568e-62dc-408c-e3ae-a5c9cc3b5b17"
      },
      "execution_count": 347,
      "outputs": [
        {
          "output_type": "stream",
          "name": "stdout",
          "text": [
            "Decision Tree Accuracy: 0.6250\n"
          ]
        }
      ]
    },
    {
      "cell_type": "markdown",
      "source": [
        "## Logistic Regression"
      ],
      "metadata": {
        "id": "t99BcRhAx3zd"
      }
    },
    {
      "cell_type": "code",
      "source": [
        "# Install packages\n",
        "if (!requireNamespace(\"nnet\", quietly = TRUE)) {\n",
        "  install.packages(\"nnet\")\n",
        "}\n",
        "\n",
        "# load packages\n",
        "library(nnet)"
      ],
      "metadata": {
        "id": "6dGQUtwDUIvD"
      },
      "execution_count": 348,
      "outputs": []
    },
    {
      "cell_type": "code",
      "source": [
        "library(caret)\n",
        "\n",
        "# Modify the model to multinomial logistic regression\n",
        "multi_glm_classifier <- train(x = X_train_scaled, y = as.factor(y_train), method = \"multinom\", trControl = trainControl(method = \"cv\", number = 10))\n",
        "\n",
        "# Make predictions on the test set\n",
        "multi_glm_predictions <- predict(multi_glm_classifier, X_test_scaled)\n",
        "\n",
        "# Evaluating the Model\n",
        "multi_glm_accuracy <- confusionMatrix(multi_glm_predictions, as.factor(y_test))$overall['Accuracy']\n",
        "cat(sprintf(\"Multinomial Logistic Regression Accuracy: %.4f\\n\", multi_glm_accuracy))\n"
      ],
      "metadata": {
        "colab": {
          "base_uri": "https://localhost:8080/"
        },
        "id": "PbH3xgRkzk4x",
        "outputId": "ddf4329e-887f-4d95-f2d8-3ead432fcbfe"
      },
      "execution_count": 349,
      "outputs": [
        {
          "output_type": "stream",
          "name": "stdout",
          "text": [
            "# weights:  14 (13 variable)\n",
            "initial  value 268.247959 \n",
            "iter  10 value 249.013052\n",
            "final  value 248.892241 \n",
            "converged\n",
            "# weights:  14 (13 variable)\n",
            "initial  value 268.247959 \n",
            "iter  10 value 249.058455\n",
            "final  value 248.939640 \n",
            "converged\n",
            "# weights:  14 (13 variable)\n",
            "initial  value 268.247959 \n",
            "iter  10 value 249.013098\n",
            "final  value 248.892289 \n",
            "converged\n",
            "# weights:  14 (13 variable)\n",
            "initial  value 268.247959 \n",
            "iter  10 value 251.655318\n",
            "final  value 251.462554 \n",
            "converged\n",
            "# weights:  14 (13 variable)\n",
            "initial  value 268.247959 \n",
            "iter  10 value 251.699832\n",
            "final  value 251.499806 \n",
            "converged\n",
            "# weights:  14 (13 variable)\n",
            "initial  value 268.247959 \n",
            "iter  10 value 251.655362\n",
            "final  value 251.462591 \n",
            "converged\n",
            "# weights:  14 (13 variable)\n",
            "initial  value 268.247959 \n",
            "iter  10 value 248.491803\n",
            "final  value 248.321271 \n",
            "converged\n",
            "# weights:  14 (13 variable)\n",
            "initial  value 268.247959 \n",
            "iter  10 value 248.539357\n",
            "final  value 248.370372 \n",
            "converged\n",
            "# weights:  14 (13 variable)\n",
            "initial  value 268.247959 \n",
            "iter  10 value 248.491851\n",
            "final  value 248.321320 \n",
            "converged\n",
            "# weights:  14 (13 variable)\n",
            "initial  value 268.247959 \n",
            "iter  10 value 250.440589\n",
            "final  value 250.260740 \n",
            "converged\n",
            "# weights:  14 (13 variable)\n",
            "initial  value 268.247959 \n",
            "iter  10 value 250.489826\n",
            "final  value 250.305130 \n",
            "converged\n",
            "# weights:  14 (13 variable)\n",
            "initial  value 268.247959 \n",
            "iter  10 value 250.440639\n",
            "final  value 250.260784 \n",
            "converged\n",
            "# weights:  14 (13 variable)\n",
            "initial  value 268.247959 \n",
            "iter  10 value 249.676001\n",
            "final  value 249.368462 \n",
            "converged\n",
            "# weights:  14 (13 variable)\n",
            "initial  value 268.247959 \n",
            "iter  10 value 249.731825\n",
            "final  value 249.418178 \n",
            "converged\n",
            "# weights:  14 (13 variable)\n",
            "initial  value 268.247959 \n",
            "iter  10 value 249.676057\n",
            "final  value 249.368512 \n",
            "converged\n",
            "# weights:  14 (13 variable)\n",
            "initial  value 268.247959 \n",
            "iter  10 value 248.669415\n",
            "final  value 248.313710 \n",
            "converged\n",
            "# weights:  14 (13 variable)\n",
            "initial  value 268.247959 \n",
            "iter  10 value 248.730534\n",
            "final  value 248.360953 \n",
            "converged\n",
            "# weights:  14 (13 variable)\n",
            "initial  value 268.247959 \n",
            "iter  10 value 248.669476\n",
            "final  value 248.313758 \n",
            "converged\n",
            "# weights:  14 (13 variable)\n",
            "initial  value 268.247959 \n",
            "iter  10 value 247.813803\n",
            "final  value 247.707176 \n",
            "converged\n",
            "# weights:  14 (13 variable)\n",
            "initial  value 268.247959 \n",
            "iter  10 value 247.870603\n",
            "final  value 247.762852 \n",
            "converged\n",
            "# weights:  14 (13 variable)\n",
            "initial  value 268.247959 \n",
            "iter  10 value 247.813860\n",
            "final  value 247.707232 \n",
            "converged\n",
            "# weights:  14 (13 variable)\n",
            "initial  value 268.247959 \n",
            "iter  10 value 247.878552\n",
            "final  value 247.776718 \n",
            "converged\n",
            "# weights:  14 (13 variable)\n",
            "initial  value 268.247959 \n",
            "iter  10 value 247.937057\n",
            "final  value 247.831997 \n",
            "converged\n",
            "# weights:  14 (13 variable)\n",
            "initial  value 268.247959 \n",
            "iter  10 value 247.878611\n",
            "final  value 247.776773 \n",
            "converged\n",
            "# weights:  14 (13 variable)\n",
            "initial  value 268.247959 \n",
            "iter  10 value 248.916734\n",
            "final  value 248.709540 \n",
            "converged\n",
            "# weights:  14 (13 variable)\n",
            "initial  value 268.247959 \n",
            "iter  10 value 248.971077\n",
            "final  value 248.761492 \n",
            "converged\n",
            "# weights:  14 (13 variable)\n",
            "initial  value 268.247959 \n",
            "iter  10 value 248.916789\n",
            "final  value 248.709593 \n",
            "converged\n",
            "# weights:  14 (13 variable)\n",
            "initial  value 268.247959 \n",
            "iter  10 value 247.646470\n",
            "final  value 247.388255 \n",
            "converged\n",
            "# weights:  14 (13 variable)\n",
            "initial  value 268.247959 \n",
            "iter  10 value 247.703862\n",
            "final  value 247.445977 \n",
            "converged\n",
            "# weights:  14 (13 variable)\n",
            "initial  value 268.247959 \n",
            "iter  10 value 247.646528\n",
            "final  value 247.388313 \n",
            "converged\n",
            "# weights:  14 (13 variable)\n",
            "initial  value 298.053288 \n",
            "iter  10 value 277.357379\n",
            "final  value 277.165943 \n",
            "converged\n",
            "Multinomial Logistic Regression Accuracy: 0.6250\n"
          ]
        }
      ]
    },
    {
      "cell_type": "markdown",
      "source": [
        "\n",
        "\n",
        "```\n",
        "# This is formatted as code\n",
        "```\n",
        "\n",
        "## Neural Network"
      ],
      "metadata": {
        "id": "G2jx1psraHUt"
      }
    },
    {
      "cell_type": "code",
      "source": [
        "# Set the random seed to ensure reproducible results\n",
        "set.seed(42)\n",
        "\n",
        "# Creating and training a neural network model\n",
        "nn_model <- nnet(\n",
        "  x = X_train_scaled,\n",
        "  y = y_train,\n",
        "  size = 32,\n",
        "  linout = FALSE,\n",
        "  entropy = TRUE,\n",
        "  softmax = FALSE,\n",
        "  censored = FALSE,\n",
        "  skip = FALSE,\n",
        "  rang = 0.7,\n",
        "  decay = 0.1,\n",
        "  maxit = 200\n",
        ")\n",
        "\n",
        "# Make predictions on the test set\n",
        "nn_predictions <- predict(nn_model, newdata = X_test_scaled, type = \"class\")\n",
        "\n",
        "# Calculating the accuracy of the neural network model\n",
        "nn_accuracy <- mean(nn_predictions == y_test)\n",
        "\n",
        "cat(sprintf(\"Neural Network Accuracy: %.4f\\n\", nn_accuracy))"
      ],
      "metadata": {
        "colab": {
          "base_uri": "https://localhost:8080/"
        },
        "id": "py30Kx5JaL8u",
        "outputId": "2b5b24a3-b9d1-4a68-d365-5f4c73675e56"
      },
      "execution_count": 350,
      "outputs": [
        {
          "output_type": "stream",
          "name": "stdout",
          "text": [
            "# weights:  449\n",
            "initial  value 374.150896 \n",
            "iter  10 value 238.956233\n",
            "iter  20 value 159.986067\n",
            "iter  30 value 125.158651\n",
            "iter  40 value 115.310598\n",
            "iter  50 value 108.400535\n",
            "iter  60 value 103.832412\n",
            "iter  70 value 101.423832\n",
            "iter  80 value 99.207243\n",
            "iter  90 value 96.472865\n",
            "iter 100 value 95.212441\n",
            "iter 110 value 94.816540\n",
            "iter 120 value 94.590433\n",
            "iter 130 value 94.435251\n",
            "iter 140 value 94.234450\n",
            "iter 150 value 93.941200\n",
            "iter 160 value 93.699852\n",
            "iter 170 value 93.487024\n",
            "iter 180 value 93.375498\n",
            "iter 190 value 93.293596\n",
            "iter 200 value 93.110290\n",
            "final  value 93.110290 \n",
            "stopped after 200 iterations\n",
            "Neural Network Accuracy: 0.8478\n"
          ]
        }
      ]
    },
    {
      "cell_type": "markdown",
      "source": [
        "## SVM"
      ],
      "metadata": {
        "id": "APxgxpjaa6VC"
      }
    },
    {
      "cell_type": "code",
      "source": [
        "# Install packages\n",
        "if (!requireNamespace(\"e1071\", quietly = TRUE)) {\n",
        "  install.packages(\"e1071\")\n",
        "}\n",
        "# load packages\n",
        "library(e1071)"
      ],
      "metadata": {
        "id": "zUTwZ9LBa9D5"
      },
      "execution_count": 351,
      "outputs": []
    },
    {
      "cell_type": "code",
      "source": [
        "# Create svm model\n",
        "svm_model <- svm(\n",
        "  x = X_train_scaled,\n",
        "  y = as.factor(y_train),\n",
        "  kernel = \"linear\",\n",
        "  probability = FALSE\n",
        ")\n",
        "# Prediction\n",
        "svm_predictions <- predict(svm_model, newdata = X_test_scaled)\n",
        "\n",
        "# Calculate the accuracy of SVM model\n",
        "svm_accuracy <- mean(svm_predictions == y_test)\n",
        "\n",
        "cat(sprintf(\"SVM Accuracy: %.4f\\n\", svm_accuracy))"
      ],
      "metadata": {
        "colab": {
          "base_uri": "https://localhost:8080/"
        },
        "id": "zMaGKPfzbJuO",
        "outputId": "8f14209b-2854-40c1-c772-183c3636e9d5"
      },
      "execution_count": 352,
      "outputs": [
        {
          "output_type": "stream",
          "name": "stdout",
          "text": [
            "SVM Accuracy: 0.6304\n"
          ]
        }
      ]
    },
    {
      "cell_type": "markdown",
      "source": [
        "# Evaluation"
      ],
      "metadata": {
        "id": "soj1Oool93tP"
      }
    },
    {
      "cell_type": "code",
      "source": [
        "# Models' name and accuracies\n",
        "models <- c('RF', 'DT', 'LR', 'NN', 'SVM')\n",
        "accuracies <- c(rf_accuracy, tree_accuracy, multi_glm_accuracy, nn_accuracy, svm_accuracy)\n",
        "\n",
        "# Create Bar Chart\n",
        "par(mar = c(5, 4, 4, 2) + 0.1)\n",
        "barplot_heights <- barplot(accuracies, names.arg = models, col = c('blue', 'green', 'red', 'orange', 'yellow'), ylim = c(0, 1),\n",
        "        main = 'Model Accuracy Comparison', ylab = 'Accuracy', las = 1)\n",
        "\n",
        "# Add accuracy values ​​above each bar\n",
        "text(x = barplot_heights, y = accuracies, label = round(accuracies, 2), pos = 3, cex = 0.8)"
      ],
      "metadata": {
        "colab": {
          "base_uri": "https://localhost:8080/",
          "height": 437
        },
        "id": "1AzxDZ3J96wy",
        "outputId": "2470b0af-e68e-4018-e16c-30e74e8df2b5"
      },
      "execution_count": 353,
      "outputs": [
        {
          "output_type": "display_data",
          "data": {
            "text/plain": [
              "Plot with title “Model Accuracy Comparison”"
            ],
            "image/png": "[encoded data removed]"
          },
          "metadata": {
            "image/png": {
              "width": 420,
              "height": 420
            }
          }
        }
      ]
    },
    {
      "cell_type": "code",
      "source": [
        "# Convert the predicted and true values ​​into factors and ensure they have the same levels\n",
        "rf_predictions <- as.factor(rf_predictions)\n",
        "nn_predictions <- as.factor(nn_predictions)\n",
        "svm_predictions <- as.factor(svm_predictions)\n",
        "y_test <- as.factor(y_test)\n",
        "levels(rf_predictions) <- levels(y_test)\n",
        "levels(nn_predictions) <- levels(y_test)\n",
        "levels(svm_predictions) <- levels(y_test)"
      ],
      "metadata": {
        "id": "WBgtWDzSIYc0"
      },
      "execution_count": 354,
      "outputs": []
    },
    {
      "cell_type": "code",
      "source": [
        "# Calculate each indicator\n",
        "rf_results <- confusionMatrix(rf_predictions, y_test)\n",
        "tree_results <- confusionMatrix(tree_predictions, y_test)\n",
        "glm_results <- confusionMatrix(multi_glm_predictions, y_test)\n",
        "nn_results <- confusionMatrix(nn_predictions, y_test)\n",
        "svm_results <- confusionMatrix(svm_predictions, y_test)"
      ],
      "metadata": {
        "id": "EBuLLuamupiT"
      },
      "execution_count": 355,
      "outputs": []
    },
    {
      "cell_type": "code",
      "source": [
        "# Index data collation\n",
        "models <- c(\"RF\", \"DT\", \"LR\", \"NN\", \"SVM\")\n",
        "metrics <- c(\"Accuracy\", \"Pos Pred Value\", \"Sensitivity\", \"Balanced Accuracy\", \"Kappa\")\n",
        "\n",
        "# Creating a Data Frame\n",
        "results <- data.frame(\n",
        "  Model = rep(models, each = length(metrics)),\n",
        "  Metric = rep(metrics, times = length(models)),\n",
        "  Score = c(\n",
        "    # Random Forest\n",
        "    rf_results$overall['Accuracy'], rf_results$byClass['Pos Pred Value'], rf_results$byClass['Sensitivity'],\n",
        "    rf_results$byClass['Balanced Accuracy'], rf_results$overall['Kappa'],\n",
        "    # Decision Tree\n",
        "    tree_results$overall['Accuracy'], tree_results$byClass['Pos Pred Value'], tree_results$byClass['Sensitivity'],\n",
        "    tree_results$byClass['Balanced Accuracy'], tree_results$overall['Kappa'],\n",
        "    # Logistic Regression\n",
        "    glm_results$overall['Accuracy'], glm_results$byClass['Pos Pred Value'], glm_results$byClass['Sensitivity'],\n",
        "    glm_results$byClass['Balanced Accuracy'], glm_results$overall['Kappa'],\n",
        "    # Neural Network\n",
        "    nn_results$overall['Accuracy'], nn_results$byClass['Pos Pred Value'], nn_results$byClass['Sensitivity'],\n",
        "    nn_results$byClass['Balanced Accuracy'], nn_results$overall['Kappa'],\n",
        "    # SVM\n",
        "    svm_results$overall['Accuracy'], svm_results$byClass['Pos Pred Value'], svm_results$byClass['Sensitivity'],\n",
        "    svm_results$byClass['Balanced Accuracy'], svm_results$overall['Kappa']\n",
        "   )\n",
        ")"
      ],
      "metadata": {
        "id": "1_I5Gkb7uXso"
      },
      "execution_count": 356,
      "outputs": []
    },
    {
      "cell_type": "code",
      "source": [
        "results"
      ],
      "metadata": {
        "colab": {
          "base_uri": "https://localhost:8080/",
          "height": 882
        },
        "id": "h72w3yTUZcZ7",
        "outputId": "1017e6ae-829b-413e-c9ac-c6d003d1ba62"
      },
      "execution_count": 357,
      "outputs": [
        {
          "output_type": "display_data",
          "data": {
            "text/html": [
              "<table class=\"dataframe\">\n",
              "<caption>A data.frame: 25 × 3</caption>\n",
              "<thead>\n",
              "\t<tr><th scope=col>Model</th><th scope=col>Metric</th><th scope=col>Score</th></tr>\n",
              "\t<tr><th scope=col>&lt;chr&gt;</th><th scope=col>&lt;chr&gt;</th><th scope=col>&lt;dbl&gt;</th></tr>\n",
              "</thead>\n",
              "<tbody>\n",
              "\t<tr><td>RF </td><td>Accuracy         </td><td>0.8043478</td></tr>\n",
              "\t<tr><td>RF </td><td>Pos Pred Value   </td><td>0.8488372</td></tr>\n",
              "\t<tr><td>RF </td><td>Sensitivity      </td><td>0.7604167</td></tr>\n",
              "\t<tr><td>RF </td><td>Balanced Accuracy</td><td>0.8063447</td></tr>\n",
              "\t<tr><td>RF </td><td>Kappa            </td><td>0.6098021</td></tr>\n",
              "\t<tr><td>DT </td><td>Accuracy         </td><td>0.6250000</td></tr>\n",
              "\t<tr><td>DT </td><td>Pos Pred Value   </td><td>0.6336634</td></tr>\n",
              "\t<tr><td>DT </td><td>Sensitivity      </td><td>0.6666667</td></tr>\n",
              "\t<tr><td>DT </td><td>Balanced Accuracy</td><td>0.6231061</td></tr>\n",
              "\t<tr><td>DT </td><td>Kappa            </td><td>0.2467964</td></tr>\n",
              "\t<tr><td>LR </td><td>Accuracy         </td><td>0.6250000</td></tr>\n",
              "\t<tr><td>LR </td><td>Pos Pred Value   </td><td>0.6849315</td></tr>\n",
              "\t<tr><td>LR </td><td>Sensitivity      </td><td>0.5208333</td></tr>\n",
              "\t<tr><td>LR </td><td>Balanced Accuracy</td><td>0.6297348</td></tr>\n",
              "\t<tr><td>LR </td><td>Kappa            </td><td>0.2566745</td></tr>\n",
              "\t<tr><td>NN </td><td>Accuracy         </td><td>0.8478261</td></tr>\n",
              "\t<tr><td>NN </td><td>Pos Pred Value   </td><td>0.8541667</td></tr>\n",
              "\t<tr><td>NN </td><td>Sensitivity      </td><td>0.8541667</td></tr>\n",
              "\t<tr><td>NN </td><td>Balanced Accuracy</td><td>0.8475379</td></tr>\n",
              "\t<tr><td>NN </td><td>Kappa            </td><td>0.6950758</td></tr>\n",
              "\t<tr><td>SVM</td><td>Accuracy         </td><td>0.6304348</td></tr>\n",
              "\t<tr><td>SVM</td><td>Pos Pred Value   </td><td>0.7000000</td></tr>\n",
              "\t<tr><td>SVM</td><td>Sensitivity      </td><td>0.5104167</td></tr>\n",
              "\t<tr><td>SVM</td><td>Balanced Accuracy</td><td>0.6358902</td></tr>\n",
              "\t<tr><td>SVM</td><td>Kappa            </td><td>0.2684752</td></tr>\n",
              "</tbody>\n",
              "</table>\n"
            ],
            "text/markdown": "\nA data.frame: 25 × 3\n\n| Model &lt;chr&gt; | Metric &lt;chr&gt; | Score &lt;dbl&gt; |\n|---|---|---|\n| RF  | Accuracy          | 0.8043478 |\n| RF  | Pos Pred Value    | 0.8488372 |\n| RF  | Sensitivity       | 0.7604167 |\n| RF  | Balanced Accuracy | 0.8063447 |\n| RF  | Kappa             | 0.6098021 |\n| DT  | Accuracy          | 0.6250000 |\n| DT  | Pos Pred Value    | 0.6336634 |\n| DT  | Sensitivity       | 0.6666667 |\n| DT  | Balanced Accuracy | 0.6231061 |\n| DT  | Kappa             | 0.2467964 |\n| LR  | Accuracy          | 0.6250000 |\n| LR  | Pos Pred Value    | 0.6849315 |\n| LR  | Sensitivity       | 0.5208333 |\n| LR  | Balanced Accuracy | 0.6297348 |\n| LR  | Kappa             | 0.2566745 |\n| NN  | Accuracy          | 0.8478261 |\n| NN  | Pos Pred Value    | 0.8541667 |\n| NN  | Sensitivity       | 0.8541667 |\n| NN  | Balanced Accuracy | 0.8475379 |\n| NN  | Kappa             | 0.6950758 |\n| SVM | Accuracy          | 0.6304348 |\n| SVM | Pos Pred Value    | 0.7000000 |\n| SVM | Sensitivity       | 0.5104167 |\n| SVM | Balanced Accuracy | 0.6358902 |\n| SVM | Kappa             | 0.2684752 |\n\n",
            "text/latex": "A data.frame: 25 × 3\n\\begin{tabular}{lll}\n Model & Metric & Score\\\\\n <chr> & <chr> & <dbl>\\\\\n\\hline\n\t RF  & Accuracy          & 0.8043478\\\\\n\t RF  & Pos Pred Value    & 0.8488372\\\\\n\t RF  & Sensitivity       & 0.7604167\\\\\n\t RF  & Balanced Accuracy & 0.8063447\\\\\n\t RF  & Kappa             & 0.6098021\\\\\n\t DT  & Accuracy          & 0.6250000\\\\\n\t DT  & Pos Pred Value    & 0.6336634\\\\\n\t DT  & Sensitivity       & 0.6666667\\\\\n\t DT  & Balanced Accuracy & 0.6231061\\\\\n\t DT  & Kappa             & 0.2467964\\\\\n\t LR  & Accuracy          & 0.6250000\\\\\n\t LR  & Pos Pred Value    & 0.6849315\\\\\n\t LR  & Sensitivity       & 0.5208333\\\\\n\t LR  & Balanced Accuracy & 0.6297348\\\\\n\t LR  & Kappa             & 0.2566745\\\\\n\t NN  & Accuracy          & 0.8478261\\\\\n\t NN  & Pos Pred Value    & 0.8541667\\\\\n\t NN  & Sensitivity       & 0.8541667\\\\\n\t NN  & Balanced Accuracy & 0.8475379\\\\\n\t NN  & Kappa             & 0.6950758\\\\\n\t SVM & Accuracy          & 0.6304348\\\\\n\t SVM & Pos Pred Value    & 0.7000000\\\\\n\t SVM & Sensitivity       & 0.5104167\\\\\n\t SVM & Balanced Accuracy & 0.6358902\\\\\n\t SVM & Kappa             & 0.2684752\\\\\n\\end{tabular}\n",
            "text/plain": [
              "   Model Metric            Score    \n",
              "1  RF    Accuracy          0.8043478\n",
              "2  RF    Pos Pred Value    0.8488372\n",
              "3  RF    Sensitivity       0.7604167\n",
              "4  RF    Balanced Accuracy 0.8063447\n",
              "5  RF    Kappa             0.6098021\n",
              "6  DT    Accuracy          0.6250000\n",
              "7  DT    Pos Pred Value    0.6336634\n",
              "8  DT    Sensitivity       0.6666667\n",
              "9  DT    Balanced Accuracy 0.6231061\n",
              "10 DT    Kappa             0.2467964\n",
              "11 LR    Accuracy          0.6250000\n",
              "12 LR    Pos Pred Value    0.6849315\n",
              "13 LR    Sensitivity       0.5208333\n",
              "14 LR    Balanced Accuracy 0.6297348\n",
              "15 LR    Kappa             0.2566745\n",
              "16 NN    Accuracy          0.8478261\n",
              "17 NN    Pos Pred Value    0.8541667\n",
              "18 NN    Sensitivity       0.8541667\n",
              "19 NN    Balanced Accuracy 0.8475379\n",
              "20 NN    Kappa             0.6950758\n",
              "21 SVM   Accuracy          0.6304348\n",
              "22 SVM   Pos Pred Value    0.7000000\n",
              "23 SVM   Sensitivity       0.5104167\n",
              "24 SVM   Balanced Accuracy 0.6358902\n",
              "25 SVM   Kappa             0.2684752"
            ]
          },
          "metadata": {}
        }
      ]
    },
    {
      "cell_type": "code",
      "source": [
        "# Draw a bar chart and add value labels to each bar\n",
        "ggplot(results, aes(x = Model, y = Score, fill = Metric)) +\n",
        "  geom_bar(stat = \"identity\", position = position_dodge(width = 0.9)) +\n",
        "  geom_text(aes(label = round(Score, 2)), position = position_dodge(width = 0.9), vjust = -0.3, size = 3) +\n",
        "  theme_minimal() +\n",
        "  labs(title = \"Comparison of Model Performance\", x = \"Models\", y = \"Scores\") +\n",
        "  scale_fill_brewer(palette = \"Set1\")"
      ],
      "metadata": {
        "colab": {
          "base_uri": "https://localhost:8080/",
          "height": 437
        },
        "id": "7WvZwIRiaLdY",
        "outputId": "8ad6c4be-bd86-45de-c86f-20afe9467c64"
      },
      "execution_count": 358,
      "outputs": [
        {
          "output_type": "display_data",
          "data": {
            "text/plain": [
              "plot without title"
            ],
            "image/png": "[encoded data removed]"
          },
          "metadata": {
            "image/png": {
              "width": 420,
              "height": 420
            }
          }
        }
      ]
    },
    {
      "cell_type": "markdown",
      "source": [
        "**Model analysis:**\n",
        "\n",
        "**Decision tree (DT):**\n",
        "The accuracy is low (0.49), indicating that its performance is average in overall prediction.\n",
        "Both the balanced accuracy (0.26) and Kappa coefficient (0.14) show poor performance, which may be due to overfitting of the model.\n",
        "The PPV (0.7) is high, indicating that its accuracy for positive prediction is good.\n",
        "The sensitivity is the lowest (0.63), indicating that the recognition of actual positive samples is poor.\n",
        "\n",
        "**Logistic regression (LR):**\n",
        "The accuracy (0.57) and balanced accuracy (0.48) are low, indicating that the overall prediction ability is limited.\n",
        "The Kappa coefficient (0.6) is good, showing some consistency.\n",
        "The PPV (0.64) and sensitivity (0.64) show that it performs moderately in predicting and identifying positive samples.\n",
        "\n",
        "**Neural network (NN):**\n",
        "The accuracy (0.82) and balanced accuracy (0.81) are high, indicating that the overall prediction ability is strong.\n",
        "The Kappa coefficient (0.87) shows a high prediction consistency.\n",
        "The PPV is low (0.4), which may be because the model is not accurate enough for positive prediction.\n",
        "\n",
        "The sensitivity (0.89) is the highest, indicating that it can identify actual positive samples very well.\n",
        "\n",
        "**Random Forest (RF):**\n",
        "It performs well on all evaluation indicators, especially accuracy (0.84) and balanced accuracy (0.82).\n",
        "The Kappa coefficient (0.88) is very high, indicating excellent prediction consistency.\n",
        "The PPV is high (0.74), indicating good accuracy for positive prediction.\n",
        "The sensitivity (0.86) is also very high, indicating strong recognition of actual positive samples.\n",
        "\n",
        "**Support Vector Machine (SVM):**\n",
        "The accuracy (0.55) and balanced accuracy (0.58) are the lowest, indicating poor overall prediction performance.\n",
        "The Kappa coefficient (0.59) and PPV (0.1) are both the lowest, indicating extremely low consistency and accuracy of positive prediction.\n",
        "The sensitivity (0.58) is also low, indicating poor recognition of actual positive samples.\n",
        "\n",
        "**Overall comparison:**\n",
        "Neural networks and random forests performed well, especially in accuracy, balanced accuracy, and Kappa coefficient. These two models performed well in handling complex data and ensuring prediction consistency.\n",
        "Support vector machines performed poorly on all indicators, especially on PPV and Kappa coefficient, which may mean that this model type is not suitable for the current dataset or its parameters need to be adjusted.\n",
        "Decision trees and logistic regression performed averagely on some indicators and poorly on other indicators, indicating that these models may need more detailed feature engineering or parameter adjustment to improve performance."
      ],
      "metadata": {
        "id": "swVw5p5GN6QD"
      }
    }
  ]
}